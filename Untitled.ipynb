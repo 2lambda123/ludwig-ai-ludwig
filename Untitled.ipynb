{
 "cells": [
  {
   "cell_type": "code",
   "execution_count": 5,
   "id": "b7edfca3-885d-47d7-bab4-4965cb56e637",
   "metadata": {},
   "outputs": [],
   "source": [
    "from dataclasses_json import dataclass_json, LetterCase\n",
    "from dataclasses import dataclass\n",
    "from typing import List\n",
    "\n",
    "\n",
    "@dataclass_json(letter_case=LetterCase.CAMEL)\n",
    "@dataclass\n",
    "class FieldInfo:\n",
    "    name: str\n",
    "    dtype: str\n",
    "    key: str = None\n",
    "    distinct_values: List = None\n",
    "    distinct_values_balance: float = 1.0\n",
    "    num_distinct_values: int = 0\n",
    "    nonnull_values: int = 0\n",
    "    image_values: int = 0\n",
    "    audio_values: int = 0\n",
    "    avg_words: int = None\n",
    "\n",
    "\n",
    "@dataclass_json(letter_case=LetterCase.CAMEL)\n",
    "@dataclass\n",
    "class DatasetInfo:\n",
    "    fields: List[FieldInfo]\n",
    "    row_count: int"
   ]
  },
  {
   "cell_type": "code",
   "execution_count": 6,
   "id": "4a65961b-da10-401b-8e34-39dac4a7bcda",
   "metadata": {},
   "outputs": [],
   "source": [
    "x = FieldInfo(name = \"feature_1\", dtype=\"int\", distinct_values=[1, 2, 3, 4, 5])"
   ]
  },
  {
   "cell_type": "code",
   "execution_count": 17,
   "id": "de344b80-da23-489d-8fc0-826b18b037ca",
   "metadata": {},
   "outputs": [],
   "source": [
    "import json\n",
    "import numpy as np\n",
    "import pandas as pd\n",
    "import datetime as dt\n",
    "\n",
    "\n",
    "class DataframeEncoder(json.JSONEncoder):\n",
    "    def default(self, obj):\n",
    "        if isinstance(obj, (set, tuple)):\n",
    "            return list(obj)\n",
    "        elif isinstance(obj, np.integer):\n",
    "            return int(obj)\n",
    "        elif isinstance(obj, np.floating):\n",
    "            return float(obj)\n",
    "        elif isinstance(obj, np.bool_):\n",
    "            return bool(obj)\n",
    "        elif isinstance(obj, np.ndarray):\n",
    "            return obj.tolist()\n",
    "        elif isinstance(obj, np.datetime64):\n",
    "            ts = obj.astype(dt.datetime) / 1000000000\n",
    "            return dt.datetime.utcfromtimestamp(ts).isoformat()\n",
    "        elif isinstance(obj, pd.Timestamp):\n",
    "            return obj.strftime(\"%Y-%m-%d %H:%M:%S\")\n",
    "        elif isinstance(obj, dt.datetime):\n",
    "            return obj.strftime(\"%Y-%m-%d %H:%M:%S\")\n",
    "        elif isinstance(obj, dt.date):\n",
    "            return obj.strftime(\"%Y-%m-%d\")\n",
    "        elif isinstance(obj, dt.time):\n",
    "            return obj.strftime(\"%H:%M:%S\")\n",
    "        elif isinstance(obj, pd.Timedelta):\n",
    "            return str(obj)\n",
    "        else:\n",
    "            print(f\"object is not serializable: {obj}\")\n",
    "            return json.JSONEncoder.default(self, obj)\n"
   ]
  },
  {
   "cell_type": "code",
   "execution_count": 22,
   "id": "b46fdceb-8729-4297-abaf-70a0cf916a9a",
   "metadata": {},
   "outputs": [
    {
     "data": {
      "text/plain": [
       "{'name': 'feature_1',\n",
       " 'dtype': 'int',\n",
       " 'key': None,\n",
       " 'distinctValues': [1, 2, 3, 4, 5],\n",
       " 'distinctValuesBalance': 1.0,\n",
       " 'numDistinctValues': 0,\n",
       " 'nonnullValues': 0,\n",
       " 'imageValues': 0,\n",
       " 'audioValues': 0,\n",
       " 'avgWords': None}"
      ]
     },
     "execution_count": 22,
     "metadata": {},
     "output_type": "execute_result"
    }
   ],
   "source": [
    "# y = json.dumps(x.to_dict(), cls=DataframeEncoder)\n",
    "x.to_dict()"
   ]
  },
  {
   "cell_type": "code",
   "execution_count": 20,
   "id": "bfce6a6e-e5d6-45d0-b300-571e94f860d2",
   "metadata": {},
   "outputs": [
    {
     "data": {
      "text/plain": [
       "'{\"name\": \"feature_1\", \"dtype\": \"int\", \"key\": null, \"distinctValues\": [1, 2, 3, 4, 5], \"distinctValuesBalance\": 1.0, \"numDistinctValues\": 0, \"nonnullValues\": 0, \"imageValues\": 0, \"audioValues\": 0, \"avgWords\": null}'"
      ]
     },
     "execution_count": 20,
     "metadata": {},
     "output_type": "execute_result"
    }
   ],
   "source": [
    "y"
   ]
  },
  {
   "cell_type": "code",
   "execution_count": null,
   "id": "33f03f2b-ec83-456e-8e37-1922c823f16b",
   "metadata": {},
   "outputs": [],
   "source": []
  }
 ],
 "metadata": {
  "kernelspec": {
   "display_name": "Python 3.8.12 ('ludwig')",
   "language": "python",
   "name": "python3"
  },
  "language_info": {
   "codemirror_mode": {
    "name": "ipython",
    "version": 3
   },
   "file_extension": ".py",
   "mimetype": "text/x-python",
   "name": "python",
   "nbconvert_exporter": "python",
   "pygments_lexer": "ipython3",
   "version": "3.8.12"
  },
  "vscode": {
   "interpreter": {
    "hash": "8892c9b1910420e3bd1222ae54ef3ecb3a2857bdf4a1f10c1bdd49886d4cd072"
   }
  }
 },
 "nbformat": 4,
 "nbformat_minor": 5
}
