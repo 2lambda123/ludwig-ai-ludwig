{
 "cells": [
  {
   "cell_type": "code",
   "execution_count": null,
   "id": "5825ab8b-672d-43a7-83e6-691a51c87eb6",
   "metadata": {},
   "outputs": [],
   "source": [
    "import shutil\n",
    "import logging\n",
    "\n",
    "from ludwig.api import LudwigModel\n",
    "from ludwig.datasets import amazon_employee_access_challenge\n",
    "\n",
    "# import yaml\n",
    "\n",
    "from ludwig.automl import create_auto_config\n",
    "from pprint import pprint\n",
    "\n",
    "# from ludwig.automl.automl import train_with_config\n",
    "\n",
    "# import pandas as pd\n",
    "\n",
    "# clean out prior results\n",
    "shutil.rmtree(\"./results\", ignore_errors=True)\n",
    "shutil.rmtree(\"~/.ludwig_cache\", ignore_errors=True)\n",
    "\n",
    "# Download and prepare the dataset\n",
    "dataset = amazon_employee_access_challenge.load(split=False)"
   ]
  },
  {
   "cell_type": "code",
   "execution_count": 43,
   "id": "cefb8298-bc48-4b3f-9d9a-8de82235ae66",
   "metadata": {},
   "outputs": [],
   "source": [
    "dataset = amazon_employee_access_challenge.load(split=False)"
   ]
  },
  {
   "cell_type": "code",
   "execution_count": 44,
   "id": "19c3f48f-2897-4ba0-b290-73db2e2c265f",
   "metadata": {},
   "outputs": [
    {
     "data": {
      "text/html": [
       "<div>\n",
       "<style scoped>\n",
       "    .dataframe tbody tr th:only-of-type {\n",
       "        vertical-align: middle;\n",
       "    }\n",
       "\n",
       "    .dataframe tbody tr th {\n",
       "        vertical-align: top;\n",
       "    }\n",
       "\n",
       "    .dataframe thead th {\n",
       "        text-align: right;\n",
       "    }\n",
       "</style>\n",
       "<table border=\"1\" class=\"dataframe\">\n",
       "  <thead>\n",
       "    <tr style=\"text-align: right;\">\n",
       "      <th></th>\n",
       "      <th>ACTION</th>\n",
       "      <th>RESOURCE</th>\n",
       "      <th>MGR_ID</th>\n",
       "      <th>ROLE_ROLLUP_1</th>\n",
       "      <th>ROLE_ROLLUP_2</th>\n",
       "      <th>ROLE_DEPTNAME</th>\n",
       "      <th>ROLE_TITLE</th>\n",
       "      <th>ROLE_FAMILY_DESC</th>\n",
       "      <th>ROLE_FAMILY</th>\n",
       "      <th>ROLE_CODE</th>\n",
       "      <th>split</th>\n",
       "      <th>id</th>\n",
       "    </tr>\n",
       "  </thead>\n",
       "  <tbody>\n",
       "    <tr>\n",
       "      <th>0</th>\n",
       "      <td>1.0</td>\n",
       "      <td>39353</td>\n",
       "      <td>85475</td>\n",
       "      <td>117961</td>\n",
       "      <td>118300</td>\n",
       "      <td>123472</td>\n",
       "      <td>117905</td>\n",
       "      <td>117906</td>\n",
       "      <td>290919</td>\n",
       "      <td>117908</td>\n",
       "      <td>0</td>\n",
       "      <td>NaN</td>\n",
       "    </tr>\n",
       "    <tr>\n",
       "      <th>1</th>\n",
       "      <td>1.0</td>\n",
       "      <td>17183</td>\n",
       "      <td>1540</td>\n",
       "      <td>117961</td>\n",
       "      <td>118343</td>\n",
       "      <td>123125</td>\n",
       "      <td>118536</td>\n",
       "      <td>118536</td>\n",
       "      <td>308574</td>\n",
       "      <td>118539</td>\n",
       "      <td>0</td>\n",
       "      <td>NaN</td>\n",
       "    </tr>\n",
       "    <tr>\n",
       "      <th>2</th>\n",
       "      <td>1.0</td>\n",
       "      <td>36724</td>\n",
       "      <td>14457</td>\n",
       "      <td>118219</td>\n",
       "      <td>118220</td>\n",
       "      <td>117884</td>\n",
       "      <td>117879</td>\n",
       "      <td>267952</td>\n",
       "      <td>19721</td>\n",
       "      <td>117880</td>\n",
       "      <td>0</td>\n",
       "      <td>NaN</td>\n",
       "    </tr>\n",
       "    <tr>\n",
       "      <th>3</th>\n",
       "      <td>1.0</td>\n",
       "      <td>36135</td>\n",
       "      <td>5396</td>\n",
       "      <td>117961</td>\n",
       "      <td>118343</td>\n",
       "      <td>119993</td>\n",
       "      <td>118321</td>\n",
       "      <td>240983</td>\n",
       "      <td>290919</td>\n",
       "      <td>118322</td>\n",
       "      <td>0</td>\n",
       "      <td>NaN</td>\n",
       "    </tr>\n",
       "    <tr>\n",
       "      <th>4</th>\n",
       "      <td>1.0</td>\n",
       "      <td>42680</td>\n",
       "      <td>5905</td>\n",
       "      <td>117929</td>\n",
       "      <td>117930</td>\n",
       "      <td>119569</td>\n",
       "      <td>119323</td>\n",
       "      <td>123932</td>\n",
       "      <td>19793</td>\n",
       "      <td>119325</td>\n",
       "      <td>0</td>\n",
       "      <td>NaN</td>\n",
       "    </tr>\n",
       "    <tr>\n",
       "      <th>...</th>\n",
       "      <td>...</td>\n",
       "      <td>...</td>\n",
       "      <td>...</td>\n",
       "      <td>...</td>\n",
       "      <td>...</td>\n",
       "      <td>...</td>\n",
       "      <td>...</td>\n",
       "      <td>...</td>\n",
       "      <td>...</td>\n",
       "      <td>...</td>\n",
       "      <td>...</td>\n",
       "      <td>...</td>\n",
       "    </tr>\n",
       "    <tr>\n",
       "      <th>91685</th>\n",
       "      <td>NaN</td>\n",
       "      <td>75078</td>\n",
       "      <td>4565</td>\n",
       "      <td>117961</td>\n",
       "      <td>118386</td>\n",
       "      <td>121961</td>\n",
       "      <td>118784</td>\n",
       "      <td>117906</td>\n",
       "      <td>290919</td>\n",
       "      <td>118786</td>\n",
       "      <td>2</td>\n",
       "      <td>58917.0</td>\n",
       "    </tr>\n",
       "    <tr>\n",
       "      <th>91686</th>\n",
       "      <td>NaN</td>\n",
       "      <td>6977</td>\n",
       "      <td>72209</td>\n",
       "      <td>117961</td>\n",
       "      <td>118225</td>\n",
       "      <td>124948</td>\n",
       "      <td>118054</td>\n",
       "      <td>118054</td>\n",
       "      <td>117887</td>\n",
       "      <td>118055</td>\n",
       "      <td>2</td>\n",
       "      <td>58918.0</td>\n",
       "    </tr>\n",
       "    <tr>\n",
       "      <th>91687</th>\n",
       "      <td>NaN</td>\n",
       "      <td>39262</td>\n",
       "      <td>6114</td>\n",
       "      <td>117961</td>\n",
       "      <td>118343</td>\n",
       "      <td>6104</td>\n",
       "      <td>118278</td>\n",
       "      <td>118260</td>\n",
       "      <td>290919</td>\n",
       "      <td>118279</td>\n",
       "      <td>2</td>\n",
       "      <td>58919.0</td>\n",
       "    </tr>\n",
       "    <tr>\n",
       "      <th>91688</th>\n",
       "      <td>NaN</td>\n",
       "      <td>1023</td>\n",
       "      <td>8674</td>\n",
       "      <td>117961</td>\n",
       "      <td>118327</td>\n",
       "      <td>120318</td>\n",
       "      <td>118321</td>\n",
       "      <td>117906</td>\n",
       "      <td>290919</td>\n",
       "      <td>118322</td>\n",
       "      <td>2</td>\n",
       "      <td>58920.0</td>\n",
       "    </tr>\n",
       "    <tr>\n",
       "      <th>91689</th>\n",
       "      <td>NaN</td>\n",
       "      <td>44977</td>\n",
       "      <td>3918</td>\n",
       "      <td>117961</td>\n",
       "      <td>118343</td>\n",
       "      <td>118660</td>\n",
       "      <td>119433</td>\n",
       "      <td>133686</td>\n",
       "      <td>118424</td>\n",
       "      <td>119435</td>\n",
       "      <td>2</td>\n",
       "      <td>58921.0</td>\n",
       "    </tr>\n",
       "  </tbody>\n",
       "</table>\n",
       "<p>91690 rows × 12 columns</p>\n",
       "</div>"
      ],
      "text/plain": [
       "       ACTION  RESOURCE  MGR_ID  ROLE_ROLLUP_1  ROLE_ROLLUP_2  ROLE_DEPTNAME  \\\n",
       "0         1.0     39353   85475         117961         118300         123472   \n",
       "1         1.0     17183    1540         117961         118343         123125   \n",
       "2         1.0     36724   14457         118219         118220         117884   \n",
       "3         1.0     36135    5396         117961         118343         119993   \n",
       "4         1.0     42680    5905         117929         117930         119569   \n",
       "...       ...       ...     ...            ...            ...            ...   \n",
       "91685     NaN     75078    4565         117961         118386         121961   \n",
       "91686     NaN      6977   72209         117961         118225         124948   \n",
       "91687     NaN     39262    6114         117961         118343           6104   \n",
       "91688     NaN      1023    8674         117961         118327         120318   \n",
       "91689     NaN     44977    3918         117961         118343         118660   \n",
       "\n",
       "       ROLE_TITLE  ROLE_FAMILY_DESC  ROLE_FAMILY  ROLE_CODE  split       id  \n",
       "0          117905            117906       290919     117908      0      NaN  \n",
       "1          118536            118536       308574     118539      0      NaN  \n",
       "2          117879            267952        19721     117880      0      NaN  \n",
       "3          118321            240983       290919     118322      0      NaN  \n",
       "4          119323            123932        19793     119325      0      NaN  \n",
       "...           ...               ...          ...        ...    ...      ...  \n",
       "91685      118784            117906       290919     118786      2  58917.0  \n",
       "91686      118054            118054       117887     118055      2  58918.0  \n",
       "91687      118278            118260       290919     118279      2  58919.0  \n",
       "91688      118321            117906       290919     118322      2  58920.0  \n",
       "91689      119433            133686       118424     119435      2  58921.0  \n",
       "\n",
       "[91690 rows x 12 columns]"
      ]
     },
     "execution_count": 44,
     "metadata": {},
     "output_type": "execute_result"
    }
   ],
   "source": [
    "dataset"
   ]
  },
  {
   "cell_type": "code",
   "execution_count": 45,
   "id": "791a40db-8936-4607-99c4-ad6d3883fd4e",
   "metadata": {},
   "outputs": [],
   "source": [
    "auto_config = create_auto_config(\n",
    "    dataset=training_set,\n",
    "    target=\"ACTION\",\n",
    "    time_limit_s=7200,\n",
    "    tune_for_memory=False,\n",
    ")"
   ]
  },
  {
   "cell_type": "code",
   "execution_count": 48,
   "id": "e38b6e6a-7907-4a2e-b47d-a0a2ca0063a5",
   "metadata": {},
   "outputs": [
    {
     "name": "stdout",
     "output_type": "stream",
     "text": [
      "{'trainer': {'batch_size': 'auto', 'learning_rate': 'auto', 'learning_rate_scaling': 'sqrt', 'decay': True, 'decay_steps': 20000, 'decay_rate': 0.8, 'optimizer': {'type': 'adam'}, 'validation_field': 'ACTION', 'validation_metric': 'roc_auc'}, 'hyperopt': {'search_alg': {'type': 'hyperopt', 'random_state_seed': 42}, 'executor': {'type': 'ray', 'num_samples': 10, 'time_budget_s': 7200, 'scheduler': {'type': 'async_hyperband', 'time_attr': 'time_total_s', 'max_t': 7200, 'grace_period': 72, 'reduction_factor': 5}, 'cpu_resources_per_trial': 1}, 'parameters': {'trainer.learning_rate': {'space': 'choice', 'categories': [0.005, 0.01, 0.02, 0.025]}, 'trainer.decay_rate': {'space': 'choice', 'categories': [0.8, 0.9, 0.95]}, 'trainer.decay_steps': {'space': 'choice', 'categories': [500, 2000, 8000, 10000, 20000]}, 'combiner.size': {'space': 'choice', 'categories': [8, 16, 24, 32, 64]}, 'combiner.output_size': {'space': 'choice', 'categories': [8, 16, 24, 32, 64, 128]}, 'combiner.num_steps': {'space': 'choice', 'categories': [3, 4, 5, 6, 7, 8, 9, 10]}, 'combiner.relaxation_factor': {'space': 'choice', 'categories': [1.0, 1.2, 1.5, 2.0]}, 'combiner.sparsity': {'space': 'choice', 'categories': [0.0, 1e-06, 0.0001, 0.001, 0.01, 0.1]}, 'combiner.bn_virtual_bs': {'space': 'choice', 'categories': [256, 512, 1024, 2048, 4096]}, 'combiner.bn_momentum': {'space': 'choice', 'categories': [0.4, 0.3, 0.2, 0.1, 0.05, 0.02]}}, 'output_feature': 'ACTION', 'metric': 'roc_auc', 'goal': 'maximize'}, 'input_features': [{'name': 'RESOURCE', 'column': 'RESOURCE', 'type': 'number'}, {'name': 'MGR_ID', 'column': 'MGR_ID', 'type': 'number'}, {'name': 'ROLE_ROLLUP_1', 'column': 'ROLE_ROLLUP_1', 'type': 'number'}, {'name': 'ROLE_ROLLUP_2', 'column': 'ROLE_ROLLUP_2', 'type': 'number'}, {'name': 'ROLE_DEPTNAME', 'column': 'ROLE_DEPTNAME', 'type': 'number'}, {'name': 'ROLE_TITLE', 'column': 'ROLE_TITLE', 'type': 'number'}, {'name': 'ROLE_FAMILY_DESC', 'column': 'ROLE_FAMILY_DESC', 'type': 'number'}, {'name': 'ROLE_FAMILY', 'column': 'ROLE_FAMILY', 'type': 'number'}, {'name': 'ROLE_CODE', 'column': 'ROLE_CODE', 'type': 'number'}], 'output_features': [{'name': 'ACTION', 'column': 'ACTION', 'type': 'binary'}], 'combiner': {'type': 'tabnet'}}\n"
     ]
    },
    {
     "name": "stderr",
     "output_type": "stream",
     "text": [
      "2022-08-11 12:12:12,755\tWARNING worker.py:1382 -- WARNING: 70 PYTHON worker processes have been started on node: fd3a81cc76352c369488e0f6bbd338a7f5282758c4627c4e676f0fc0 with address: 127.0.0.1. This could be a result of using a large number of actors, or due to tasks blocked in ray.get() calls (see https://github.com/ray-project/ray/issues/3644 for some discussion of workarounds).\n"
     ]
    }
   ],
   "source": [
    "import yaml\n",
    "print(auto_config)\n",
    "f = open('downloads/amazon_auto_config.yaml', 'w+')\n",
    "yaml.dump(auto_config, f, allow_unicode=True)"
   ]
  },
  {
   "cell_type": "code",
   "execution_count": 24,
   "id": "70e91fc1-927e-495d-84c6-5b563571890f",
   "metadata": {},
   "outputs": [],
   "source": [
    "dataset = amazon_employee_access_challenge.load(split=False)"
   ]
  },
  {
   "cell_type": "code",
   "execution_count": 37,
   "id": "f3f6ddfe-17ae-4fdc-9fd8-a9fc6b7dfc5d",
   "metadata": {},
   "outputs": [
    {
     "name": "stdout",
     "output_type": "stream",
     "text": [
      "58921\n",
      "32769\n"
     ]
    }
   ],
   "source": [
    "print(dataset[\"ACTION\"].isna().sum())\n",
    "print((dataset[\"split\"] == 0).sum())"
   ]
  },
  {
   "cell_type": "code",
   "execution_count": 40,
   "id": "1e08a550-31f5-457c-8bb2-742d96c8a047",
   "metadata": {},
   "outputs": [
    {
     "name": "stdout",
     "output_type": "stream",
     "text": [
      "0        117961\n",
      "1        117961\n",
      "2        118219\n",
      "3        117961\n",
      "4        117929\n",
      "          ...  \n",
      "91685    117961\n",
      "91686    117961\n",
      "91687    117961\n",
      "91688    117961\n",
      "91689    117961\n",
      "Name: ROLE_ROLLUP_1, Length: 91690, dtype: int64\n"
     ]
    },
    {
     "name": "stderr",
     "output_type": "stream",
     "text": [
      "2022-08-10 20:42:01,314\tWARNING worker.py:1382 -- WARNING: 60 PYTHON worker processes have been started on node: fd3a81cc76352c369488e0f6bbd338a7f5282758c4627c4e676f0fc0 with address: 127.0.0.1. This could be a result of using a large number of actors, or due to tasks blocked in ray.get() calls (see https://github.com/ray-project/ray/issues/3644 for some discussion of workarounds).\n"
     ]
    }
   ],
   "source": [
    "print(dataset[\"ROLE_ROLLUP_1\"])"
   ]
  },
  {
   "cell_type": "code",
   "execution_count": null,
   "id": "5cff2fc2-d8e6-4f7b-9bdf-6dcdcdb3eee7",
   "metadata": {},
   "outputs": [],
   "source": []
  }
 ],
 "metadata": {
  "kernelspec": {
   "display_name": "Python 3 (ipykernel)",
   "language": "python",
   "name": "python3"
  },
  "language_info": {
   "codemirror_mode": {
    "name": "ipython",
    "version": 3
   },
   "file_extension": ".py",
   "mimetype": "text/x-python",
   "name": "python",
   "nbconvert_exporter": "python",
   "pygments_lexer": "ipython3",
   "version": "3.8.13"
  },
  "vscode": {
   "interpreter": {
    "hash": "8892c9b1910420e3bd1222ae54ef3ecb3a2857bdf4a1f10c1bdd49886d4cd072"
   }
  }
 },
 "nbformat": 4,
 "nbformat_minor": 5
}
