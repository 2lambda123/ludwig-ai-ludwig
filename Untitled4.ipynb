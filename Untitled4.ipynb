{
 "cells": [
  {
   "cell_type": "code",
   "execution_count": 5,
   "id": "5fd98d64-2091-4a1b-aa02-10b7ff755735",
   "metadata": {},
   "outputs": [
    {
     "name": "stdout",
     "output_type": "stream",
     "text": [
      "Keys: <KeysViewHDF5 ['Age_DF6VxJ', 'Embarked_mZFLky', 'Fare_DF6VxJ', 'Parch_mZFLky', 'Pclass_mZFLky', 'Sex_mZFLky', 'SibSp_mZFLky', 'Survived_mZFLky', 'columns']>\n",
      "<class 'h5py._hl.dataset.Dataset'>\n",
      "[b'Pclass_mZFLky' b'Sex_mZFLky' b'Age_DF6VxJ' b'SibSp_mZFLky'\n",
      " b'Parch_mZFLky' b'Fare_DF6VxJ' b'Embarked_mZFLky' b'Survived_mZFLky']\n"
     ]
    }
   ],
   "source": [
    "# /Users/justinzhao/ludwig/954a72201a4d11edb9a03277827446a8.training.hdf5\n",
    "import h5py\n",
    "filename = \"/Users/justinzhao/ludwig/954a72201a4d11edb9a03277827446a8.training.hdf5\"\n",
    "\n",
    "with h5py.File(filename, \"r\") as f:\n",
    "    # Print all root level object names (aka keys) \n",
    "    # these can be group or dataset names \n",
    "    print(\"Keys: %s\" % f.keys())\n",
    "    # get first object name/key; may or may NOT be a group\n",
    "    # a_group_key = list(f.keys())[0]\n",
    "    a_group_key = \"columns\"\n",
    "\n",
    "    # get the object type for a_group_key: usually group or dataset\n",
    "    print(type(f[a_group_key])) \n",
    "\n",
    "    # If a_group_key is a group name, \n",
    "    # this gets the object names in the group and returns as a list\n",
    "    data = list(f[a_group_key])\n",
    "\n",
    "    # If a_group_key is a dataset name, \n",
    "    # this gets the dataset values and returns as a list\n",
    "    data = list(f[a_group_key])\n",
    "    # preferred methods to get dataset values:\n",
    "    ds_obj = f[a_group_key]      # returns as a h5py dataset object\n",
    "    ds_arr = f[a_group_key][()]  # returns as a numpy array\n",
    "    \n",
    "    print(ds_arr)"
   ]
  },
  {
   "cell_type": "code",
   "execution_count": null,
   "id": "823e8822-8870-4901-ae16-4b95007f1d84",
   "metadata": {},
   "outputs": [],
   "source": []
  }
 ],
 "metadata": {
  "kernelspec": {
   "display_name": "Python 3 (ipykernel)",
   "language": "python",
   "name": "python3"
  },
  "language_info": {
   "codemirror_mode": {
    "name": "ipython",
    "version": 3
   },
   "file_extension": ".py",
   "mimetype": "text/x-python",
   "name": "python",
   "nbconvert_exporter": "python",
   "pygments_lexer": "ipython3",
   "version": "3.8.13"
  }
 },
 "nbformat": 4,
 "nbformat_minor": 5
}
