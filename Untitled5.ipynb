{
 "cells": [
  {
   "cell_type": "code",
   "execution_count": 2,
   "id": "e2706237-fb1b-4aaa-997b-dc4cbc940948",
   "metadata": {},
   "outputs": [],
   "source": [
    "x = {\n",
    "    \"a\": 1,\n",
    "    \"b\": 2\n",
    "}\n",
    "y = {\n",
    "    \"a\": 2,\n",
    "    \"b\": 1\n",
    "} \n",
    "\n",
    "z = [x, y]"
   ]
  },
  {
   "cell_type": "code",
   "execution_count": 5,
   "id": "7ca7c74b-5c28-4e40-ad50-02457969568a",
   "metadata": {},
   "outputs": [],
   "source": [
    "from statistics import mean\n",
    "\n",
    "average_run = {metric: mean([run[metric] for run in z]) for metric in z[0].keys()}"
   ]
  },
  {
   "cell_type": "code",
   "execution_count": 6,
   "id": "3b117f77-d575-464b-ab8a-b5aee0aaa10f",
   "metadata": {},
   "outputs": [
    {
     "data": {
      "text/plain": [
       "{'a': 1.5, 'b': 1.5}"
      ]
     },
     "execution_count": 6,
     "metadata": {},
     "output_type": "execute_result"
    }
   ],
   "source": [
    "average_run"
   ]
  },
  {
   "cell_type": "code",
   "execution_count": null,
   "id": "1bc4b0b0-b8a4-4b14-8e39-f230c119f62c",
   "metadata": {},
   "outputs": [],
   "source": []
  }
 ],
 "metadata": {
  "kernelspec": {
   "display_name": "Python 3 (ipykernel)",
   "language": "python",
   "name": "python3"
  },
  "language_info": {
   "codemirror_mode": {
    "name": "ipython",
    "version": 3
   },
   "file_extension": ".py",
   "mimetype": "text/x-python",
   "name": "python",
   "nbconvert_exporter": "python",
   "pygments_lexer": "ipython3",
   "version": "3.8.13"
  }
 },
 "nbformat": 4,
 "nbformat_minor": 5
}
