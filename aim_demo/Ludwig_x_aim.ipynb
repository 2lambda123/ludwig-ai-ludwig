{
 "cells": [
  {
   "cell_type": "markdown",
   "metadata": {
    "id": "6YuWG703vf6O"
   },
   "source": [
    "# Deep Learning for Developers with Ludwig"
   ]
  },
  {
   "cell_type": "markdown",
   "metadata": {
    "id": "AVGL9YQcvpA9"
   },
   "source": [
    "<a href=\"https://user-images.githubusercontent.com/13848158/154338760-edfe1885-06f3-4e02-87fe-4b13a403516b.png\"><img src=\"https://user-images.githubusercontent.com/13848158/154338760-edfe1885-06f3-4e02-87fe-4b13a403516b.png\" title=\"source: imgur.com\" /></a>\n",
    "\n",
    "Ludwig is a toolbox built on top of TensorFlow that allows users to train and test deep learning models without the need to write code.\n",
    "\n",
    "All you need to provide is a dataset file containing your data, a list of columns to use as inputs, and a list of columns to use as outputs, Ludwig will do the rest. Simple commands can be used to train models both locally and in a distributed way, and to use them to predict new data.\n",
    "\n",
    "A programmatic API is also available in order to use Ludwig from your python code. A suite of visualization tools allows you to analyze models' training and test performance and to compare them.\n",
    "\n",
    "### Why use Aim\n",
    "\n",
    "pass\n",
    "\n",
    "### Using Aim with Ludwig\n",
    "pass\n",
    "\n",
    "Training is easy:\n",
    "`ludwig train --dataset DATA_PATH --config_file CONFIG_PATH --aim`"
   ]
  },
  {
   "cell_type": "markdown",
   "metadata": {
    "id": "ymCLdZvUwmX8"
   },
   "source": [
    "# Installation and demo"
   ]
  },
  {
   "cell_type": "code",
   "execution_count": 1,
   "metadata": {
    "id": "wdI2UgZbEePT"
   },
   "outputs": [],
   "source": [
    "# ! pip install git+http://github.com/uber/ludwig.git -qq\n",
    "# ! pip install ludwig[serve] -qq\n",
    "# ! pip install aim -qq "
   ]
  },
  {
   "cell_type": "code",
   "execution_count": 2,
   "metadata": {
    "id": "62KTErutC2SN"
   },
   "outputs": [
    {
     "name": "stderr",
     "output_type": "stream",
     "text": [
      "2022-05-03 23:09:39.501667: I tensorflow/stream_executor/platform/default/dso_loader.cc:48] Successfully opened dynamic library libcudart.so.10.1\n"
     ]
    },
    {
     "name": "stdout",
     "output_type": "stream",
     "text": [
      "Found GPU at: /device:GPU:0\n"
     ]
    },
    {
     "name": "stderr",
     "output_type": "stream",
     "text": [
      "2022-05-03 23:09:41.186360: I tensorflow/core/platform/cpu_feature_guard.cc:142] This TensorFlow binary is optimized with oneAPI Deep Neural Network Library (oneDNN)to use the following CPU instructions in performance-critical operations:  AVX2 FMA\n",
      "To enable them in other operations, rebuild TensorFlow with the appropriate compiler flags.\n",
      "2022-05-03 23:09:41.192910: I tensorflow/core/platform/profile_utils/cpu_utils.cc:104] CPU Frequency: 2799925000 Hz\n",
      "2022-05-03 23:09:41.193677: I tensorflow/compiler/xla/service/service.cc:168] XLA service 0x562deac3d6b0 initialized for platform Host (this does not guarantee that XLA will be used). Devices:\n",
      "2022-05-03 23:09:41.193694: I tensorflow/compiler/xla/service/service.cc:176]   StreamExecutor device (0): Host, Default Version\n",
      "2022-05-03 23:09:41.195740: I tensorflow/stream_executor/platform/default/dso_loader.cc:48] Successfully opened dynamic library libcuda.so.1\n",
      "2022-05-03 23:09:41.295358: I tensorflow/stream_executor/cuda/cuda_gpu_executor.cc:982] successful NUMA node read from SysFS had negative value (-1), but there must be at least one NUMA node, so returning NUMA node zero\n",
      "2022-05-03 23:09:41.295787: I tensorflow/compiler/xla/service/service.cc:168] XLA service 0x562ded238b30 initialized for platform CUDA (this does not guarantee that XLA will be used). Devices:\n",
      "2022-05-03 23:09:41.295805: I tensorflow/compiler/xla/service/service.cc:176]   StreamExecutor device (0): GeForce GTX 1060, Compute Capability 6.1\n",
      "2022-05-03 23:09:41.295977: I tensorflow/stream_executor/cuda/cuda_gpu_executor.cc:982] successful NUMA node read from SysFS had negative value (-1), but there must be at least one NUMA node, so returning NUMA node zero\n",
      "2022-05-03 23:09:41.296279: I tensorflow/core/common_runtime/gpu/gpu_device.cc:1716] Found device 0 with properties: \n",
      "pciBusID: 0000:01:00.0 name: GeForce GTX 1060 computeCapability: 6.1\n",
      "coreClock: 1.6705GHz coreCount: 10 deviceMemorySize: 5.94GiB deviceMemoryBandwidth: 178.99GiB/s\n",
      "2022-05-03 23:09:41.296304: I tensorflow/stream_executor/platform/default/dso_loader.cc:48] Successfully opened dynamic library libcudart.so.10.1\n",
      "2022-05-03 23:09:41.297998: I tensorflow/stream_executor/platform/default/dso_loader.cc:48] Successfully opened dynamic library libcublas.so.10\n",
      "2022-05-03 23:09:41.299494: I tensorflow/stream_executor/platform/default/dso_loader.cc:48] Successfully opened dynamic library libcufft.so.10\n",
      "2022-05-03 23:09:41.299762: I tensorflow/stream_executor/platform/default/dso_loader.cc:48] Successfully opened dynamic library libcurand.so.10\n",
      "2022-05-03 23:09:41.301521: I tensorflow/stream_executor/platform/default/dso_loader.cc:48] Successfully opened dynamic library libcusolver.so.10\n",
      "2022-05-03 23:09:41.302504: I tensorflow/stream_executor/platform/default/dso_loader.cc:48] Successfully opened dynamic library libcusparse.so.10\n",
      "2022-05-03 23:09:41.306258: I tensorflow/stream_executor/platform/default/dso_loader.cc:48] Successfully opened dynamic library libcudnn.so.7\n",
      "2022-05-03 23:09:41.306418: I tensorflow/stream_executor/cuda/cuda_gpu_executor.cc:982] successful NUMA node read from SysFS had negative value (-1), but there must be at least one NUMA node, so returning NUMA node zero\n",
      "2022-05-03 23:09:41.306839: I tensorflow/stream_executor/cuda/cuda_gpu_executor.cc:982] successful NUMA node read from SysFS had negative value (-1), but there must be at least one NUMA node, so returning NUMA node zero\n",
      "2022-05-03 23:09:41.307117: I tensorflow/core/common_runtime/gpu/gpu_device.cc:1858] Adding visible gpu devices: 0\n",
      "2022-05-03 23:09:41.307152: I tensorflow/stream_executor/platform/default/dso_loader.cc:48] Successfully opened dynamic library libcudart.so.10.1\n",
      "2022-05-03 23:09:41.726172: I tensorflow/core/common_runtime/gpu/gpu_device.cc:1257] Device interconnect StreamExecutor with strength 1 edge matrix:\n",
      "2022-05-03 23:09:41.726200: I tensorflow/core/common_runtime/gpu/gpu_device.cc:1263]      0 \n",
      "2022-05-03 23:09:41.726207: I tensorflow/core/common_runtime/gpu/gpu_device.cc:1276] 0:   N \n",
      "2022-05-03 23:09:41.726390: I tensorflow/stream_executor/cuda/cuda_gpu_executor.cc:982] successful NUMA node read from SysFS had negative value (-1), but there must be at least one NUMA node, so returning NUMA node zero\n",
      "2022-05-03 23:09:41.726769: I tensorflow/stream_executor/cuda/cuda_gpu_executor.cc:982] successful NUMA node read from SysFS had negative value (-1), but there must be at least one NUMA node, so returning NUMA node zero\n",
      "2022-05-03 23:09:41.727197: I tensorflow/core/common_runtime/gpu/gpu_device.cc:1402] Created TensorFlow device (/device:GPU:0 with 4542 MB memory) -> physical GPU (device: 0, name: GeForce GTX 1060, pci bus id: 0000:01:00.0, compute capability: 6.1)\n"
     ]
    }
   ],
   "source": [
    "import tensorflow as tf\n",
    "device_name = tf.test.gpu_device_name()\n",
    "if device_name != '/device:GPU:0':\n",
    "  raise SystemError('GPU device not found')\n",
    "print('Found GPU at: {}'.format(device_name))"
   ]
  },
  {
   "cell_type": "code",
   "execution_count": null,
   "metadata": {},
   "outputs": [],
   "source": []
  },
  {
   "cell_type": "code",
   "execution_count": 3,
   "metadata": {},
   "outputs": [
    {
     "name": "stdout",
     "output_type": "stream",
     "text": [
      "['/device:CPU:0', '/device:XLA_CPU:0', '/device:XLA_GPU:0', '/device:GPU:0']\n"
     ]
    },
    {
     "name": "stderr",
     "output_type": "stream",
     "text": [
      "2022-05-03 23:09:41.734378: I tensorflow/stream_executor/cuda/cuda_gpu_executor.cc:982] successful NUMA node read from SysFS had negative value (-1), but there must be at least one NUMA node, so returning NUMA node zero\n",
      "2022-05-03 23:09:41.734719: I tensorflow/core/common_runtime/gpu/gpu_device.cc:1716] Found device 0 with properties: \n",
      "pciBusID: 0000:01:00.0 name: GeForce GTX 1060 computeCapability: 6.1\n",
      "coreClock: 1.6705GHz coreCount: 10 deviceMemorySize: 5.94GiB deviceMemoryBandwidth: 178.99GiB/s\n",
      "2022-05-03 23:09:41.734751: I tensorflow/stream_executor/platform/default/dso_loader.cc:48] Successfully opened dynamic library libcudart.so.10.1\n",
      "2022-05-03 23:09:41.734777: I tensorflow/stream_executor/platform/default/dso_loader.cc:48] Successfully opened dynamic library libcublas.so.10\n",
      "2022-05-03 23:09:41.734793: I tensorflow/stream_executor/platform/default/dso_loader.cc:48] Successfully opened dynamic library libcufft.so.10\n",
      "2022-05-03 23:09:41.734807: I tensorflow/stream_executor/platform/default/dso_loader.cc:48] Successfully opened dynamic library libcurand.so.10\n",
      "2022-05-03 23:09:41.734821: I tensorflow/stream_executor/platform/default/dso_loader.cc:48] Successfully opened dynamic library libcusolver.so.10\n",
      "2022-05-03 23:09:41.734835: I tensorflow/stream_executor/platform/default/dso_loader.cc:48] Successfully opened dynamic library libcusparse.so.10\n",
      "2022-05-03 23:09:41.734850: I tensorflow/stream_executor/platform/default/dso_loader.cc:48] Successfully opened dynamic library libcudnn.so.7\n",
      "2022-05-03 23:09:41.734913: I tensorflow/stream_executor/cuda/cuda_gpu_executor.cc:982] successful NUMA node read from SysFS had negative value (-1), but there must be at least one NUMA node, so returning NUMA node zero\n",
      "2022-05-03 23:09:41.735233: I tensorflow/stream_executor/cuda/cuda_gpu_executor.cc:982] successful NUMA node read from SysFS had negative value (-1), but there must be at least one NUMA node, so returning NUMA node zero\n",
      "2022-05-03 23:09:41.735501: I tensorflow/core/common_runtime/gpu/gpu_device.cc:1858] Adding visible gpu devices: 0\n",
      "2022-05-03 23:09:41.735525: I tensorflow/core/common_runtime/gpu/gpu_device.cc:1257] Device interconnect StreamExecutor with strength 1 edge matrix:\n",
      "2022-05-03 23:09:41.735531: I tensorflow/core/common_runtime/gpu/gpu_device.cc:1263]      0 \n",
      "2022-05-03 23:09:41.735536: I tensorflow/core/common_runtime/gpu/gpu_device.cc:1276] 0:   N \n",
      "2022-05-03 23:09:41.735615: I tensorflow/stream_executor/cuda/cuda_gpu_executor.cc:982] successful NUMA node read from SysFS had negative value (-1), but there must be at least one NUMA node, so returning NUMA node zero\n",
      "2022-05-03 23:09:41.735933: I tensorflow/stream_executor/cuda/cuda_gpu_executor.cc:982] successful NUMA node read from SysFS had negative value (-1), but there must be at least one NUMA node, so returning NUMA node zero\n",
      "2022-05-03 23:09:41.736220: I tensorflow/core/common_runtime/gpu/gpu_device.cc:1402] Created TensorFlow device (/device:GPU:0 with 4542 MB memory) -> physical GPU (device: 0, name: GeForce GTX 1060, pci bus id: 0000:01:00.0, compute capability: 6.1)\n"
     ]
    }
   ],
   "source": [
    "from tensorflow.python.client import device_lib\n",
    "def get_available_devices():\n",
    "    local_device_protos = device_lib.list_local_devices()\n",
    "    return [x.name for x in local_device_protos]\n",
    "print(get_available_devices()) "
   ]
  },
  {
   "cell_type": "markdown",
   "metadata": {
    "id": "G8HIcSwSwtLs"
   },
   "source": [
    "### Text Classification\n",
    "\n",
    "Text classification also known as text tagging or text categorization is the process of categorizing text into organized groups. By using Natural Language Processing (NLP), text classifiers can automatically analyze text and then assign a set of pre-defined tags or categories based on its content.\n",
    "\n",
    "Unstructured text is everywhere, such as emails, chat conversations, websites, and social media but it’s hard to extract value from this data unless it’s organized in a certain way. Doing so used to be a difficult and expensive process since it required spending time and resources to manually sort the data or creating handcrafted rules that are difficult to maintain. \n",
    "\n",
    "Let's build a text classifier using ludwig.\n",
    "\n",
    "### Kaggle's AGNews Dataset\n",
    "AG is a collection of more than 1 million news articles. News articles have been gathered from more than 2000  news sources by ComeToMyHead in more than 1 year of activity. ComeToMyHead is an academic news search engine which has been running since July, 2004. The dataset is provided by the academic comunity for research purposes in data mining (clustering, classification, etc), information retrieval (ranking, search, etc), xml, data compression, data streaming, and any other non-commercial activity. For more information, please refer to the link http://www.di.unipi.it/~gulli/AG_corpus_of_news_articles.html .\n",
    "\n",
    "The articles are divided into 4 classes:\n",
    "```\n",
    "World\n",
    "Sports\n",
    "Business\n",
    "Sci/Tech\n",
    "```\n",
    "Let's download the dataset. The dataset from kaggle has been pre-processed and uploaded to W&B as dataset artifact. It can be downloaded using the API that comes associated with each artifact."
   ]
  },
  {
   "cell_type": "code",
   "execution_count": 4,
   "metadata": {
    "id": "g4gOi3oBLKmA"
   },
   "outputs": [],
   "source": [
    "import aim"
   ]
  },
  {
   "cell_type": "code",
   "execution_count": null,
   "metadata": {
    "id": "v5lgKtjJL2Jr"
   },
   "outputs": [],
   "source": []
  },
  {
   "cell_type": "code",
   "execution_count": 5,
   "metadata": {
    "id": "jC1PZ7AA1RjC"
   },
   "outputs": [],
   "source": [
    "id_to_label = {\n",
    "   1: 'World', 2: 'Sports', 3: 'Business', 4: 'Sci/Tech'\n",
    "    }"
   ]
  },
  {
   "cell_type": "code",
   "execution_count": 6,
   "metadata": {
    "id": "lNi-TB-kzJyk"
   },
   "outputs": [
    {
     "data": {
      "text/html": [
       "<div>\n",
       "<style scoped>\n",
       "    .dataframe tbody tr th:only-of-type {\n",
       "        vertical-align: middle;\n",
       "    }\n",
       "\n",
       "    .dataframe tbody tr th {\n",
       "        vertical-align: top;\n",
       "    }\n",
       "\n",
       "    .dataframe thead th {\n",
       "        text-align: right;\n",
       "    }\n",
       "</style>\n",
       "<table border=\"1\" class=\"dataframe\">\n",
       "  <thead>\n",
       "    <tr style=\"text-align: right;\">\n",
       "      <th></th>\n",
       "      <th>Class Index</th>\n",
       "      <th>Title</th>\n",
       "      <th>Description</th>\n",
       "    </tr>\n",
       "  </thead>\n",
       "  <tbody>\n",
       "    <tr>\n",
       "      <th>0</th>\n",
       "      <td>3</td>\n",
       "      <td>Wall St. Bears Claw Back Into the Black (Reuters)</td>\n",
       "      <td>Reuters - Short-sellers, Wall Street's dwindli...</td>\n",
       "    </tr>\n",
       "    <tr>\n",
       "      <th>1</th>\n",
       "      <td>3</td>\n",
       "      <td>Carlyle Looks Toward Commercial Aerospace (Reu...</td>\n",
       "      <td>Reuters - Private investment firm Carlyle Grou...</td>\n",
       "    </tr>\n",
       "    <tr>\n",
       "      <th>2</th>\n",
       "      <td>3</td>\n",
       "      <td>Oil and Economy Cloud Stocks' Outlook (Reuters)</td>\n",
       "      <td>Reuters - Soaring crude prices plus worries\\ab...</td>\n",
       "    </tr>\n",
       "    <tr>\n",
       "      <th>3</th>\n",
       "      <td>3</td>\n",
       "      <td>Iraq Halts Oil Exports from Main Southern Pipe...</td>\n",
       "      <td>Reuters - Authorities have halted oil export\\f...</td>\n",
       "    </tr>\n",
       "    <tr>\n",
       "      <th>4</th>\n",
       "      <td>3</td>\n",
       "      <td>Oil prices soar to all-time record, posing new...</td>\n",
       "      <td>AFP - Tearaway world oil prices, toppling reco...</td>\n",
       "    </tr>\n",
       "  </tbody>\n",
       "</table>\n",
       "</div>"
      ],
      "text/plain": [
       "   Class Index                                              Title  \\\n",
       "0            3  Wall St. Bears Claw Back Into the Black (Reuters)   \n",
       "1            3  Carlyle Looks Toward Commercial Aerospace (Reu...   \n",
       "2            3    Oil and Economy Cloud Stocks' Outlook (Reuters)   \n",
       "3            3  Iraq Halts Oil Exports from Main Southern Pipe...   \n",
       "4            3  Oil prices soar to all-time record, posing new...   \n",
       "\n",
       "                                         Description  \n",
       "0  Reuters - Short-sellers, Wall Street's dwindli...  \n",
       "1  Reuters - Private investment firm Carlyle Grou...  \n",
       "2  Reuters - Soaring crude prices plus worries\\ab...  \n",
       "3  Reuters - Authorities have halted oil export\\f...  \n",
       "4  AFP - Tearaway world oil prices, toppling reco...  "
      ]
     },
     "execution_count": 6,
     "metadata": {},
     "output_type": "execute_result"
    }
   ],
   "source": [
    "# import pandas as pd\n",
    "\n",
    "# train_csv = pd.read_csv(\"train.csv\")\n",
    "# train_csv.head()"
   ]
  },
  {
   "cell_type": "code",
   "execution_count": 26,
   "metadata": {},
   "outputs": [
    {
     "data": {
      "text/html": [
       "<div>\n",
       "<style scoped>\n",
       "    .dataframe tbody tr th:only-of-type {\n",
       "        vertical-align: middle;\n",
       "    }\n",
       "\n",
       "    .dataframe tbody tr th {\n",
       "        vertical-align: top;\n",
       "    }\n",
       "\n",
       "    .dataframe thead th {\n",
       "        text-align: right;\n",
       "    }\n",
       "</style>\n",
       "<table border=\"1\" class=\"dataframe\">\n",
       "  <thead>\n",
       "    <tr style=\"text-align: right;\">\n",
       "      <th></th>\n",
       "      <th>ClassIndex</th>\n",
       "      <th>Title</th>\n",
       "      <th>Description</th>\n",
       "    </tr>\n",
       "  </thead>\n",
       "  <tbody>\n",
       "    <tr>\n",
       "      <th>0</th>\n",
       "      <td>3</td>\n",
       "      <td>Wall St. Bears Claw Back Into the Black (Reuters)</td>\n",
       "      <td>Reuters - Short-sellers, Wall Street's dwindli...</td>\n",
       "    </tr>\n",
       "    <tr>\n",
       "      <th>1</th>\n",
       "      <td>3</td>\n",
       "      <td>Carlyle Looks Toward Commercial Aerospace (Reu...</td>\n",
       "      <td>Reuters - Private investment firm Carlyle Grou...</td>\n",
       "    </tr>\n",
       "    <tr>\n",
       "      <th>2</th>\n",
       "      <td>3</td>\n",
       "      <td>Oil and Economy Cloud Stocks' Outlook (Reuters)</td>\n",
       "      <td>Reuters - Soaring crude prices plus worries\\ab...</td>\n",
       "    </tr>\n",
       "    <tr>\n",
       "      <th>3</th>\n",
       "      <td>3</td>\n",
       "      <td>Iraq Halts Oil Exports from Main Southern Pipe...</td>\n",
       "      <td>Reuters - Authorities have halted oil export\\f...</td>\n",
       "    </tr>\n",
       "    <tr>\n",
       "      <th>4</th>\n",
       "      <td>3</td>\n",
       "      <td>Oil prices soar to all-time record, posing new...</td>\n",
       "      <td>AFP - Tearaway world oil prices, toppling reco...</td>\n",
       "    </tr>\n",
       "    <tr>\n",
       "      <th>...</th>\n",
       "      <td>...</td>\n",
       "      <td>...</td>\n",
       "      <td>...</td>\n",
       "    </tr>\n",
       "    <tr>\n",
       "      <th>95</th>\n",
       "      <td>4</td>\n",
       "      <td>Gene Blocker Turns Monkeys Into Workaholics - ...</td>\n",
       "      <td>Reuters - Procrastinating monkeys were turned\\...</td>\n",
       "    </tr>\n",
       "    <tr>\n",
       "      <th>96</th>\n",
       "      <td>4</td>\n",
       "      <td>Dolphins Too Have Born Socialites (Reuters)</td>\n",
       "      <td>Reuters - Some people are born to be the life ...</td>\n",
       "    </tr>\n",
       "    <tr>\n",
       "      <th>97</th>\n",
       "      <td>4</td>\n",
       "      <td>What's in a Name? Well, Matt Is Sexier Than Pa...</td>\n",
       "      <td>Reuters - As Shakespeare said, a rose by any o...</td>\n",
       "    </tr>\n",
       "    <tr>\n",
       "      <th>98</th>\n",
       "      <td>4</td>\n",
       "      <td>UK Scientists Allowed to Clone Human Embryos (...</td>\n",
       "      <td>Reuters - British scientists said on Wednesday...</td>\n",
       "    </tr>\n",
       "    <tr>\n",
       "      <th>99</th>\n",
       "      <td>4</td>\n",
       "      <td>Russian Alien Spaceship Claims Raise Eyebrows,...</td>\n",
       "      <td>SPACE.com - An expedition of Russian researche...</td>\n",
       "    </tr>\n",
       "  </tbody>\n",
       "</table>\n",
       "<p>100 rows × 3 columns</p>\n",
       "</div>"
      ],
      "text/plain": [
       "    ClassIndex                                              Title  \\\n",
       "0            3  Wall St. Bears Claw Back Into the Black (Reuters)   \n",
       "1            3  Carlyle Looks Toward Commercial Aerospace (Reu...   \n",
       "2            3    Oil and Economy Cloud Stocks' Outlook (Reuters)   \n",
       "3            3  Iraq Halts Oil Exports from Main Southern Pipe...   \n",
       "4            3  Oil prices soar to all-time record, posing new...   \n",
       "..         ...                                                ...   \n",
       "95           4  Gene Blocker Turns Monkeys Into Workaholics - ...   \n",
       "96           4        Dolphins Too Have Born Socialites (Reuters)   \n",
       "97           4  What's in a Name? Well, Matt Is Sexier Than Pa...   \n",
       "98           4  UK Scientists Allowed to Clone Human Embryos (...   \n",
       "99           4  Russian Alien Spaceship Claims Raise Eyebrows,...   \n",
       "\n",
       "                                          Description  \n",
       "0   Reuters - Short-sellers, Wall Street's dwindli...  \n",
       "1   Reuters - Private investment firm Carlyle Grou...  \n",
       "2   Reuters - Soaring crude prices plus worries\\ab...  \n",
       "3   Reuters - Authorities have halted oil export\\f...  \n",
       "4   AFP - Tearaway world oil prices, toppling reco...  \n",
       "..                                                ...  \n",
       "95  Reuters - Procrastinating monkeys were turned\\...  \n",
       "96  Reuters - Some people are born to be the life ...  \n",
       "97  Reuters - As Shakespeare said, a rose by any o...  \n",
       "98  Reuters - British scientists said on Wednesday...  \n",
       "99  SPACE.com - An expedition of Russian researche...  \n",
       "\n",
       "[100 rows x 3 columns]"
      ]
     },
     "execution_count": 26,
     "metadata": {},
     "output_type": "execute_result"
    }
   ],
   "source": [
    "# train_csv[:100]"
   ]
  },
  {
   "cell_type": "code",
   "execution_count": 39,
   "metadata": {},
   "outputs": [
    {
     "data": {
      "text/html": [
       "<div>\n",
       "<style scoped>\n",
       "    .dataframe tbody tr th:only-of-type {\n",
       "        vertical-align: middle;\n",
       "    }\n",
       "\n",
       "    .dataframe tbody tr th {\n",
       "        vertical-align: top;\n",
       "    }\n",
       "\n",
       "    .dataframe thead th {\n",
       "        text-align: right;\n",
       "    }\n",
       "</style>\n",
       "<table border=\"1\" class=\"dataframe\">\n",
       "  <thead>\n",
       "    <tr style=\"text-align: right;\">\n",
       "      <th></th>\n",
       "      <th>ClassIndex</th>\n",
       "      <th>Title</th>\n",
       "      <th>Description</th>\n",
       "    </tr>\n",
       "  </thead>\n",
       "  <tbody>\n",
       "    <tr>\n",
       "      <th>0</th>\n",
       "      <td>3</td>\n",
       "      <td>Wall St. Bears Claw Back Into the Black (Reuters)</td>\n",
       "      <td>Reuters - Short-sellers, Wall Street's dwindli...</td>\n",
       "    </tr>\n",
       "    <tr>\n",
       "      <th>1</th>\n",
       "      <td>3</td>\n",
       "      <td>Carlyle Looks Toward Commercial Aerospace (Reu...</td>\n",
       "      <td>Reuters - Private investment firm Carlyle Grou...</td>\n",
       "    </tr>\n",
       "    <tr>\n",
       "      <th>2</th>\n",
       "      <td>3</td>\n",
       "      <td>Oil and Economy Cloud Stocks' Outlook (Reuters)</td>\n",
       "      <td>Reuters - Soaring crude prices plus worries\\ab...</td>\n",
       "    </tr>\n",
       "    <tr>\n",
       "      <th>3</th>\n",
       "      <td>3</td>\n",
       "      <td>Iraq Halts Oil Exports from Main Southern Pipe...</td>\n",
       "      <td>Reuters - Authorities have halted oil export\\f...</td>\n",
       "    </tr>\n",
       "    <tr>\n",
       "      <th>4</th>\n",
       "      <td>3</td>\n",
       "      <td>Oil prices soar to all-time record, posing new...</td>\n",
       "      <td>AFP - Tearaway world oil prices, toppling reco...</td>\n",
       "    </tr>\n",
       "  </tbody>\n",
       "</table>\n",
       "</div>"
      ],
      "text/plain": [
       "   ClassIndex                                              Title  \\\n",
       "0           3  Wall St. Bears Claw Back Into the Black (Reuters)   \n",
       "1           3  Carlyle Looks Toward Commercial Aerospace (Reu...   \n",
       "2           3    Oil and Economy Cloud Stocks' Outlook (Reuters)   \n",
       "3           3  Iraq Halts Oil Exports from Main Southern Pipe...   \n",
       "4           3  Oil prices soar to all-time record, posing new...   \n",
       "\n",
       "                                         Description  \n",
       "0  Reuters - Short-sellers, Wall Street's dwindli...  \n",
       "1  Reuters - Private investment firm Carlyle Grou...  \n",
       "2  Reuters - Soaring crude prices plus worries\\ab...  \n",
       "3  Reuters - Authorities have halted oil export\\f...  \n",
       "4  AFP - Tearaway world oil prices, toppling reco...  "
      ]
     },
     "execution_count": 39,
     "metadata": {},
     "output_type": "execute_result"
    }
   ],
   "source": [
    "# train_csv = train_csv.rename(columns={\"Class Index\":\"ClassIndex\"})\n",
    "# train_csv[:300].to_csv(\"final_train.csv\")\n",
    "# train_csv.head()\n"
   ]
  },
  {
   "cell_type": "markdown",
   "metadata": {
    "id": "QNoybfJ-o5-y"
   },
   "source": [
    "## Experiment Tracking\n",
    "\n",
    "pass\n",
    "\n",
    "## Train \n",
    "This command lets you train a model from your data. You can call it with:\n"
   ]
  },
  {
   "cell_type": "code",
   "execution_count": 55,
   "metadata": {
    "id": "4-jIkcuk0K17"
   },
   "outputs": [
    {
     "name": "stdout",
     "output_type": "stream",
     "text": [
      "NumExpr defaulting to 8 threads.\n",
      "2022-05-05 21:29:52.564959: I tensorflow/stream_executor/platform/default/dso_loader.cc:48] Successfully opened dynamic library libcudart.so.10.1\n",
      "/home/erik/anaconda3/envs/ludwig/lib/python3.8/site-packages/torch/cuda/__init__.py:82: UserWarning: CUDA initialization: CUDA unknown error - this may be due to an incorrectly set up environment, e.g. changing env variable CUDA_VISIBLE_DEVICES after program start. Setting the available devices to be zero. (Triggered internally at  ../c10/cuda/CUDAFunctions.cpp:112.)\n",
      "  return torch._C._cuda_getDeviceCount() > 0\n",
      "ray.init() failed: Could not find any running Ray instance. Please specify the one to connect to by setting `--address` flag or `RAY_ADDRESS` environment variable.\n",
      "███████████████████████\n",
      "█ █ █ █  ▜█ █ █ █ █   █\n",
      "█ █ █ █ █ █ █ █ █ █ ███\n",
      "█ █   █ █ █ █ █ █ █ ▌ █\n",
      "█ █████ █ █ █ █ █ █ █ █\n",
      "█     █  ▟█     █ █   █\n",
      "███████████████████████\n",
      "ludwig v0.5rc2 - Train\n",
      "\n",
      "\n",
      "╒════════════════════════╕\n",
      "│ EXPERIMENT DESCRIPTION │\n",
      "╘════════════════════════╛\n",
      "\n",
      "╒══════════════════╤═══════════════════════════════════════════════════════════════════════════════════╕\n",
      "│ Experiment name  │ Classification                                                                    │\n",
      "├──────────────────┼───────────────────────────────────────────────────────────────────────────────────┤\n",
      "│ Model name       │ run                                                                               │\n",
      "├──────────────────┼───────────────────────────────────────────────────────────────────────────────────┤\n",
      "│ Output directory │ /home/erik/Documents/UCPH/aim_projs/ludwig/aim_demo/results/Classification_run_21 │\n",
      "├──────────────────┼───────────────────────────────────────────────────────────────────────────────────┤\n",
      "│ ludwig_version   │ '0.5rc2'                                                                          │\n",
      "├──────────────────┼───────────────────────────────────────────────────────────────────────────────────┤\n",
      "│ command          │ ('/home/erik/anaconda3/envs/ludwig/bin/ludwig train --dataset final_train.csv '   │\n",
      "│                  │  '--config train_conf.yaml -g 0 --aim --experiment_name Classification')          │\n",
      "├──────────────────┼───────────────────────────────────────────────────────────────────────────────────┤\n",
      "│ commit_hash      │ '250838058ed2'                                                                    │\n",
      "├──────────────────┼───────────────────────────────────────────────────────────────────────────────────┤\n",
      "│ random_seed      │ 42                                                                                │\n",
      "├──────────────────┼───────────────────────────────────────────────────────────────────────────────────┤\n",
      "│ dataset          │ 'final_train.csv'                                                                 │\n",
      "├──────────────────┼───────────────────────────────────────────────────────────────────────────────────┤\n",
      "│ data_format      │ 'csv'                                                                             │\n",
      "├──────────────────┼───────────────────────────────────────────────────────────────────────────────────┤\n",
      "│ torch_version    │ '1.11.0+cu102'                                                                    │\n",
      "├──────────────────┼───────────────────────────────────────────────────────────────────────────────────┤\n",
      "│ compute          │ {'num_nodes': 1}                                                                  │\n",
      "╘══════════════════╧═══════════════════════════════════════════════════════════════════════════════════╛\n",
      "\n",
      "╒═══════════════╕\n",
      "│ LUDWIG CONFIG │\n",
      "╘═══════════════╛\n",
      "\n",
      "{   'combiner': {'type': 'concat'},\n",
      "    'input_features': [   {   'column': 'Title',\n",
      "                              'encoder': 'parallel_cnn',\n",
      "                              'name': 'Title',\n",
      "                              'proc_column': 'Title_mZFLky',\n",
      "                              'tied': None,\n",
      "                              'type': 'text'},\n",
      "                          {   'column': 'Description',\n",
      "                              'encoder': 'parallel_cnn',\n",
      "                              'name': 'Description',\n",
      "                              'proc_column': 'Description_mZFLky',\n",
      "                              'tied': None,\n",
      "                              'type': 'text'}],\n",
      "    'output_features': [   {   'column': 'ClassIndex',\n",
      "                               'dependencies': [],\n",
      "                               'loss': {   'class_similarities_temperature': 0,\n",
      "                                           'class_weights': 1,\n",
      "                                           'confidence_penalty': 0,\n",
      "                                           'robust_lambda': 0,\n",
      "                                           'type': 'softmax_cross_entropy',\n",
      "                                           'weight': 1},\n",
      "                               'name': 'ClassIndex',\n",
      "                               'preprocessing': {   'missing_value_strategy': 'drop_row'},\n",
      "                               'proc_column': 'ClassIndex_mZFLky',\n",
      "                               'reduce_dependencies': 'sum',\n",
      "                               'reduce_input': 'sum',\n",
      "                               'top_k': 3,\n",
      "                               'type': 'category'}],\n",
      "    'preprocessing': {   'audio': {   'audio_feature': {'type': 'raw'},\n",
      "                                      'audio_file_length_limit_in_s': 7.5,\n",
      "                                      'in_memory': True,\n",
      "                                      'missing_value_strategy': 'backfill',\n",
      "                                      'norm': None,\n",
      "                                      'padding_value': 0},\n",
      "                         'bag': {   'fill_value': '<UNK>',\n",
      "                                    'lowercase': False,\n",
      "                                    'missing_value_strategy': 'fill_with_const',\n",
      "                                    'most_common': 10000,\n",
      "                                    'tokenizer': 'space'},\n",
      "                         'binary': {   'missing_value_strategy': 'fill_with_false'},\n",
      "                         'category': {   'fill_value': '<UNK>',\n",
      "                                         'lowercase': False,\n",
      "                                         'missing_value_strategy': 'fill_with_const',\n",
      "                                         'most_common': 10000},\n",
      "                         'date': {   'datetime_format': None,\n",
      "                                     'fill_value': '',\n",
      "                                     'missing_value_strategy': 'fill_with_const'},\n",
      "                         'force_split': False,\n",
      "                         'h3': {   'fill_value': 576495936675512319,\n",
      "                                   'missing_value_strategy': 'fill_with_const'},\n",
      "                         'image': {   'in_memory': True,\n",
      "                                      'infer_image_dimensions': True,\n",
      "                                      'infer_image_max_height': 256,\n",
      "                                      'infer_image_max_width': 256,\n",
      "                                      'infer_image_num_channels': True,\n",
      "                                      'infer_image_sample_size': 100,\n",
      "                                      'missing_value_strategy': 'backfill',\n",
      "                                      'num_processes': 1,\n",
      "                                      'resize_method': 'interpolate',\n",
      "                                      'scaling': 'pixel_normalization'},\n",
      "                         'number': {   'fill_value': 0,\n",
      "                                       'missing_value_strategy': 'fill_with_const',\n",
      "                                       'normalization': None},\n",
      "                         'oversample_minority': None,\n",
      "                         'sample_ratio': 1.0,\n",
      "                         'sequence': {   'fill_value': '<UNK>',\n",
      "                                         'lowercase': False,\n",
      "                                         'max_sequence_length': 256,\n",
      "                                         'missing_value_strategy': 'fill_with_const',\n",
      "                                         'most_common': 20000,\n",
      "                                         'padding': 'right',\n",
      "                                         'padding_symbol': '<PAD>',\n",
      "                                         'tokenizer': 'space',\n",
      "                                         'unknown_symbol': '<UNK>',\n",
      "                                         'vocab_file': None},\n",
      "                         'set': {   'fill_value': '<UNK>',\n",
      "                                    'lowercase': False,\n",
      "                                    'missing_value_strategy': 'fill_with_const',\n",
      "                                    'most_common': 10000,\n",
      "                                    'tokenizer': 'space'},\n",
      "                         'split_probabilities': (0.7, 0.1, 0.2),\n",
      "                         'stratify': None,\n",
      "                         'text': {   'fill_value': '<UNK>',\n",
      "                                     'lowercase': True,\n",
      "                                     'max_sequence_length': 256,\n",
      "                                     'missing_value_strategy': 'fill_with_const',\n",
      "                                     'most_common': 20000,\n",
      "                                     'padding': 'right',\n",
      "                                     'padding_symbol': '<PAD>',\n",
      "                                     'pretrained_model_name_or_path': None,\n",
      "                                     'tokenizer': 'space_punct',\n",
      "                                     'unknown_symbol': '<UNK>',\n",
      "                                     'vocab_file': None},\n",
      "                         'timeseries': {   'fill_value': '',\n",
      "                                           'missing_value_strategy': 'fill_with_const',\n",
      "                                           'padding': 'right',\n",
      "                                           'padding_value': 0,\n",
      "                                           'timeseries_length_limit': 256,\n",
      "                                           'tokenizer': 'space'},\n",
      "                         'undersample_majority': None,\n",
      "                         'vector': {   'fill_value': '',\n",
      "                                       'missing_value_strategy': 'fill_with_const'}},\n",
      "    'trainer': {   'batch_size': 128,\n",
      "                   'decay': False,\n",
      "                   'decay_rate': 0.96,\n",
      "                   'decay_steps': 10000,\n",
      "                   'early_stop': 1000,\n",
      "                   'epochs': 2,\n",
      "                   'eval_batch_size': None,\n",
      "                   'gradient_clipping': None,\n",
      "                   'increase_batch_size_on_plateau': 0,\n",
      "                   'increase_batch_size_on_plateau_max': 512,\n",
      "                   'increase_batch_size_on_plateau_patience': 5,\n",
      "                   'increase_batch_size_on_plateau_rate': 2,\n",
      "                   'learning_rate': 0.001,\n",
      "                   'learning_rate_warmup_epochs': 1,\n",
      "                   'optimizer': {   'betas': (0.9, 0.999),\n",
      "                                    'eps': 1e-08,\n",
      "                                    'type': 'adam'},\n",
      "                   'reduce_learning_rate_on_plateau': 0,\n",
      "                   'reduce_learning_rate_on_plateau_patience': 5,\n",
      "                   'reduce_learning_rate_on_plateau_rate': 0.5,\n",
      "                   'regularization_lambda': 0,\n",
      "                   'regularization_type': 'l2',\n",
      "                   'staircase': False,\n",
      "                   'steps_per_checkpoint': 0,\n",
      "                   'validation_field': 'combined',\n",
      "                   'validation_metric': 'loss'}}\n",
      "\n",
      "╒═══════════════╕\n",
      "│ PREPROCESSING │\n",
      "╘═══════════════╛\n",
      "\n",
      "Found cached dataset and meta.json with the same filename of the dataset, using them instead\n",
      "Using full hdf5 and json\n",
      "Loading data from: final_train.training.hdf5\n",
      "Loading data from: final_train.validation.hdf5\n",
      "Loading data from: final_train.test.hdf5\n"
     ]
    },
    {
     "name": "stdout",
     "output_type": "stream",
     "text": [
      "\n",
      "Dataset sizes:\n",
      "╒════════════╤════════╕\n",
      "│ Dataset    │   Size │\n",
      "╞════════════╪════════╡\n",
      "│ Training   │    209 │\n",
      "├────────────┼────────┤\n",
      "│ Validation │     28 │\n",
      "├────────────┼────────┤\n",
      "│ Test       │     63 │\n",
      "╘════════════╧════════╛\n",
      "aim.on_train_init() called...\n",
      "base config  {'input_features': [{'name': 'Title', 'type': 'text'}, {'name': 'Description', 'type': 'text'}], 'output_features': [{'name': 'ClassIndex', 'type': 'category'}], 'trainer': {'epochs': 2}}\n",
      "experiment directory  /home/erik/Documents/UCPH/aim_projs/ludwig/aim_demo/results/Classification_run_21\n",
      "experiment name  Classification\n",
      "model name  run\n",
      "output directory  /home/erik/Documents/UCPH/aim_projs/ludwig/aim_demo/results/Classification_run_21\n",
      "{'name': 'run', 'dir': '/home/erik/Documents/UCPH/aim_projs/ludwig/aim_demo/results/Classification_run_21'}\n",
      "\n",
      "╒═══════╕\n",
      "│ MODEL │\n",
      "╘═══════╛\n",
      "\n",
      "Warnings and other logs:\n",
      "/home/erik/anaconda3/envs/ludwig/lib/python3.8/site-packages/torch/nn/modules/conv.py:298: UserWarning: Using padding='same' with even kernel lengths and odd dilation may require a zero-padded copy of the input be created (Triggered internally at  ../aten/src/ATen/native/Convolution.cpp:744.)\n",
      "  return F.conv1d(input, weight, bias, self.stride,\n",
      "\n",
      "╒══════════╕\n",
      "│ TRAINING │\n",
      "╘══════════╛\n",
      "\n",
      "aim.on_train_start() called...\n",
      "{'trainer': {'epochs': 2, 'optimizer': {'type': 'adam', 'betas': (0.9, 0.999), 'eps': 1e-08}, 'regularization_lambda': 0, 'regularization_type': 'l2', 'learning_rate': 0.001, 'batch_size': 128, 'eval_batch_size': None, 'early_stop': 1000, 'steps_per_checkpoint': 0, 'reduce_learning_rate_on_plateau': 0, 'reduce_learning_rate_on_plateau_patience': 5, 'reduce_learning_rate_on_plateau_rate': 0.5, 'increase_batch_size_on_plateau': 0, 'increase_batch_size_on_plateau_patience': 5, 'increase_batch_size_on_plateau_rate': 2, 'increase_batch_size_on_plateau_max': 512, 'decay': False, 'decay_steps': 10000, 'decay_rate': 0.96, 'staircase': False, 'gradient_clipping': None, 'validation_field': 'combined', 'validation_metric': 'loss', 'learning_rate_warmup_epochs': 1}, 'preprocessing': {'force_split': False, 'split_probabilities': (0.7, 0.1, 0.2), 'stratify': None, 'undersample_majority': None, 'oversample_minority': None, 'sample_ratio': 1.0, 'text': {'tokenizer': 'space_punct', 'pretrained_model_name_or_path': None, 'vocab_file': None, 'max_sequence_length': 256, 'most_common': 20000, 'padding_symbol': '<PAD>', 'unknown_symbol': '<UNK>', 'padding': 'right', 'lowercase': True, 'missing_value_strategy': 'fill_with_const', 'fill_value': '<UNK>'}, 'category': {'most_common': 10000, 'lowercase': False, 'missing_value_strategy': 'fill_with_const', 'fill_value': '<UNK>'}, 'set': {'tokenizer': 'space', 'most_common': 10000, 'lowercase': False, 'missing_value_strategy': 'fill_with_const', 'fill_value': '<UNK>'}, 'bag': {'tokenizer': 'space', 'most_common': 10000, 'lowercase': False, 'missing_value_strategy': 'fill_with_const', 'fill_value': '<UNK>'}, 'binary': {'missing_value_strategy': 'fill_with_false'}, 'number': {'missing_value_strategy': 'fill_with_const', 'fill_value': 0, 'normalization': None}, 'sequence': {'max_sequence_length': 256, 'most_common': 20000, 'padding_symbol': '<PAD>', 'unknown_symbol': '<UNK>', 'padding': 'right', 'tokenizer': 'space', 'lowercase': False, 'vocab_file': None, 'missing_value_strategy': 'fill_with_const', 'fill_value': '<UNK>'}, 'timeseries': {'timeseries_length_limit': 256, 'padding_value': 0, 'padding': 'right', 'tokenizer': 'space', 'missing_value_strategy': 'fill_with_const', 'fill_value': ''}, 'image': {'missing_value_strategy': 'backfill', 'in_memory': True, 'resize_method': 'interpolate', 'scaling': 'pixel_normalization', 'num_processes': 1, 'infer_image_num_channels': True, 'infer_image_dimensions': True, 'infer_image_max_height': 256, 'infer_image_max_width': 256, 'infer_image_sample_size': 100}, 'audio': {'audio_file_length_limit_in_s': 7.5, 'missing_value_strategy': 'backfill', 'in_memory': True, 'padding_value': 0, 'norm': None, 'audio_feature': {'type': 'raw'}}, 'h3': {'missing_value_strategy': 'fill_with_const', 'fill_value': 576495936675512319}, 'date': {'missing_value_strategy': 'fill_with_const', 'fill_value': '', 'datetime_format': None}, 'vector': {'missing_value_strategy': 'fill_with_const', 'fill_value': ''}}, 'combiner': {'type': 'concat'}, 'data_hdf5_fp': 'final_train.training.hdf5'}\n",
      "Note: steps_per_checkpoint (was 2) is now set to the number of steps per epoch: 2.\n",
      "\n",
      "Training for 4 step(s), approximately 2 epoch(s).\n",
      "Starting with step 0, epoch: 0\n",
      "Training:   0%|                                           | 0/4 [00:00<?, ?it/s]START OF BATCH\n",
      "{'batch_size': 128, 'epoch': 0, 'steps': 0, 'tune_checkpoint_num': 0, 'last_improvement_steps': 0, 'learning_rate': 0.001, 'best_valid_metric': inf, 'num_reductions_lr': 0, 'num_increases_bs': 0}\n",
      "_________________\n",
      "Training:  25%|████████▊                          | 1/4 [00:01<00:04,  1.34s/it]END OF BATCH\n",
      "{'batch_size': 128, 'epoch': 0, 'steps': 1, 'tune_checkpoint_num': 0, 'last_improvement_steps': 0, 'learning_rate': 0.001, 'best_valid_metric': inf, 'num_reductions_lr': 0, 'num_increases_bs': 0}\n",
      "_________________\n",
      "START OF BATCH\n",
      "{'batch_size': 128, 'epoch': 0, 'steps': 1, 'tune_checkpoint_num': 0, 'last_improvement_steps': 0, 'learning_rate': 0.001, 'best_valid_metric': inf, 'num_reductions_lr': 0, 'num_increases_bs': 0}\n",
      "_________________\n",
      "Training:  50%|█████████████████▌                 | 2/4 [00:02<00:01,  1.04it/s]\n",
      "Running evaluation for step: 2, epoch: 0\n",
      "Evaluation train: 100%|███████████████████████████| 2/2 [00:00<00:00,  4.88it/s]\n",
      "Evaluation vali : 100%|███████████████████████████| 1/1 [00:00<00:00, 16.27it/s]\n",
      "Evaluation test : 100%|███████████████████████████| 1/1 [00:00<00:00,  7.37it/s]\n",
      "╒══════════════╤════════╤════════════╕\n",
      "│ ClassIndex   │   loss │   accuracy │\n",
      "╞══════════════╪════════╪════════════╡\n",
      "│ train        │ 0.6891 │     0.7416 │\n",
      "├──────────────┼────────┼────────────┤\n",
      "│ vali         │ 0.7264 │     0.7143 │\n",
      "├──────────────┼────────┼────────────┤\n",
      "│ test         │ 0.6980 │     0.7460 │\n",
      "╘══════════════╧════════╧════════════╛\n",
      "╒════════════╤════════╕\n",
      "│ combined   │   loss │\n",
      "╞════════════╪════════╡\n",
      "│ train      │ 0.6891 │\n",
      "├────────────┼────────┤\n",
      "│ vali       │ 0.7264 │\n",
      "├────────────┼────────┤\n",
      "│ test       │ 0.6980 │\n",
      "╘════════════╧════════╛\n",
      "Validation loss on combined improved, model saved.\n",
      "\n",
      "END OF EPOCH\n",
      "{'batch_size': 128, 'epoch': 0, 'steps': 2, 'tune_checkpoint_num': 0, 'last_improvement_steps': 2, 'learning_rate': 0.001, 'best_valid_metric': 0.7264037728309631, 'num_reductions_lr': 0, 'num_increases_bs': 0, 'train_metrics.ClassIndex.loss': 0.6891297101974487, 'train_metrics.ClassIndex.accuracy': 0.7416267991065979, 'train_metrics.combined.loss': 0.6891297101974487, 'validation_metrics.ClassIndex.loss': 0.7264037728309631, 'validation_metrics.ClassIndex.accuracy': 0.7142857313156128, 'validation_metrics.combined.loss': 0.7264037728309631, 'test_metrics.ClassIndex.loss': 0.6979712247848511, 'test_metrics.ClassIndex.accuracy': 0.7460317611694336, 'test_metrics.combined.loss': 0.6979712247848511}\n",
      "_________________\n",
      "END OF BATCH\n",
      "{'batch_size': 128, 'epoch': 0, 'steps': 2, 'tune_checkpoint_num': 0, 'last_improvement_steps': 2, 'learning_rate': 0.001, 'best_valid_metric': 0.7264037728309631, 'num_reductions_lr': 0, 'num_increases_bs': 0, 'train_metrics.ClassIndex.loss': 0.6891297101974487, 'train_metrics.ClassIndex.accuracy': 0.7416267991065979, 'train_metrics.combined.loss': 0.6891297101974487, 'validation_metrics.ClassIndex.loss': 0.7264037728309631, 'validation_metrics.ClassIndex.accuracy': 0.7142857313156128, 'validation_metrics.combined.loss': 0.7264037728309631, 'test_metrics.ClassIndex.loss': 0.6979712247848511, 'test_metrics.ClassIndex.accuracy': 0.7460317611694336, 'test_metrics.combined.loss': 0.6979712247848511}\n",
      "_________________\n",
      "END OF EVAL\n",
      "{'batch_size': 128, 'epoch': 1, 'steps': 2, 'tune_checkpoint_num': 0, 'last_improvement_steps': 2, 'learning_rate': 0.001, 'best_valid_metric': 0.7264037728309631, 'num_reductions_lr': 0, 'num_increases_bs': 0, 'train_metrics.ClassIndex.loss': 0.6891297101974487, 'train_metrics.ClassIndex.accuracy': 0.7416267991065979, 'train_metrics.combined.loss': 0.6891297101974487, 'validation_metrics.ClassIndex.loss': 0.7264037728309631, 'validation_metrics.ClassIndex.accuracy': 0.7142857313156128, 'validation_metrics.combined.loss': 0.7264037728309631, 'test_metrics.ClassIndex.loss': 0.6979712247848511, 'test_metrics.ClassIndex.accuracy': 0.7460317611694336, 'test_metrics.combined.loss': 0.6979712247848511}\n",
      "_________________\n",
      "LogMetrics are being tracked... {'batch_size': 128, 'epoch': 1, 'steps': 2, 'tune_checkpoint_num': 0, 'last_improvement_steps': 2, 'learning_rate': 0.001, 'best_valid_metric': 0.7264037728309631, 'num_reductions_lr': 0, 'num_increases_bs': 0, 'train_metrics.ClassIndex.loss': 0.6891297101974487, 'train_metrics.ClassIndex.accuracy': 0.7416267991065979, 'train_metrics.combined.loss': 0.6891297101974487, 'validation_metrics.ClassIndex.loss': 0.7264037728309631, 'validation_metrics.ClassIndex.accuracy': 0.7142857313156128, 'validation_metrics.combined.loss': 0.7264037728309631, 'test_metrics.ClassIndex.loss': 0.6979712247848511, 'test_metrics.ClassIndex.accuracy': 0.7460317611694336, 'test_metrics.combined.loss': 0.6979712247848511}\n",
      "train_metrics.ClassIndex.loss\n",
      "train_metrics.ClassIndex.accuracy\n",
      "train_metrics.combined.loss\n",
      "validation_metrics.ClassIndex.loss\n",
      "validation_metrics.ClassIndex.accuracy\n",
      "validation_metrics.combined.loss\n",
      "test_metrics.ClassIndex.loss\n",
      "test_metrics.ClassIndex.accuracy\n",
      "test_metrics.combined.loss\n"
     ]
    },
    {
     "name": "stdout",
     "output_type": "stream",
     "text": [
      "START OF BATCH\n",
      "{'batch_size': 128, 'epoch': 1, 'steps': 2, 'tune_checkpoint_num': 0, 'last_improvement_steps': 2, 'learning_rate': 0.001, 'best_valid_metric': 0.7264037728309631, 'num_reductions_lr': 0, 'num_increases_bs': 0, 'train_metrics.ClassIndex.loss': 0.6891297101974487, 'train_metrics.ClassIndex.accuracy': 0.7416267991065979, 'train_metrics.combined.loss': 0.6891297101974487, 'validation_metrics.ClassIndex.loss': 0.7264037728309631, 'validation_metrics.ClassIndex.accuracy': 0.7142857313156128, 'validation_metrics.combined.loss': 0.7264037728309631, 'test_metrics.ClassIndex.loss': 0.6979712247848511, 'test_metrics.ClassIndex.accuracy': 0.7460317611694336, 'test_metrics.combined.loss': 0.6979712247848511}\n",
      "_________________\n",
      "Training:  75%|██████████████████████████▎        | 3/4 [00:03<00:01,  1.41s/it]END OF BATCH\n",
      "{'batch_size': 128, 'epoch': 1, 'steps': 3, 'tune_checkpoint_num': 0, 'last_improvement_steps': 2, 'learning_rate': 0.001, 'best_valid_metric': 0.7264037728309631, 'num_reductions_lr': 0, 'num_increases_bs': 0, 'train_metrics.ClassIndex.loss': 0.6891297101974487, 'train_metrics.ClassIndex.accuracy': 0.7416267991065979, 'train_metrics.combined.loss': 0.6891297101974487, 'validation_metrics.ClassIndex.loss': 0.7264037728309631, 'validation_metrics.ClassIndex.accuracy': 0.7142857313156128, 'validation_metrics.combined.loss': 0.7264037728309631, 'test_metrics.ClassIndex.loss': 0.6979712247848511, 'test_metrics.ClassIndex.accuracy': 0.7460317611694336, 'test_metrics.combined.loss': 0.6979712247848511}\n",
      "_________________\n",
      "START OF BATCH\n",
      "{'batch_size': 128, 'epoch': 1, 'steps': 3, 'tune_checkpoint_num': 0, 'last_improvement_steps': 2, 'learning_rate': 0.001, 'best_valid_metric': 0.7264037728309631, 'num_reductions_lr': 0, 'num_increases_bs': 0, 'train_metrics.ClassIndex.loss': 0.6891297101974487, 'train_metrics.ClassIndex.accuracy': 0.7416267991065979, 'train_metrics.combined.loss': 0.6891297101974487, 'validation_metrics.ClassIndex.loss': 0.7264037728309631, 'validation_metrics.ClassIndex.accuracy': 0.7142857313156128, 'validation_metrics.combined.loss': 0.7264037728309631, 'test_metrics.ClassIndex.loss': 0.6979712247848511, 'test_metrics.ClassIndex.accuracy': 0.7460317611694336, 'test_metrics.combined.loss': 0.6979712247848511}\n",
      "_________________\n",
      "Training: 100%|███████████████████████████████████| 4/4 [00:04<00:00,  1.08s/it]\n",
      "Running evaluation for step: 4, epoch: 1\n",
      "Evaluation train: 100%|███████████████████████████| 2/2 [00:00<00:00,  4.48it/s]\n",
      "Evaluation vali : 100%|███████████████████████████| 1/1 [00:00<00:00, 19.35it/s]\n",
      "Evaluation test : 100%|███████████████████████████| 1/1 [00:00<00:00,  8.70it/s]\n",
      "╒══════════════╤════════╤════════════╕\n",
      "│ ClassIndex   │   loss │   accuracy │\n",
      "╞══════════════╪════════╪════════════╡\n",
      "│ train        │ 0.5823 │     0.7416 │\n",
      "├──────────────┼────────┼────────────┤\n",
      "│ vali         │ 0.6610 │     0.7143 │\n",
      "├──────────────┼────────┼────────────┤\n",
      "│ test         │ 0.6074 │     0.7460 │\n",
      "╘══════════════╧════════╧════════════╛\n",
      "╒════════════╤════════╕\n",
      "│ combined   │   loss │\n",
      "╞════════════╪════════╡\n",
      "│ train      │ 0.5823 │\n",
      "├────────────┼────────┤\n",
      "│ vali       │ 0.6610 │\n",
      "├────────────┼────────┤\n",
      "│ test       │ 0.6074 │\n",
      "╘════════════╧════════╛\n",
      "Validation loss on combined improved, model saved.\n",
      "\n",
      "END OF EPOCH\n",
      "{'batch_size': 128, 'epoch': 1, 'steps': 4, 'tune_checkpoint_num': 0, 'last_improvement_steps': 4, 'learning_rate': 0.001, 'best_valid_metric': 0.6609931588172913, 'num_reductions_lr': 0, 'num_increases_bs': 0, 'train_metrics.ClassIndex.loss': 0.5823020935058594, 'train_metrics.ClassIndex.accuracy': 0.7416267991065979, 'train_metrics.combined.loss': 0.5823020935058594, 'validation_metrics.ClassIndex.loss': 0.6609931588172913, 'validation_metrics.ClassIndex.accuracy': 0.7142857313156128, 'validation_metrics.combined.loss': 0.6609931588172913, 'test_metrics.ClassIndex.loss': 0.6074293851852417, 'test_metrics.ClassIndex.accuracy': 0.7460317611694336, 'test_metrics.combined.loss': 0.6074293851852417}\n",
      "_________________\n",
      "END OF BATCH\n",
      "{'batch_size': 128, 'epoch': 1, 'steps': 4, 'tune_checkpoint_num': 0, 'last_improvement_steps': 4, 'learning_rate': 0.001, 'best_valid_metric': 0.6609931588172913, 'num_reductions_lr': 0, 'num_increases_bs': 0, 'train_metrics.ClassIndex.loss': 0.5823020935058594, 'train_metrics.ClassIndex.accuracy': 0.7416267991065979, 'train_metrics.combined.loss': 0.5823020935058594, 'validation_metrics.ClassIndex.loss': 0.6609931588172913, 'validation_metrics.ClassIndex.accuracy': 0.7142857313156128, 'validation_metrics.combined.loss': 0.6609931588172913, 'test_metrics.ClassIndex.loss': 0.6074293851852417, 'test_metrics.ClassIndex.accuracy': 0.7460317611694336, 'test_metrics.combined.loss': 0.6074293851852417}\n",
      "_________________\n",
      "END OF EVAL\n",
      "{'batch_size': 128, 'epoch': 2, 'steps': 4, 'tune_checkpoint_num': 0, 'last_improvement_steps': 4, 'learning_rate': 0.001, 'best_valid_metric': 0.6609931588172913, 'num_reductions_lr': 0, 'num_increases_bs': 0, 'train_metrics.ClassIndex.loss': 0.5823020935058594, 'train_metrics.ClassIndex.accuracy': 0.7416267991065979, 'train_metrics.combined.loss': 0.5823020935058594, 'validation_metrics.ClassIndex.loss': 0.6609931588172913, 'validation_metrics.ClassIndex.accuracy': 0.7142857313156128, 'validation_metrics.combined.loss': 0.6609931588172913, 'test_metrics.ClassIndex.loss': 0.6074293851852417, 'test_metrics.ClassIndex.accuracy': 0.7460317611694336, 'test_metrics.combined.loss': 0.6074293851852417}\n",
      "_________________\n",
      "LogMetrics are being tracked... {'batch_size': 128, 'epoch': 2, 'steps': 4, 'tune_checkpoint_num': 0, 'last_improvement_steps': 4, 'learning_rate': 0.001, 'best_valid_metric': 0.6609931588172913, 'num_reductions_lr': 0, 'num_increases_bs': 0, 'train_metrics.ClassIndex.loss': 0.5823020935058594, 'train_metrics.ClassIndex.accuracy': 0.7416267991065979, 'train_metrics.combined.loss': 0.5823020935058594, 'validation_metrics.ClassIndex.loss': 0.6609931588172913, 'validation_metrics.ClassIndex.accuracy': 0.7142857313156128, 'validation_metrics.combined.loss': 0.6609931588172913, 'test_metrics.ClassIndex.loss': 0.6074293851852417, 'test_metrics.ClassIndex.accuracy': 0.7460317611694336, 'test_metrics.combined.loss': 0.6074293851852417}\n",
      "train_metrics.ClassIndex.loss\n",
      "train_metrics.ClassIndex.accuracy\n",
      "train_metrics.combined.loss\n",
      "validation_metrics.ClassIndex.loss\n",
      "validation_metrics.ClassIndex.accuracy\n",
      "validation_metrics.combined.loss\n",
      "test_metrics.ClassIndex.loss\n",
      "test_metrics.ClassIndex.accuracy\n",
      "test_metrics.combined.loss\n",
      "LogMetrics are being tracked... {'batch_size': 128, 'epoch': 2, 'steps': 4, 'tune_checkpoint_num': 0, 'last_improvement_steps': 4, 'learning_rate': 0.001, 'best_valid_metric': 0.6609931588172913, 'num_reductions_lr': 0, 'num_increases_bs': 0, 'train_metrics.ClassIndex.loss': 0.5823020935058594, 'train_metrics.ClassIndex.accuracy': 0.7416267991065979, 'train_metrics.combined.loss': 0.5823020935058594, 'validation_metrics.ClassIndex.loss': 0.6609931588172913, 'validation_metrics.ClassIndex.accuracy': 0.7142857313156128, 'validation_metrics.combined.loss': 0.6609931588172913, 'test_metrics.ClassIndex.loss': 0.6074293851852417, 'test_metrics.ClassIndex.accuracy': 0.7460317611694336, 'test_metrics.combined.loss': 0.6074293851852417}\n",
      "train_metrics.ClassIndex.loss\n",
      "train_metrics.ClassIndex.accuracy\n",
      "train_metrics.combined.loss\n",
      "validation_metrics.ClassIndex.loss\n",
      "validation_metrics.ClassIndex.accuracy\n",
      "validation_metrics.combined.loss\n",
      "test_metrics.ClassIndex.loss\n",
      "test_metrics.ClassIndex.accuracy\n",
      "test_metrics.combined.loss\n",
      "Training: 100%|███████████████████████████████████| 4/4 [00:05<00:00,  1.35s/it]\n",
      "\n",
      "╒═════════════════╕\n",
      "│ TRAINING REPORT │\n",
      "╘═════════════════╛\n",
      "\n",
      "Best validation model step: 4, epoch: 2\n",
      "Best validation model loss on validation set combined: 0.6609931588172913\n",
      "Best validation model loss on test set combined: 0.6074293851852417\n",
      "\n",
      "Finished: Classification_run\n",
      "Saved to: /home/erik/Documents/UCPH/aim_projs/ludwig/aim_demo/results/Classification_run_21\n",
      "END OF TRAINING\n",
      "{}\n",
      "_________________\n",
      "\n",
      "╒══════════╕\n",
      "│ FINISHED │\n",
      "╘══════════╛\n",
      "\n",
      "\u001b[0m"
     ]
    }
   ],
   "source": [
    "!ludwig train --dataset final_train.csv --config train_conf.yaml -g 0 \\\n",
    "--aim --experiment_name \"Classification\"\n"
   ]
  },
  {
   "cell_type": "markdown",
   "metadata": {
    "id": "6hhIq3A5tBF_"
   },
   "source": [
    "You get all of these detailed insights about the training process in the Aim dashboard:\n",
    "\n"
   ]
  },
  {
   "cell_type": "code",
   "execution_count": null,
   "metadata": {},
   "outputs": [],
   "source": []
  },
  {
   "cell_type": "markdown",
   "metadata": {
    "id": "NCbRBLU9-jZL"
   },
   "source": [
    "## Predict\n",
    "This command lets you use a previously trained model to predict on new data. You can call it with:"
   ]
  },
  {
   "cell_type": "code",
   "execution_count": null,
   "metadata": {
    "id": "mFC-Sud4-iDh"
   },
   "outputs": [],
   "source": [
    "!ludwig predict --dataset final_test.csv \\\n",
    "--model_path results/Classification_run/model"
   ]
  },
  {
   "cell_type": "markdown",
   "metadata": {
    "id": "dcAO2hc--W-l"
   },
   "source": [
    "On performing prediction, you get the following files in both csv and npy format:\n",
    "* Class Index predictions \n",
    "* Class Index probalities for each class\n",
    "* Highest Class Index probability"
   ]
  },
  {
   "cell_type": "code",
   "execution_count": null,
   "metadata": {
    "id": "EVh_5RmZRlck"
   },
   "outputs": [],
   "source": [
    "prediction = pd.read_csv('results/ClassIndex_predictions.csv')"
   ]
  },
  {
   "cell_type": "code",
   "execution_count": null,
   "metadata": {
    "id": "YxMNj_v1R1aQ"
   },
   "outputs": [],
   "source": [
    "# Check on some random examples\n",
    "test_dataset = pd.read_csv('final_test.csv')\n",
    "index = [100,900,575,1100,1500]\n",
    "for i in index:\n",
    "  print(test_dataset.iloc[i], '\\n Prediction -> ', id_to_label[prediction.iloc[i][0]], '\\n')\n"
   ]
  },
  {
   "cell_type": "markdown",
   "metadata": {
    "id": "7GD8RTS4UcZ_"
   },
   "source": [
    "## Evaluate\n",
    "This command lets you use a previously trained model to predict on new data and evaluate the performance of the prediction compared to ground truth. You can call it with:\n",
    "\n",
    "\n"
   ]
  },
  {
   "cell_type": "code",
   "execution_count": null,
   "metadata": {
    "id": "2gUKSUzhVH1f"
   },
   "outputs": [],
   "source": [
    "!ludwig evaluate --dataset final_test.csv \\\n",
    "--model_path results/Classification_run/model"
   ]
  },
  {
   "cell_type": "markdown",
   "metadata": {
    "id": "J3zYHD_7Aac7"
   },
   "source": [
    "Running evaluation saves the evaluation metrics in the results folder in json format"
   ]
  },
  {
   "cell_type": "markdown",
   "metadata": {
    "id": "IU5JijKD5xm7"
   },
   "source": [
    "# Visualize\n",
    "Ludwig comes with many visualization options. If you want to look at the learning curves of your model for instance, run:"
   ]
  },
  {
   "cell_type": "code",
   "execution_count": null,
   "metadata": {
    "id": "lP_B8am553_g"
   },
   "outputs": [],
   "source": [
    "!ludwig visualize \\\n",
    "--visualization learning_curves \\\n",
    "--training_statistics results/Classification_run/training_statistics.json \\\n",
    "--output_directory results/"
   ]
  },
  {
   "cell_type": "markdown",
   "metadata": {
    "id": "l5RF54kyB29t"
   },
   "source": [
    "using `--output_directory ` argument saves the outputs in the desired directory instead of directly displaying them."
   ]
  },
  {
   "cell_type": "markdown",
   "metadata": {
    "id": "pTmmfv2Rg0YF"
   },
   "source": [
    "## Serving\n",
    "This command lets you load a pre-trained model and serve it on an http server. It uses port 8000 by default.\n",
    "Once the server is up and running, you can pass the parameters defined the model configuration as inputs. \n",
    "Example:\n",
    "```\n",
    "curl http://0.0.0.0:8000/predict -X POST -F 'Title=Science' -F 'Description=Techology'\n",
    "```"
   ]
  },
  {
   "cell_type": "code",
   "execution_count": null,
   "metadata": {
    "id": "EHluQ0jUVOoC"
   },
   "outputs": [],
   "source": [
    "!ludwig serve --model_path results/Classification_run/model"
   ]
  },
  {
   "cell_type": "markdown",
   "metadata": {
    "id": "mUqR8LBfa9jL"
   },
   "source": [
    "### Load the saved artifact\n",
    "The saved artifacts can be accessed using the API that automatically gets generated once you upload the artifact. You can then perform transfer learning, prediction or even deploy the models downloaded using artifacts."
   ]
  },
  {
   "cell_type": "markdown",
   "metadata": {
    "id": "Tt8S-02nC8-d"
   },
   "source": [
    "# Other Features\n",
    "There are many other useful commands supported by Ludwig CLI such as:\n",
    "```\n",
    "hyperopt: Perform hyperparameter optimization\n",
    "collect_summary: Prints names of weights and layers activations to use with other collect commands\n",
    "collect_weights: Collects tensors containing a pretrained model weights\n",
    "collect_activations: Collects tensors for each datapoint using a pretrained model\n",
    "export_savedmodel: Exports Ludwig models to SavedModel\n",
    "export_neuropod: Exports Ludwig models to Neuropod\n",
    "preprocess: Preprocess data and saves it into HDF5 and JSON format\n",
    "synthesize_dataset: Creates synthetic data for tesing purposes\n",
    "```\n",
    "To know more about these features please visit the [official Ludwig docs](https://ludwig-ai.github.io/ludwig-docs/user_guide/) "
   ]
  }
 ],
 "metadata": {
  "accelerator": "GPU",
  "colab": {
   "collapsed_sections": [],
   "name": "Ludwig x W&B.ipynb",
   "private_outputs": true,
   "provenance": []
  },
  "kernelspec": {
   "display_name": "ludwig",
   "language": "python",
   "name": "ludwig"
  },
  "language_info": {
   "codemirror_mode": {
    "name": "ipython",
    "version": 3
   },
   "file_extension": ".py",
   "mimetype": "text/x-python",
   "name": "python",
   "nbconvert_exporter": "python",
   "pygments_lexer": "ipython3",
   "version": "3.8.13"
  }
 },
 "nbformat": 4,
 "nbformat_minor": 1
}
