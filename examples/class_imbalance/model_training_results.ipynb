{
 "cells": [
  {
   "cell_type": "code",
   "execution_count": 6,
   "id": "7dabf979-c68b-47fc-9958-30194678e8cf",
   "metadata": {},
   "outputs": [
    {
     "name": "stdout",
     "output_type": "stream",
     "text": [
      "NumExpr defaulting to 8 threads.\n"
     ]
    }
   ],
   "source": [
    "from ludwig.utils.data_utils import load_json\n",
    "from ludwig.visualize import learning_curves\n",
    "import pandas as pd\n",
    "import numpy as np\n",
    "import os.path\n",
    "import matplotlib.pyplot as plt\n",
    "import seaborn as sns"
   ]
  },
  {
   "cell_type": "code",
   "execution_count": 7,
   "id": "ecf5e48e-3306-4e5f-8dcb-b32e7a90bcfc",
   "metadata": {},
   "outputs": [],
   "source": [
    "# retrieve training statistics\n",
    "list_of_stats = []\n",
    "list_of_models = []\n",
    "\n",
    "for model in [\"standard_model\", \"balanced_model\"]:\n",
    "    experiment_model_dir = './results/imbalance_experiment_' + model \n",
    "    train_stats = load_json(os.path.join(experiment_model_dir,'training_statistics.json'))\n",
    "    list_of_stats.append(train_stats)\n",
    "    list_of_models.append(model)\n",
    "    \n",
    "\n",
    "# generating learning curves from training\n",
    "learning_curves(list_of_stats, 'Class',\n",
    "                model_names=list_of_models,\n",
    "                output_directory='./visualizations',\n",
    "                file_format='png')"
   ]
  },
  {
   "cell_type": "markdown",
   "id": "7af824ec-5d6c-4ada-b79d-b6b4d606654a",
   "metadata": {},
   "source": [
    "# Generate Annotated Learning Curves Using seaborn package\n",
    "### Helper function to collect training statistics"
   ]
  },
  {
   "cell_type": "code",
   "execution_count": 8,
   "id": "3bc2230a-751d-445a-8719-ce79eff589d5",
   "metadata": {},
   "outputs": [],
   "source": [
    "# function to generate pandas data frame from training statistcs\n",
    "# Parameter:\n",
    "#   experiment_model_dir: directory containing the training statistics for a specific model training experiment\n",
    "#\n",
    "# Returns: pandas dataframe containing the performance metric and loss\n",
    "#\n",
    "\n",
    "def extract_training_stats(experiment_model_dir):\n",
    "    list_of_splits = ['training', 'validation', 'test']\n",
    "    list_of_df = []\n",
    "    for split in list_of_splits:\n",
    "        train_stats = load_json(os.path.join(experiment_model_dir,'training_statistics.json'))\n",
    "        df = pd.DataFrame(train_stats[split]['combined'])\n",
    "        df.columns = [split + '_' + c for c in df.columns]\n",
    "        list_of_df.append(df)\n",
    "        \n",
    "    df = pd.concat(list_of_df, axis=1)\n",
    "    df['epoch'] = df.index + 1\n",
    "        \n",
    "    return df"
   ]
  },
  {
   "cell_type": "markdown",
   "id": "ab771d17-9858-461f-8f36-dc65a151a006",
   "metadata": {},
   "source": [
    "### Retrieve training results"
   ]
  },
  {
   "cell_type": "code",
   "execution_count": 9,
   "id": "b3a2dcae-eade-40d6-96d7-f2923538f85b",
   "metadata": {},
   "outputs": [],
   "source": [
    "standard_model = extract_training_stats('./results/imbalance_experiment_standard_model')\n",
    "standard_model.name = 'standard_model'\n",
    "balanced_model = extract_training_stats('./results/imbalance_experiment_balanced_model')\n",
    "balanced_model.name = 'balanced_model'"
   ]
  },
  {
   "cell_type": "code",
   "execution_count": 10,
   "id": "1f577c58-aa12-4216-8bf6-e517b4b9c5dc",
   "metadata": {},
   "outputs": [
    {
     "data": {
      "text/html": [
       "<div>\n",
       "<style scoped>\n",
       "    .dataframe tbody tr th:only-of-type {\n",
       "        vertical-align: middle;\n",
       "    }\n",
       "\n",
       "    .dataframe tbody tr th {\n",
       "        vertical-align: top;\n",
       "    }\n",
       "\n",
       "    .dataframe thead th {\n",
       "        text-align: right;\n",
       "    }\n",
       "</style>\n",
       "<table border=\"1\" class=\"dataframe\">\n",
       "  <thead>\n",
       "    <tr style=\"text-align: right;\">\n",
       "      <th></th>\n",
       "      <th>training_loss</th>\n",
       "      <th>validation_loss</th>\n",
       "      <th>test_loss</th>\n",
       "      <th>epoch</th>\n",
       "    </tr>\n",
       "  </thead>\n",
       "  <tbody>\n",
       "    <tr>\n",
       "      <th>0</th>\n",
       "      <td>0.182051</td>\n",
       "      <td>NaN</td>\n",
       "      <td>0.166064</td>\n",
       "      <td>1</td>\n",
       "    </tr>\n",
       "    <tr>\n",
       "      <th>1</th>\n",
       "      <td>0.313858</td>\n",
       "      <td>NaN</td>\n",
       "      <td>0.287445</td>\n",
       "      <td>2</td>\n",
       "    </tr>\n",
       "    <tr>\n",
       "      <th>2</th>\n",
       "      <td>6.172166</td>\n",
       "      <td>NaN</td>\n",
       "      <td>6.160979</td>\n",
       "      <td>3</td>\n",
       "    </tr>\n",
       "    <tr>\n",
       "      <th>3</th>\n",
       "      <td>0.034831</td>\n",
       "      <td>NaN</td>\n",
       "      <td>0.031295</td>\n",
       "      <td>4</td>\n",
       "    </tr>\n",
       "    <tr>\n",
       "      <th>4</th>\n",
       "      <td>0.060923</td>\n",
       "      <td>NaN</td>\n",
       "      <td>0.056724</td>\n",
       "      <td>5</td>\n",
       "    </tr>\n",
       "  </tbody>\n",
       "</table>\n",
       "</div>"
      ],
      "text/plain": [
       "   training_loss  validation_loss  test_loss  epoch\n",
       "0       0.182051              NaN   0.166064      1\n",
       "1       0.313858              NaN   0.287445      2\n",
       "2       6.172166              NaN   6.160979      3\n",
       "3       0.034831              NaN   0.031295      4\n",
       "4       0.060923              NaN   0.056724      5"
      ]
     },
     "execution_count": 10,
     "metadata": {},
     "output_type": "execute_result"
    }
   ],
   "source": [
    "standard_model.head()"
   ]
  },
  {
   "cell_type": "markdown",
   "id": "43e642a8-29f0-4354-a063-b24e74237f37",
   "metadata": {},
   "source": [
    "### Helper function to generate plot ready data"
   ]
  },
  {
   "cell_type": "code",
   "execution_count": 11,
   "id": "e8707362-752c-4eca-a4e1-077fc0ab68fe",
   "metadata": {},
   "outputs": [],
   "source": [
    "# create pandas dataframe suitable for plotting learning curves\n",
    "# Parameters\n",
    "#   train_df_list: list of pandas datatframe containing training statistics\n",
    "#\n",
    "# Returns: plot ready pandas dataframe\n",
    "\n",
    "def create_plot_ready_data(list_of_train_stats_df):\n",
    "    # holding ready for plot ready data\n",
    "    plot_ready_list = []\n",
    "    \n",
    "    # consolidate the multiple training statistics dataframes\n",
    "    for df in list_of_train_stats_df:\n",
    "        for col in ['training', 'validation']:\n",
    "            df2 = df[['epoch', col + '_loss']].copy()\n",
    "            df2.columns = ['epoch', 'loss']\n",
    "            df2['type'] = col\n",
    "            df2['model'] = df.name\n",
    "            plot_ready_list.append(df2)\n",
    "\n",
    "    return pd.concat(plot_ready_list, axis=0, ignore_index=True)"
   ]
  },
  {
   "cell_type": "markdown",
   "id": "213a68a5-f3f6-4ea8-b118-b654e8d39390",
   "metadata": {
    "tags": []
   },
   "source": [
    "### Plot learning curves"
   ]
  },
  {
   "cell_type": "code",
   "execution_count": 12,
   "id": "3de90bda-accc-4cd7-9327-cb313783fab6",
   "metadata": {},
   "outputs": [],
   "source": [
    "# create plot ready data\n",
    "learning_curves = create_plot_ready_data([standard_model, balanced_model])"
   ]
  },
  {
   "cell_type": "code",
   "execution_count": 13,
   "id": "a78c3e19-51c5-484f-ad48-647cd00c6a1e",
   "metadata": {},
   "outputs": [
    {
     "data": {
      "text/plain": [
       "Text(0.5, 1.0, 'Learning Curves')"
      ]
     },
     "execution_count": 13,
     "metadata": {},
     "output_type": "execute_result"
    }
   ],
   "source": [
    "# Plot learning curves for the different models\n",
    "fig = plt.figure(figsize=(10,6))\n",
    "sns.set_style(style='dark')\n",
    "ax = sns.lineplot(x='epoch', y='loss',\n",
    "             style='type',\n",
    "             hue='model',\n",
    "             data=learning_curves)\n",
    "ax.set_title('Learning Curves', fontdict={'fontsize': 16})"
   ]
  },
  {
   "cell_type": "code",
   "execution_count": 14,
   "id": "224ff545-ff70-454f-858a-325bd79cc102",
   "metadata": {},
   "outputs": [],
   "source": [
    "fig.savefig('./visualizations/custom_learning_curve.png')"
   ]
  },
  {
   "cell_type": "code",
   "execution_count": 15,
   "id": "f58d8140-d8c7-4b75-82b3-2dc26a8fc3ee",
   "metadata": {},
   "outputs": [],
   "source": [
    "fig.show()"
   ]
  },
  {
   "cell_type": "code",
   "execution_count": null,
   "id": "518b3e3d-0c2d-47e9-b1c6-ac6fb1558ad7",
   "metadata": {},
   "outputs": [],
   "source": []
  }
 ],
 "metadata": {
  "kernelspec": {
   "display_name": "base39",
   "language": "python",
   "name": "base39"
  },
  "language_info": {
   "codemirror_mode": {
    "name": "ipython",
    "version": 3
   },
   "file_extension": ".py",
   "mimetype": "text/x-python",
   "name": "python",
   "nbconvert_exporter": "python",
   "pygments_lexer": "ipython3",
   "version": "3.9.10"
  }
 },
 "nbformat": 4,
 "nbformat_minor": 5
}
