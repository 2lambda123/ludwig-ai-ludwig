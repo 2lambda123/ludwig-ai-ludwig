{
 "cells": [
  {
   "cell_type": "code",
   "execution_count": 3,
   "id": "7dabf979-c68b-47fc-9958-30194678e8cf",
   "metadata": {},
   "outputs": [
    {
     "ename": "ModuleNotFoundError",
     "evalue": "No module named 'ludwig'",
     "output_type": "error",
     "traceback": [
      "\u001b[0;31m---------------------------------------------------------------------------\u001b[0m",
      "\u001b[0;31mModuleNotFoundError\u001b[0m                       Traceback (most recent call last)",
      "Input \u001b[0;32mIn [3]\u001b[0m, in \u001b[0;36m<module>\u001b[0;34m\u001b[0m\n\u001b[0;32m----> 1\u001b[0m \u001b[38;5;28;01mfrom\u001b[39;00m \u001b[38;5;21;01mludwig\u001b[39;00m\u001b[38;5;21;01m.\u001b[39;00m\u001b[38;5;21;01mutils\u001b[39;00m\u001b[38;5;21;01m.\u001b[39;00m\u001b[38;5;21;01mdata_utils\u001b[39;00m \u001b[38;5;28;01mimport\u001b[39;00m load_json\n\u001b[1;32m      2\u001b[0m \u001b[38;5;28;01mfrom\u001b[39;00m \u001b[38;5;21;01mludwig\u001b[39;00m\u001b[38;5;21;01m.\u001b[39;00m\u001b[38;5;21;01mvisualize\u001b[39;00m \u001b[38;5;28;01mimport\u001b[39;00m learning_curves\n\u001b[1;32m      3\u001b[0m \u001b[38;5;28;01mimport\u001b[39;00m \u001b[38;5;21;01mpandas\u001b[39;00m \u001b[38;5;28;01mas\u001b[39;00m \u001b[38;5;21;01mpd\u001b[39;00m\n",
      "\u001b[0;31mModuleNotFoundError\u001b[0m: No module named 'ludwig'"
     ]
    }
   ],
   "source": [
    "from ludwig.utils.data_utils import load_json\n",
    "from ludwig.visualize import learning_curves\n",
    "import pandas as pd\n",
    "import numpy as np\n",
    "import os.path\n",
    "import matplotlib.pyplot as plt\n",
    "import seaborn as sns"
   ]
  },
  {
   "cell_type": "code",
   "execution_count": null,
   "id": "ecf5e48e-3306-4e5f-8dcb-b32e7a90bcfc",
   "metadata": {},
   "outputs": [],
   "source": [
    "# retrieve training statistics\n",
    "list_of_stats = []\n",
    "list_of_models = []\n",
    "\n",
    "for model in ['model1', 'model2']:\n",
    "    experiment_model_dir = './results/multiple_experiment_' + model \n",
    "    train_stats = load_json(os.path.join(experiment_model_dir,'training_statistics.json'))\n",
    "    list_of_stats.append(train_stats)\n",
    "    list_of_models.append(model)\n",
    "    \n",
    "\n",
    "# generating learning curves from training\n",
    "learning_curves(list_of_stats, 'Survived',\n",
    "                model_names=list_of_models,\n",
    "                output_directory='./visualizations',\n",
    "                file_format='png')"
   ]
  },
  {
   "cell_type": "markdown",
   "id": "7af824ec-5d6c-4ada-b79d-b6b4d606654a",
   "metadata": {},
   "source": [
    "# Generate Annotated Learning Curves Using seaborn package\n",
    "### Helper function to collect training statistics"
   ]
  },
  {
   "cell_type": "code",
   "execution_count": null,
   "id": "3bc2230a-751d-445a-8719-ce79eff589d5",
   "metadata": {},
   "outputs": [],
   "source": [
    "# function to generate pandas data frame from training statistcs\n",
    "# Parameter:\n",
    "#   experiment_model_dir: directory containing the training statistics for a specific model training experiment\n",
    "#\n",
    "# Returns: pandas dataframe containing the performance metric and loss\n",
    "#\n",
    "\n",
    "def extract_training_stats(experiment_model_dir):\n",
    "    list_of_splits = ['training', 'validation', 'test']\n",
    "    list_of_df = []\n",
    "    for split in list_of_splits:\n",
    "        train_stats = load_json(os.path.join(experiment_model_dir,'training_statistics.json'))\n",
    "        df = pd.DataFrame(train_stats[split]['combined'])\n",
    "        df.columns = [split + '_' + c for c in df.columns]\n",
    "        list_of_df.append(df)\n",
    "        \n",
    "    df = pd.concat(list_of_df, axis=1)\n",
    "    df['epoch'] = df.index + 1\n",
    "        \n",
    "    return df"
   ]
  },
  {
   "cell_type": "markdown",
   "id": "ab771d17-9858-461f-8f36-dc65a151a006",
   "metadata": {},
   "source": [
    "### Retrieve training results"
   ]
  },
  {
   "cell_type": "code",
   "execution_count": null,
   "id": "b3a2dcae-eade-40d6-96d7-f2923538f85b",
   "metadata": {},
   "outputs": [],
   "source": [
    "model1 = extract_training_stats('./results/multiple_experiment_model1')\n",
    "model1.name = 'model1'\n",
    "model2 = extract_training_stats('./results/multiple_experiment_model2')\n",
    "model2.name = 'model2'"
   ]
  },
  {
   "cell_type": "code",
   "execution_count": null,
   "id": "1f577c58-aa12-4216-8bf6-e517b4b9c5dc",
   "metadata": {},
   "outputs": [],
   "source": [
    "model1.head()"
   ]
  },
  {
   "cell_type": "markdown",
   "id": "43e642a8-29f0-4354-a063-b24e74237f37",
   "metadata": {},
   "source": [
    "### Helper function to generate plot ready data"
   ]
  },
  {
   "cell_type": "code",
   "execution_count": null,
   "id": "e8707362-752c-4eca-a4e1-077fc0ab68fe",
   "metadata": {},
   "outputs": [],
   "source": [
    "# create pandas dataframe suitable for plotting learning curves\n",
    "# Parameters\n",
    "#   train_df_list: list of pandas datatframe containing training statistics\n",
    "#\n",
    "# Returns: plot ready pandas dataframe\n",
    "\n",
    "def create_plot_ready_data(list_of_train_stats_df):\n",
    "    # holding ready for plot ready data\n",
    "    plot_ready_list = []\n",
    "    \n",
    "    # consolidate the multiple training statistics dataframes\n",
    "    for df in list_of_train_stats_df:\n",
    "        for col in ['training', 'validation']:\n",
    "            df2 = df[['epoch', col + '_loss']].copy()\n",
    "            df2.columns = ['epoch', 'loss']\n",
    "            df2['type'] = col\n",
    "            df2['model'] = df.name\n",
    "            plot_ready_list.append(df2)\n",
    "\n",
    "    return pd.concat(plot_ready_list, axis=0, ignore_index=True)"
   ]
  },
  {
   "cell_type": "markdown",
   "id": "213a68a5-f3f6-4ea8-b118-b654e8d39390",
   "metadata": {
    "tags": []
   },
   "source": [
    "### Plot learning curves"
   ]
  },
  {
   "cell_type": "code",
   "execution_count": null,
   "id": "3de90bda-accc-4cd7-9327-cb313783fab6",
   "metadata": {},
   "outputs": [],
   "source": [
    "# create plot ready data\n",
    "learning_curves = create_plot_ready_data([model1, model2])"
   ]
  },
  {
   "cell_type": "code",
   "execution_count": null,
   "id": "a78c3e19-51c5-484f-ad48-647cd00c6a1e",
   "metadata": {},
   "outputs": [],
   "source": [
    "# Plot learning curves for the different models\n",
    "fig = plt.figure(figsize=(10,6))\n",
    "sns.set_style(style='dark')\n",
    "ax = sns.lineplot(x='epoch', y='loss',\n",
    "             style='type',\n",
    "             hue='model',\n",
    "             data=learning_curves)\n",
    "ax.set_title('Learning Curves', fontdict={'fontsize': 16})"
   ]
  },
  {
   "cell_type": "code",
   "execution_count": null,
   "id": "224ff545-ff70-454f-858a-325bd79cc102",
   "metadata": {},
   "outputs": [],
   "source": [
    "fig.savefig('./visualizations/custom_learning_curve.png')"
   ]
  }
 ],
 "metadata": {
  "kernelspec": {
   "display_name": "Python 3 (ipykernel)",
   "language": "python",
   "name": "python3"
  },
  "language_info": {
   "codemirror_mode": {
    "name": "ipython",
    "version": 3
   },
   "file_extension": ".py",
   "mimetype": "text/x-python",
   "name": "python",
   "nbconvert_exporter": "python",
   "pygments_lexer": "ipython3",
   "version": "3.9.7"
  }
 },
 "nbformat": 4,
 "nbformat_minor": 5
}
