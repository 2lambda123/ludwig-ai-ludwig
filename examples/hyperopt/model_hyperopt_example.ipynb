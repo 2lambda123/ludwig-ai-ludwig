{
 "cells": [
  {
   "cell_type": "markdown",
   "metadata": {},
   "source": [
    "# Hyperparameter Optimization In Ludwig\n",
    "\n"
   ]
  },
  {
   "cell_type": "markdown",
   "metadata": {},
   "source": [
    "Demonstrates hyper-parameter tuning capabilities of Ludwig. The following steps occur in this notebook:\n",
    "* Training data is prepared for use\n",
    "* Programmatically create Ludwig model definition dictionary from the training data dataframe\n",
    "* Setup parameter space for hyperparameter optimization\n",
    "* Perform two hyperparameter runs\n",
    "  * Parallel workers using random search strategy\n",
    "  * Serial processing using random search strategy\n",
    "  * Parallel workers using grid search strategy\n",
    "* Convert results returned from hyperparameter optimization to a dataframe"
   ]
  },
  {
   "cell_type": "markdown",
   "metadata": {},
   "source": [
    "## Import required libraries"
   ]
  },
  {
   "cell_type": "code",
   "execution_count": 1,
   "metadata": {
    "pycharm": {
     "is_executing": false
    }
   },
   "outputs": [],
   "source": [
    "import warnings\n",
    "warnings.simplefilter('ignore')\n",
    "\n",
    "import logging\n",
    "import shutil\n",
    "import tempfile\n",
    "import datetime\n",
    "\n",
    "import pandas as pd\n",
    "import numpy as np\n",
    "\n",
    "from ludwig.api import LudwigModel\n",
    "from ludwig.utils.data_utils import load_json\n",
    "from ludwig.utils.defaults import merge_with_defaults, ACCURACY\n",
    "from ludwig.utils.tf_utils import get_available_gpus_cuda_string\n",
    "from ludwig.visualize import learning_curves\n",
    "from ludwig.hyperopt.execution import get_build_hyperopt_executor\n",
    "from ludwig.hyperopt.sampling import (get_build_hyperopt_sampler)\n",
    "from ludwig.hyperopt.utils import update_hyperopt_params_with_defaults\n",
    "\n",
    "from sklearn.model_selection import train_test_split"
   ]
  },
  {
   "cell_type": "markdown",
   "metadata": {},
   "source": [
    "## Retrieve data for training"
   ]
  },
  {
   "cell_type": "code",
   "execution_count": 2,
   "metadata": {},
   "outputs": [
    {
     "data": {
      "text/plain": [
       "(6497, 13)"
      ]
     },
     "execution_count": 2,
     "metadata": {},
     "output_type": "execute_result"
    }
   ],
   "source": [
    "train_df = pd.read_csv('./data/winequalityN.csv')\n",
    "train_df.shape"
   ]
  },
  {
   "cell_type": "markdown",
   "metadata": {},
   "source": [
    "## Standardize column names to replace spaces(\" \") with underscore(\"_\")"
   ]
  },
  {
   "cell_type": "code",
   "execution_count": 3,
   "metadata": {},
   "outputs": [],
   "source": [
    "new_col = []\n",
    "for i in range(len(train_df.columns)):\n",
    "    new_col.append(train_df.columns[i].replace(' ', '_'))\n",
    "    \n",
    "train_df.columns = new_col\n"
   ]
  },
  {
   "cell_type": "markdown",
   "metadata": {},
   "source": [
    "## Data Set Overview"
   ]
  },
  {
   "cell_type": "code",
   "execution_count": 4,
   "metadata": {},
   "outputs": [
    {
     "data": {
      "text/plain": [
       "type                     object\n",
       "fixed_acidity           float64\n",
       "volatile_acidity        float64\n",
       "citric_acid             float64\n",
       "residual_sugar          float64\n",
       "chlorides               float64\n",
       "free_sulfur_dioxide     float64\n",
       "total_sulfur_dioxide    float64\n",
       "density                 float64\n",
       "pH                      float64\n",
       "sulphates               float64\n",
       "alcohol                 float64\n",
       "quality                   int64\n",
       "dtype: object"
      ]
     },
     "execution_count": 4,
     "metadata": {},
     "output_type": "execute_result"
    }
   ],
   "source": [
    "train_df.dtypes"
   ]
  },
  {
   "cell_type": "markdown",
   "metadata": {},
   "source": [
    "## Create training and test data sets"
   ]
  },
  {
   "cell_type": "code",
   "execution_count": 5,
   "metadata": {},
   "outputs": [
    {
     "data": {
      "text/plain": [
       "3      30\n",
       "4     216\n",
       "5    2138\n",
       "6    2836\n",
       "7    1079\n",
       "8     193\n",
       "9       5\n",
       "Name: quality, dtype: int64"
      ]
     },
     "execution_count": 5,
     "metadata": {},
     "output_type": "execute_result"
    }
   ],
   "source": [
    "train_df['quality'].value_counts().sort_index()"
   ]
  },
  {
   "cell_type": "code",
   "execution_count": 6,
   "metadata": {},
   "outputs": [
    {
     "name": "stdout",
     "output_type": "stream",
     "text": [
      "categorical variables: ['type'] \n",
      "\n",
      "numerical variables: ['citric_acid', 'total_sulfur_dioxide', 'pH', 'residual_sugar', 'sulphates', 'alcohol', 'chlorides', 'free_sulfur_dioxide', 'density', 'fixed_acidity', 'volatile_acidity'] \n",
      "\n"
     ]
    }
   ],
   "source": [
    "# isolate the predictor variables only\n",
    "predictor_vars = list(set(train_df.columns) - set(['quality']))\n",
    "\n",
    "#extract categorical variables\n",
    "categorical_vars = []\n",
    "for p in predictor_vars:\n",
    "    if train_df[p].dtype == 'object':\n",
    "        categorical_vars.append(p)\n",
    "        \n",
    "print(\"categorical variables:\", categorical_vars,'\\n')\n",
    "\n",
    "# get numerical variables\n",
    "numerical_vars = list(set(predictor_vars) - set(categorical_vars))\n",
    "\n",
    "print(\"numerical variables:\", numerical_vars,\"\\n\")"
   ]
  },
  {
   "cell_type": "code",
   "execution_count": 7,
   "metadata": {},
   "outputs": [
    {
     "data": {
      "text/html": [
       "<div>\n",
       "<style scoped>\n",
       "    .dataframe tbody tr th:only-of-type {\n",
       "        vertical-align: middle;\n",
       "    }\n",
       "\n",
       "    .dataframe tbody tr th {\n",
       "        vertical-align: top;\n",
       "    }\n",
       "\n",
       "    .dataframe thead th {\n",
       "        text-align: right;\n",
       "    }\n",
       "</style>\n",
       "<table border=\"1\" class=\"dataframe\">\n",
       "  <thead>\n",
       "    <tr style=\"text-align: right;\">\n",
       "      <th></th>\n",
       "      <th>count</th>\n",
       "      <th>mean</th>\n",
       "      <th>std</th>\n",
       "      <th>min</th>\n",
       "      <th>25%</th>\n",
       "      <th>50%</th>\n",
       "      <th>75%</th>\n",
       "      <th>max</th>\n",
       "    </tr>\n",
       "  </thead>\n",
       "  <tbody>\n",
       "    <tr>\n",
       "      <th>fixed_acidity</th>\n",
       "      <td>6487.0</td>\n",
       "      <td>7.216579</td>\n",
       "      <td>1.296750</td>\n",
       "      <td>3.80000</td>\n",
       "      <td>6.40000</td>\n",
       "      <td>7.00000</td>\n",
       "      <td>7.70000</td>\n",
       "      <td>15.90000</td>\n",
       "    </tr>\n",
       "    <tr>\n",
       "      <th>volatile_acidity</th>\n",
       "      <td>6489.0</td>\n",
       "      <td>0.339691</td>\n",
       "      <td>0.164649</td>\n",
       "      <td>0.08000</td>\n",
       "      <td>0.23000</td>\n",
       "      <td>0.29000</td>\n",
       "      <td>0.40000</td>\n",
       "      <td>1.58000</td>\n",
       "    </tr>\n",
       "    <tr>\n",
       "      <th>citric_acid</th>\n",
       "      <td>6494.0</td>\n",
       "      <td>0.318722</td>\n",
       "      <td>0.145265</td>\n",
       "      <td>0.00000</td>\n",
       "      <td>0.25000</td>\n",
       "      <td>0.31000</td>\n",
       "      <td>0.39000</td>\n",
       "      <td>1.66000</td>\n",
       "    </tr>\n",
       "    <tr>\n",
       "      <th>residual_sugar</th>\n",
       "      <td>6495.0</td>\n",
       "      <td>5.444326</td>\n",
       "      <td>4.758125</td>\n",
       "      <td>0.60000</td>\n",
       "      <td>1.80000</td>\n",
       "      <td>3.00000</td>\n",
       "      <td>8.10000</td>\n",
       "      <td>65.80000</td>\n",
       "    </tr>\n",
       "    <tr>\n",
       "      <th>chlorides</th>\n",
       "      <td>6495.0</td>\n",
       "      <td>0.056042</td>\n",
       "      <td>0.035036</td>\n",
       "      <td>0.00900</td>\n",
       "      <td>0.03800</td>\n",
       "      <td>0.04700</td>\n",
       "      <td>0.06500</td>\n",
       "      <td>0.61100</td>\n",
       "    </tr>\n",
       "    <tr>\n",
       "      <th>free_sulfur_dioxide</th>\n",
       "      <td>6497.0</td>\n",
       "      <td>30.525319</td>\n",
       "      <td>17.749400</td>\n",
       "      <td>1.00000</td>\n",
       "      <td>17.00000</td>\n",
       "      <td>29.00000</td>\n",
       "      <td>41.00000</td>\n",
       "      <td>289.00000</td>\n",
       "    </tr>\n",
       "    <tr>\n",
       "      <th>total_sulfur_dioxide</th>\n",
       "      <td>6497.0</td>\n",
       "      <td>115.744574</td>\n",
       "      <td>56.521855</td>\n",
       "      <td>6.00000</td>\n",
       "      <td>77.00000</td>\n",
       "      <td>118.00000</td>\n",
       "      <td>156.00000</td>\n",
       "      <td>440.00000</td>\n",
       "    </tr>\n",
       "    <tr>\n",
       "      <th>density</th>\n",
       "      <td>6497.0</td>\n",
       "      <td>0.994697</td>\n",
       "      <td>0.002999</td>\n",
       "      <td>0.98711</td>\n",
       "      <td>0.99234</td>\n",
       "      <td>0.99489</td>\n",
       "      <td>0.99699</td>\n",
       "      <td>1.03898</td>\n",
       "    </tr>\n",
       "    <tr>\n",
       "      <th>pH</th>\n",
       "      <td>6488.0</td>\n",
       "      <td>3.218395</td>\n",
       "      <td>0.160748</td>\n",
       "      <td>2.72000</td>\n",
       "      <td>3.11000</td>\n",
       "      <td>3.21000</td>\n",
       "      <td>3.32000</td>\n",
       "      <td>4.01000</td>\n",
       "    </tr>\n",
       "    <tr>\n",
       "      <th>sulphates</th>\n",
       "      <td>6493.0</td>\n",
       "      <td>0.531215</td>\n",
       "      <td>0.148814</td>\n",
       "      <td>0.22000</td>\n",
       "      <td>0.43000</td>\n",
       "      <td>0.51000</td>\n",
       "      <td>0.60000</td>\n",
       "      <td>2.00000</td>\n",
       "    </tr>\n",
       "    <tr>\n",
       "      <th>alcohol</th>\n",
       "      <td>6497.0</td>\n",
       "      <td>10.491801</td>\n",
       "      <td>1.192712</td>\n",
       "      <td>8.00000</td>\n",
       "      <td>9.50000</td>\n",
       "      <td>10.30000</td>\n",
       "      <td>11.30000</td>\n",
       "      <td>14.90000</td>\n",
       "    </tr>\n",
       "    <tr>\n",
       "      <th>quality</th>\n",
       "      <td>6497.0</td>\n",
       "      <td>5.818378</td>\n",
       "      <td>0.873255</td>\n",
       "      <td>3.00000</td>\n",
       "      <td>5.00000</td>\n",
       "      <td>6.00000</td>\n",
       "      <td>6.00000</td>\n",
       "      <td>9.00000</td>\n",
       "    </tr>\n",
       "  </tbody>\n",
       "</table>\n",
       "</div>"
      ],
      "text/plain": [
       "                       count        mean        std      min       25%  \\\n",
       "fixed_acidity         6487.0    7.216579   1.296750  3.80000   6.40000   \n",
       "volatile_acidity      6489.0    0.339691   0.164649  0.08000   0.23000   \n",
       "citric_acid           6494.0    0.318722   0.145265  0.00000   0.25000   \n",
       "residual_sugar        6495.0    5.444326   4.758125  0.60000   1.80000   \n",
       "chlorides             6495.0    0.056042   0.035036  0.00900   0.03800   \n",
       "free_sulfur_dioxide   6497.0   30.525319  17.749400  1.00000  17.00000   \n",
       "total_sulfur_dioxide  6497.0  115.744574  56.521855  6.00000  77.00000   \n",
       "density               6497.0    0.994697   0.002999  0.98711   0.99234   \n",
       "pH                    6488.0    3.218395   0.160748  2.72000   3.11000   \n",
       "sulphates             6493.0    0.531215   0.148814  0.22000   0.43000   \n",
       "alcohol               6497.0   10.491801   1.192712  8.00000   9.50000   \n",
       "quality               6497.0    5.818378   0.873255  3.00000   5.00000   \n",
       "\n",
       "                            50%        75%        max  \n",
       "fixed_acidity           7.00000    7.70000   15.90000  \n",
       "volatile_acidity        0.29000    0.40000    1.58000  \n",
       "citric_acid             0.31000    0.39000    1.66000  \n",
       "residual_sugar          3.00000    8.10000   65.80000  \n",
       "chlorides               0.04700    0.06500    0.61100  \n",
       "free_sulfur_dioxide    29.00000   41.00000  289.00000  \n",
       "total_sulfur_dioxide  118.00000  156.00000  440.00000  \n",
       "density                 0.99489    0.99699    1.03898  \n",
       "pH                      3.21000    3.32000    4.01000  \n",
       "sulphates               0.51000    0.60000    2.00000  \n",
       "alcohol                10.30000   11.30000   14.90000  \n",
       "quality                 6.00000    6.00000    9.00000  "
      ]
     },
     "execution_count": 7,
     "metadata": {},
     "output_type": "execute_result"
    }
   ],
   "source": [
    "train_df.describe().T"
   ]
  },
  {
   "cell_type": "code",
   "execution_count": 8,
   "metadata": {},
   "outputs": [
    {
     "name": "stdout",
     "output_type": "stream",
     "text": [
      "unique values for type is 2\n"
     ]
    }
   ],
   "source": [
    "for p in categorical_vars:\n",
    "    print(\"unique values for\",p,\"is\",train_df[p].nunique())"
   ]
  },
  {
   "cell_type": "markdown",
   "metadata": {},
   "source": [
    "## Create model definition"
   ]
  },
  {
   "cell_type": "code",
   "execution_count": 9,
   "metadata": {},
   "outputs": [],
   "source": [
    "# template for model definition\n",
    "model_definition = {'input_features':[], 'output_features': [], 'training':{}}\n",
    "\n",
    "# setup input features for categorical variables\n",
    "for p in categorical_vars:\n",
    "    a_feature = {'name': p.replace(' ','_'), 'type': 'category', 'representation': 'sparse'}\n",
    "    model_definition['input_features'].append(a_feature)\n",
    "\n",
    "\n",
    "# setup input features for numerical variables\n",
    "for p in numerical_vars:\n",
    "    a_feature = {'name': p.replace(' ','_'), 'type': 'numerical', \n",
    "                'preprocessing': {'missing_value_strategy': 'fill_with_mean', 'normalization': 'zscore'}}\n",
    "    model_definition['input_features'].append(a_feature)\n",
    "\n",
    "# set up output variable\n",
    "model_definition['output_features'].append({'name': 'quality', 'type':'category'})\n",
    "\n",
    "# set up training\n",
    "model_definition['training'] = {'epochs': 20}"
   ]
  },
  {
   "cell_type": "code",
   "execution_count": 10,
   "metadata": {},
   "outputs": [
    {
     "name": "stdout",
     "output_type": "stream",
     "text": [
      "model definition:\n"
     ]
    },
    {
     "data": {
      "text/plain": [
       "{'input_features': [{'name': 'type',\n",
       "   'type': 'category',\n",
       "   'representation': 'sparse'},\n",
       "  {'name': 'citric_acid',\n",
       "   'type': 'numerical',\n",
       "   'preprocessing': {'missing_value_strategy': 'fill_with_mean',\n",
       "    'normalization': 'zscore'}},\n",
       "  {'name': 'total_sulfur_dioxide',\n",
       "   'type': 'numerical',\n",
       "   'preprocessing': {'missing_value_strategy': 'fill_with_mean',\n",
       "    'normalization': 'zscore'}},\n",
       "  {'name': 'pH',\n",
       "   'type': 'numerical',\n",
       "   'preprocessing': {'missing_value_strategy': 'fill_with_mean',\n",
       "    'normalization': 'zscore'}},\n",
       "  {'name': 'residual_sugar',\n",
       "   'type': 'numerical',\n",
       "   'preprocessing': {'missing_value_strategy': 'fill_with_mean',\n",
       "    'normalization': 'zscore'}},\n",
       "  {'name': 'sulphates',\n",
       "   'type': 'numerical',\n",
       "   'preprocessing': {'missing_value_strategy': 'fill_with_mean',\n",
       "    'normalization': 'zscore'}},\n",
       "  {'name': 'alcohol',\n",
       "   'type': 'numerical',\n",
       "   'preprocessing': {'missing_value_strategy': 'fill_with_mean',\n",
       "    'normalization': 'zscore'}},\n",
       "  {'name': 'chlorides',\n",
       "   'type': 'numerical',\n",
       "   'preprocessing': {'missing_value_strategy': 'fill_with_mean',\n",
       "    'normalization': 'zscore'}},\n",
       "  {'name': 'free_sulfur_dioxide',\n",
       "   'type': 'numerical',\n",
       "   'preprocessing': {'missing_value_strategy': 'fill_with_mean',\n",
       "    'normalization': 'zscore'}},\n",
       "  {'name': 'density',\n",
       "   'type': 'numerical',\n",
       "   'preprocessing': {'missing_value_strategy': 'fill_with_mean',\n",
       "    'normalization': 'zscore'}},\n",
       "  {'name': 'fixed_acidity',\n",
       "   'type': 'numerical',\n",
       "   'preprocessing': {'missing_value_strategy': 'fill_with_mean',\n",
       "    'normalization': 'zscore'}},\n",
       "  {'name': 'volatile_acidity',\n",
       "   'type': 'numerical',\n",
       "   'preprocessing': {'missing_value_strategy': 'fill_with_mean',\n",
       "    'normalization': 'zscore'}}],\n",
       " 'output_features': [{'name': 'quality', 'type': 'category'}],\n",
       " 'training': {'epochs': 20}}"
      ]
     },
     "execution_count": 10,
     "metadata": {},
     "output_type": "execute_result"
    }
   ],
   "source": [
    "# View the model defintion\n",
    "print(\"model definition:\")\n",
    "model_definition"
   ]
  },
  {
   "cell_type": "markdown",
   "metadata": {},
   "source": [
    "## Define hyperparameter search space"
   ]
  },
  {
   "cell_type": "code",
   "execution_count": 11,
   "metadata": {},
   "outputs": [],
   "source": [
    "SEED=13\n",
    "\n",
    "HYPEROPT_CONFIG = {\n",
    "    \"parameters\": {\n",
    "        \"training.learning_rate\": {\n",
    "            \"type\": \"float\",\n",
    "            \"low\": 0.0001,\n",
    "            \"high\": 0.01,\n",
    "            \"space\": \"log\",\n",
    "            \"steps\": 3,\n",
    "        },\n",
    "        \"training.batch_size\": {\n",
    "            \"type\": \"int\",\n",
    "            \"low\": 32,\n",
    "            \"high\": 256,\n",
    "            \"space\": \"log\",\n",
    "            \"steps\": 5,\n",
    "            \"base\" : 2\n",
    "        },\n",
    "        \"quality.fc_size\": {\n",
    "            \"type\": \"int\",\n",
    "            \"low\": 32,\n",
    "            \"high\": 256,\n",
    "            \"steps\": 5\n",
    "        },\n",
    "        \"quality.num_fc_layers\": {\n",
    "            'type': 'int',\n",
    "            'low': 1,\n",
    "            'high': 5,\n",
    "            'space': 'linear',\n",
    "            'steps': 4\n",
    "        }\n",
    "    },\n",
    "    \"goal\": \"minimize\",\n",
    "    'output_feature': \"quality\",\n",
    "    'validation_metrics': 'loss'\n",
    "}"
   ]
  },
  {
   "cell_type": "markdown",
   "metadata": {},
   "source": [
    "## Helper Function to run Hyperopt "
   ]
  },
  {
   "cell_type": "code",
   "execution_count": 12,
   "metadata": {},
   "outputs": [],
   "source": [
    "# function to run hyperparameter optimization run\n",
    "def run_hyperopt_executor(sampler, executor, model_definition,\n",
    "                      dataset):\n",
    "\n",
    "    # update model definition with remaining defaults\n",
    "    model_definition = merge_with_defaults(model_definition)\n",
    "\n",
    "    # get copy of hyperparameter configuration parameters to optimize\n",
    "    hyperopt_config = HYPEROPT_CONFIG.copy()\n",
    "\n",
    "    # update with remaining defaults\n",
    "    update_hyperopt_params_with_defaults(hyperopt_config)\n",
    "\n",
    "    # Extract relevant parameters\n",
    "    parameters = hyperopt_config[\"parameters\"]\n",
    "    split = hyperopt_config[\"split\"]\n",
    "    output_feature = hyperopt_config[\"output_feature\"]\n",
    "    metric = hyperopt_config[\"metric\"]\n",
    "    goal = hyperopt_config[\"goal\"]\n",
    "\n",
    "    # setup sampler\n",
    "    hyperopt_sampler = get_build_hyperopt_sampler(\n",
    "        sampler[\"type\"])(goal, parameters, **sampler)\n",
    "\n",
    "    # setup executor\n",
    "    hyperopt_executor = get_build_hyperopt_executor(executor[\"type\"])(\n",
    "        hyperopt_sampler, output_feature, metric, split, **executor)\n",
    "\n",
    "    # run hyperparameter executor\n",
    "    hyperopt_results = hyperopt_executor.execute(model_definition,\n",
    "                              dataset=dataset,\n",
    "                              gpus=get_available_gpus_cuda_string())\n",
    "\n",
    "    return hyperopt_results\n",
    "\n",
    "# function to convert results from hyperopt run into a dataframe\n",
    "def extract_row_data(hyperopt_result):\n",
    "    row = hyperopt_result['parameters']\n",
    "    row['metric_score'] = hyperopt_result['metric_score']\n",
    "    return row"
   ]
  },
  {
   "cell_type": "markdown",
   "metadata": {},
   "source": [
    "## Train with optimal hyperparameters on the whole data set"
   ]
  },
  {
   "cell_type": "code",
   "execution_count": 13,
   "metadata": {},
   "outputs": [],
   "source": [
    "# clean out old results\n",
    "shutil.rmtree('./results', ignore_errors=True)\n",
    "shutil.rmtree('./visualizations', ignore_errors=True)"
   ]
  },
  {
   "cell_type": "markdown",
   "metadata": {},
   "source": [
    "#### Random Search with 4 parallel executors"
   ]
  },
  {
   "cell_type": "code",
   "execution_count": 14,
   "metadata": {},
   "outputs": [
    {
     "name": "stdout",
     "output_type": "stream",
     "text": [
      "starting: 2020-09-21 02:23:20.635976\n",
      "CPU times: user 242 ms, sys: 104 ms, total: 346 ms\n",
      "Wall time: 1min 50s\n"
     ]
    }
   ],
   "source": [
    "%%time\n",
    "print(\"starting:\", datetime.datetime.now())\n",
    "random_parallel_results = run_hyperopt_executor(\n",
    "    {'type': 'random', 'num_samples': 10},  # sampler\n",
    "   {'type': 'parallel', 'num_workers': 4}, # executor\n",
    "    model_definition,\n",
    "    train_df.sample(4000, random_state=42)  # limit number records for demonstration purposes\n",
    ")"
   ]
  },
  {
   "cell_type": "markdown",
   "metadata": {},
   "source": [
    "#### Random Search with serial executor"
   ]
  },
  {
   "cell_type": "code",
   "execution_count": 15,
   "metadata": {},
   "outputs": [
    {
     "name": "stdout",
     "output_type": "stream",
     "text": [
      "starting: 2020-09-21 02:25:11.252120\n",
      "CPU times: user 1min 25s, sys: 17.4 s, total: 1min 43s\n",
      "Wall time: 1min 32s\n"
     ]
    }
   ],
   "source": [
    "%%time\n",
    "print(\"starting:\", datetime.datetime.now())\n",
    "random_serial_results = run_hyperopt_executor(\n",
    "    {'type': 'random', 'num_samples': 10},  # sampler\n",
    "    {'type': 'serial'},  #executor\n",
    "    model_definition,\n",
    "    train_df.sample(4000, random_state=42)  # limit number records for demonstration purposes\n",
    ")"
   ]
  },
  {
   "cell_type": "markdown",
   "metadata": {},
   "source": [
    "#### Grid Search with 4 parallel executors (takes about 35 minutes)"
   ]
  },
  {
   "cell_type": "code",
   "execution_count": 20,
   "metadata": {},
   "outputs": [
    {
     "name": "stdout",
     "output_type": "stream",
     "text": [
      "starting: 2020-09-21 02:37:59.433166\n",
      "CPU times: user 2.16 s, sys: 697 ms, total: 2.86 s\n",
      "Wall time: 37min 19s\n"
     ]
    }
   ],
   "source": [
    "%%time\n",
    "print(\"starting:\", datetime.datetime.now())\n",
    "grid_parallel_results = run_hyperopt_executor(\n",
    "    {'type': 'grid'},  # sampler\n",
    "    {'type': 'parallel', 'num_workers': 4}, # executor\n",
    "    model_definition,\n",
    "    train_df.sample(4000, random_state=42)  # limit number records for demonstration purposes\n",
    ")"
   ]
  },
  {
   "cell_type": "markdown",
   "metadata": {},
   "source": [
    "### Note:\n",
    "`random_parallel_results`, `random_serial_results` and `grid_parallel_results` are lists.  The first element in each list contains the best performing metric with the associated parameters."
   ]
  },
  {
   "cell_type": "markdown",
   "metadata": {},
   "source": [
    "## Convert hyperparameter optimization results to dataframe"
   ]
  },
  {
   "cell_type": "markdown",
   "metadata": {},
   "source": [
    "#### Results For Random Search with 4 parallel executors"
   ]
  },
  {
   "cell_type": "code",
   "execution_count": 21,
   "metadata": {},
   "outputs": [
    {
     "name": "stdout",
     "output_type": "stream",
     "text": [
      "   quality.fc_size  quality.num_fc_layers  training.batch_size  \\\n",
      "0              224                      4                   44   \n",
      "1              176                      5                   55   \n",
      "2               70                      2                   38   \n",
      "3              190                      4                   82   \n",
      "4              182                      4                   51   \n",
      "5              256                      2                  155   \n",
      "6               92                      3                   34   \n",
      "7               93                      1                  207   \n",
      "8              102                      1                  208   \n",
      "9              102                      3                  186   \n",
      "\n",
      "   training.learning_rate  metric_score  \n",
      "0                0.001996      1.038846  \n",
      "1                0.000200      1.053650  \n",
      "2                0.000170      1.053995  \n",
      "3                0.000503      1.055694  \n",
      "4                0.007774      1.058455  \n",
      "5                0.001143      1.061131  \n",
      "6                0.001825      1.080272  \n",
      "7                0.001759      1.093586  \n",
      "8                0.000328      1.169044  \n",
      "9                0.006721      1.182536  \n"
     ]
    }
   ],
   "source": [
    "df = pd.DataFrame.from_dict([extract_row_data(result) for result in random_parallel_results])\n",
    "print(df)"
   ]
  },
  {
   "cell_type": "markdown",
   "metadata": {},
   "source": [
    "#### Results for Random Search with serial executor"
   ]
  },
  {
   "cell_type": "code",
   "execution_count": 22,
   "metadata": {},
   "outputs": [
    {
     "name": "stdout",
     "output_type": "stream",
     "text": [
      "   quality.fc_size  quality.num_fc_layers  training.batch_size  \\\n",
      "0               80                      4                   38   \n",
      "1              216                      3                   38   \n",
      "2              139                      3                   39   \n",
      "3               45                      3                   34   \n",
      "4              168                      5                   72   \n",
      "5              132                      4                   41   \n",
      "6              249                      3                  177   \n",
      "7              219                      1                   84   \n",
      "8              194                      1                  122   \n",
      "9               80                      2                  189   \n",
      "\n",
      "   training.learning_rate  metric_score  \n",
      "0                0.000193      1.028224  \n",
      "1                0.004513      1.040447  \n",
      "2                0.004429      1.070734  \n",
      "3                0.009849      1.071095  \n",
      "4                0.000172      1.076602  \n",
      "5                0.001565      1.085979  \n",
      "6                0.000183      1.095424  \n",
      "7                0.000182      1.117364  \n",
      "8                0.005584      1.127487  \n",
      "9                0.000189      1.149439  \n"
     ]
    }
   ],
   "source": [
    "df2 = pd.DataFrame.from_dict([extract_row_data(result) for result in random_serial_results])\n",
    "print(df2)"
   ]
  },
  {
   "cell_type": "markdown",
   "metadata": {},
   "source": [
    "#### Results for Grid Search with 4 parallel executors (takes about 35 minutes)"
   ]
  },
  {
   "cell_type": "code",
   "execution_count": 23,
   "metadata": {},
   "outputs": [
    {
     "name": "stdout",
     "output_type": "stream",
     "text": [
      "     quality.fc_size  quality.num_fc_layers  training.batch_size  \\\n",
      "0                 32                      5                  144   \n",
      "1                144                      3                  144   \n",
      "2                 32                      3                  144   \n",
      "3                200                      3                   88   \n",
      "4                 88                      5                   88   \n",
      "..               ...                    ...                  ...   \n",
      "295               32                      1                  200   \n",
      "296               32                      5                  256   \n",
      "297               32                      1                  256   \n",
      "298               32                      2                  200   \n",
      "299               32                      2                  256   \n",
      "\n",
      "     training.learning_rate  metric_score  \n",
      "0                    0.0100      1.029655  \n",
      "1                    0.0100      1.041182  \n",
      "2                    0.0100      1.041571  \n",
      "3                    0.0100      1.042210  \n",
      "4                    0.0100      1.042356  \n",
      "..                      ...           ...  \n",
      "295                  0.0001      1.633013  \n",
      "296                  0.0001      1.675705  \n",
      "297                  0.0001      1.688350  \n",
      "298                  0.0001      1.736626  \n",
      "299                  0.0001      1.833016  \n",
      "\n",
      "[300 rows x 5 columns]\n"
     ]
    }
   ],
   "source": [
    "df3 = pd.DataFrame.from_dict([extract_row_data(result) for result in grid_parallel_results])\n",
    "print(df3)"
   ]
  },
  {
   "cell_type": "code",
   "execution_count": null,
   "metadata": {},
   "outputs": [],
   "source": []
  }
 ],
 "metadata": {
  "kernelspec": {
   "display_name": "Python 3",
   "language": "python",
   "name": "python3"
  },
  "language_info": {
   "codemirror_mode": {
    "name": "ipython",
    "version": 3
   },
   "file_extension": ".py",
   "mimetype": "text/x-python",
   "name": "python",
   "nbconvert_exporter": "python",
   "pygments_lexer": "ipython3",
   "version": "3.6.9"
  }
 },
 "nbformat": 4,
 "nbformat_minor": 2
}
