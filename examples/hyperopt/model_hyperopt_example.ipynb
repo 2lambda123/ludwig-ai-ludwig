{
 "cells": [
  {
   "cell_type": "markdown",
   "metadata": {},
   "source": [
    "# Hyperparameter Optimization In Ludwig\n",
    "\n"
   ]
  },
  {
   "cell_type": "markdown",
   "metadata": {},
   "source": [
    "Demonstrates hyper-parameter tuning capabilities of Ludwig. The following steps occur in this notebook:\n",
    "* Training data is prepared for use\n",
    "* Programmatically create Ludwig model definition dictionary from the training data dataframe\n",
    "* Setup parameter space for hyperparameter optimization\n",
    "* Perform two hyperparameter runs\n",
    "  * Parallel workers using random search strategy\n",
    "  * Serial processing using random search strategy\n",
    "  * Parallel workers using grid search strategy\n",
    "* Convert results returned from hyperparameter optimization to a dataframe"
   ]
  },
  {
   "cell_type": "markdown",
   "metadata": {},
   "source": [
    "## Import required libraries"
   ]
  },
  {
   "cell_type": "code",
   "execution_count": 1,
   "metadata": {
    "pycharm": {
     "is_executing": false
    }
   },
   "outputs": [],
   "source": [
    "import warnings\n",
    "warnings.simplefilter('ignore')\n",
    "\n",
    "import logging\n",
    "import shutil\n",
    "import tempfile\n",
    "import datetime\n",
    "\n",
    "import pandas as pd\n",
    "import numpy as np\n",
    "\n",
    "from ludwig.api import LudwigModel\n",
    "from ludwig.utils.data_utils import load_json\n",
    "from ludwig.utils.defaults import merge_with_defaults, ACCURACY\n",
    "from ludwig.utils.tf_utils import get_available_gpus_cuda_string\n",
    "from ludwig.visualize import learning_curves\n",
    "from ludwig.hyperopt.execution import get_build_hyperopt_executor\n",
    "from ludwig.hyperopt.sampling import (get_build_hyperopt_sampler)\n",
    "from ludwig.hyperopt.utils import update_hyperopt_params_with_defaults\n",
    "from ludwig.visualize import hyperopt_results_to_dataframe, hyperopt_hiplot_cli, hyperopt_report_cli\n",
    "\n",
    "from sklearn.model_selection import train_test_split"
   ]
  },
  {
   "cell_type": "markdown",
   "metadata": {},
   "source": [
    "## Retrieve data for training"
   ]
  },
  {
   "cell_type": "code",
   "execution_count": 2,
   "metadata": {},
   "outputs": [
    {
     "data": {
      "text/plain": [
       "(6497, 13)"
      ]
     },
     "execution_count": 2,
     "metadata": {},
     "output_type": "execute_result"
    }
   ],
   "source": [
    "train_df = pd.read_csv('./data/winequalityN.csv')\n",
    "train_df.shape"
   ]
  },
  {
   "cell_type": "markdown",
   "metadata": {},
   "source": [
    "## Standardize column names to replace spaces(\" \") with underscore(\"_\")"
   ]
  },
  {
   "cell_type": "code",
   "execution_count": 3,
   "metadata": {},
   "outputs": [],
   "source": [
    "new_col = []\n",
    "for i in range(len(train_df.columns)):\n",
    "    new_col.append(train_df.columns[i].replace(' ', '_'))\n",
    "    \n",
    "train_df.columns = new_col\n"
   ]
  },
  {
   "cell_type": "markdown",
   "metadata": {},
   "source": [
    "## Data Set Overview"
   ]
  },
  {
   "cell_type": "code",
   "execution_count": 4,
   "metadata": {},
   "outputs": [
    {
     "data": {
      "text/plain": [
       "type                     object\n",
       "fixed_acidity           float64\n",
       "volatile_acidity        float64\n",
       "citric_acid             float64\n",
       "residual_sugar          float64\n",
       "chlorides               float64\n",
       "free_sulfur_dioxide     float64\n",
       "total_sulfur_dioxide    float64\n",
       "density                 float64\n",
       "pH                      float64\n",
       "sulphates               float64\n",
       "alcohol                 float64\n",
       "quality                   int64\n",
       "dtype: object"
      ]
     },
     "execution_count": 4,
     "metadata": {},
     "output_type": "execute_result"
    }
   ],
   "source": [
    "train_df.dtypes"
   ]
  },
  {
   "cell_type": "markdown",
   "metadata": {},
   "source": [
    "## Create training and test data sets"
   ]
  },
  {
   "cell_type": "code",
   "execution_count": 5,
   "metadata": {},
   "outputs": [
    {
     "data": {
      "text/plain": [
       "3      30\n",
       "4     216\n",
       "5    2138\n",
       "6    2836\n",
       "7    1079\n",
       "8     193\n",
       "9       5\n",
       "Name: quality, dtype: int64"
      ]
     },
     "execution_count": 5,
     "metadata": {},
     "output_type": "execute_result"
    }
   ],
   "source": [
    "train_df['quality'].value_counts().sort_index()"
   ]
  },
  {
   "cell_type": "code",
   "execution_count": 6,
   "metadata": {},
   "outputs": [
    {
     "name": "stdout",
     "output_type": "stream",
     "text": [
      "categorical variables: ['type'] \n",
      "\n",
      "numerical variables: ['alcohol', 'pH', 'sulphates', 'free_sulfur_dioxide', 'chlorides', 'citric_acid', 'volatile_acidity', 'fixed_acidity', 'density', 'residual_sugar', 'total_sulfur_dioxide'] \n",
      "\n"
     ]
    }
   ],
   "source": [
    "# isolate the predictor variables only\n",
    "predictor_vars = list(set(train_df.columns) - set(['quality']))\n",
    "\n",
    "#extract categorical variables\n",
    "categorical_vars = []\n",
    "for p in predictor_vars:\n",
    "    if train_df[p].dtype == 'object':\n",
    "        categorical_vars.append(p)\n",
    "        \n",
    "print(\"categorical variables:\", categorical_vars,'\\n')\n",
    "\n",
    "# get numerical variables\n",
    "numerical_vars = list(set(predictor_vars) - set(categorical_vars))\n",
    "\n",
    "print(\"numerical variables:\", numerical_vars,\"\\n\")"
   ]
  },
  {
   "cell_type": "code",
   "execution_count": 7,
   "metadata": {},
   "outputs": [
    {
     "data": {
      "text/html": [
       "<div>\n",
       "<style scoped>\n",
       "    .dataframe tbody tr th:only-of-type {\n",
       "        vertical-align: middle;\n",
       "    }\n",
       "\n",
       "    .dataframe tbody tr th {\n",
       "        vertical-align: top;\n",
       "    }\n",
       "\n",
       "    .dataframe thead th {\n",
       "        text-align: right;\n",
       "    }\n",
       "</style>\n",
       "<table border=\"1\" class=\"dataframe\">\n",
       "  <thead>\n",
       "    <tr style=\"text-align: right;\">\n",
       "      <th></th>\n",
       "      <th>count</th>\n",
       "      <th>mean</th>\n",
       "      <th>std</th>\n",
       "      <th>min</th>\n",
       "      <th>25%</th>\n",
       "      <th>50%</th>\n",
       "      <th>75%</th>\n",
       "      <th>max</th>\n",
       "    </tr>\n",
       "  </thead>\n",
       "  <tbody>\n",
       "    <tr>\n",
       "      <th>fixed_acidity</th>\n",
       "      <td>6487.0</td>\n",
       "      <td>7.216579</td>\n",
       "      <td>1.296750</td>\n",
       "      <td>3.80000</td>\n",
       "      <td>6.40000</td>\n",
       "      <td>7.00000</td>\n",
       "      <td>7.70000</td>\n",
       "      <td>15.90000</td>\n",
       "    </tr>\n",
       "    <tr>\n",
       "      <th>volatile_acidity</th>\n",
       "      <td>6489.0</td>\n",
       "      <td>0.339691</td>\n",
       "      <td>0.164649</td>\n",
       "      <td>0.08000</td>\n",
       "      <td>0.23000</td>\n",
       "      <td>0.29000</td>\n",
       "      <td>0.40000</td>\n",
       "      <td>1.58000</td>\n",
       "    </tr>\n",
       "    <tr>\n",
       "      <th>citric_acid</th>\n",
       "      <td>6494.0</td>\n",
       "      <td>0.318722</td>\n",
       "      <td>0.145265</td>\n",
       "      <td>0.00000</td>\n",
       "      <td>0.25000</td>\n",
       "      <td>0.31000</td>\n",
       "      <td>0.39000</td>\n",
       "      <td>1.66000</td>\n",
       "    </tr>\n",
       "    <tr>\n",
       "      <th>residual_sugar</th>\n",
       "      <td>6495.0</td>\n",
       "      <td>5.444326</td>\n",
       "      <td>4.758125</td>\n",
       "      <td>0.60000</td>\n",
       "      <td>1.80000</td>\n",
       "      <td>3.00000</td>\n",
       "      <td>8.10000</td>\n",
       "      <td>65.80000</td>\n",
       "    </tr>\n",
       "    <tr>\n",
       "      <th>chlorides</th>\n",
       "      <td>6495.0</td>\n",
       "      <td>0.056042</td>\n",
       "      <td>0.035036</td>\n",
       "      <td>0.00900</td>\n",
       "      <td>0.03800</td>\n",
       "      <td>0.04700</td>\n",
       "      <td>0.06500</td>\n",
       "      <td>0.61100</td>\n",
       "    </tr>\n",
       "    <tr>\n",
       "      <th>free_sulfur_dioxide</th>\n",
       "      <td>6497.0</td>\n",
       "      <td>30.525319</td>\n",
       "      <td>17.749400</td>\n",
       "      <td>1.00000</td>\n",
       "      <td>17.00000</td>\n",
       "      <td>29.00000</td>\n",
       "      <td>41.00000</td>\n",
       "      <td>289.00000</td>\n",
       "    </tr>\n",
       "    <tr>\n",
       "      <th>total_sulfur_dioxide</th>\n",
       "      <td>6497.0</td>\n",
       "      <td>115.744574</td>\n",
       "      <td>56.521855</td>\n",
       "      <td>6.00000</td>\n",
       "      <td>77.00000</td>\n",
       "      <td>118.00000</td>\n",
       "      <td>156.00000</td>\n",
       "      <td>440.00000</td>\n",
       "    </tr>\n",
       "    <tr>\n",
       "      <th>density</th>\n",
       "      <td>6497.0</td>\n",
       "      <td>0.994697</td>\n",
       "      <td>0.002999</td>\n",
       "      <td>0.98711</td>\n",
       "      <td>0.99234</td>\n",
       "      <td>0.99489</td>\n",
       "      <td>0.99699</td>\n",
       "      <td>1.03898</td>\n",
       "    </tr>\n",
       "    <tr>\n",
       "      <th>pH</th>\n",
       "      <td>6488.0</td>\n",
       "      <td>3.218395</td>\n",
       "      <td>0.160748</td>\n",
       "      <td>2.72000</td>\n",
       "      <td>3.11000</td>\n",
       "      <td>3.21000</td>\n",
       "      <td>3.32000</td>\n",
       "      <td>4.01000</td>\n",
       "    </tr>\n",
       "    <tr>\n",
       "      <th>sulphates</th>\n",
       "      <td>6493.0</td>\n",
       "      <td>0.531215</td>\n",
       "      <td>0.148814</td>\n",
       "      <td>0.22000</td>\n",
       "      <td>0.43000</td>\n",
       "      <td>0.51000</td>\n",
       "      <td>0.60000</td>\n",
       "      <td>2.00000</td>\n",
       "    </tr>\n",
       "    <tr>\n",
       "      <th>alcohol</th>\n",
       "      <td>6497.0</td>\n",
       "      <td>10.491801</td>\n",
       "      <td>1.192712</td>\n",
       "      <td>8.00000</td>\n",
       "      <td>9.50000</td>\n",
       "      <td>10.30000</td>\n",
       "      <td>11.30000</td>\n",
       "      <td>14.90000</td>\n",
       "    </tr>\n",
       "    <tr>\n",
       "      <th>quality</th>\n",
       "      <td>6497.0</td>\n",
       "      <td>5.818378</td>\n",
       "      <td>0.873255</td>\n",
       "      <td>3.00000</td>\n",
       "      <td>5.00000</td>\n",
       "      <td>6.00000</td>\n",
       "      <td>6.00000</td>\n",
       "      <td>9.00000</td>\n",
       "    </tr>\n",
       "  </tbody>\n",
       "</table>\n",
       "</div>"
      ],
      "text/plain": [
       "                       count        mean        std      min       25%  \\\n",
       "fixed_acidity         6487.0    7.216579   1.296750  3.80000   6.40000   \n",
       "volatile_acidity      6489.0    0.339691   0.164649  0.08000   0.23000   \n",
       "citric_acid           6494.0    0.318722   0.145265  0.00000   0.25000   \n",
       "residual_sugar        6495.0    5.444326   4.758125  0.60000   1.80000   \n",
       "chlorides             6495.0    0.056042   0.035036  0.00900   0.03800   \n",
       "free_sulfur_dioxide   6497.0   30.525319  17.749400  1.00000  17.00000   \n",
       "total_sulfur_dioxide  6497.0  115.744574  56.521855  6.00000  77.00000   \n",
       "density               6497.0    0.994697   0.002999  0.98711   0.99234   \n",
       "pH                    6488.0    3.218395   0.160748  2.72000   3.11000   \n",
       "sulphates             6493.0    0.531215   0.148814  0.22000   0.43000   \n",
       "alcohol               6497.0   10.491801   1.192712  8.00000   9.50000   \n",
       "quality               6497.0    5.818378   0.873255  3.00000   5.00000   \n",
       "\n",
       "                            50%        75%        max  \n",
       "fixed_acidity           7.00000    7.70000   15.90000  \n",
       "volatile_acidity        0.29000    0.40000    1.58000  \n",
       "citric_acid             0.31000    0.39000    1.66000  \n",
       "residual_sugar          3.00000    8.10000   65.80000  \n",
       "chlorides               0.04700    0.06500    0.61100  \n",
       "free_sulfur_dioxide    29.00000   41.00000  289.00000  \n",
       "total_sulfur_dioxide  118.00000  156.00000  440.00000  \n",
       "density                 0.99489    0.99699    1.03898  \n",
       "pH                      3.21000    3.32000    4.01000  \n",
       "sulphates               0.51000    0.60000    2.00000  \n",
       "alcohol                10.30000   11.30000   14.90000  \n",
       "quality                 6.00000    6.00000    9.00000  "
      ]
     },
     "execution_count": 7,
     "metadata": {},
     "output_type": "execute_result"
    }
   ],
   "source": [
    "train_df.describe().T"
   ]
  },
  {
   "cell_type": "code",
   "execution_count": 8,
   "metadata": {},
   "outputs": [
    {
     "name": "stdout",
     "output_type": "stream",
     "text": [
      "unique values for type is 2\n"
     ]
    }
   ],
   "source": [
    "for p in categorical_vars:\n",
    "    print(\"unique values for\",p,\"is\",train_df[p].nunique())"
   ]
  },
  {
   "cell_type": "markdown",
   "metadata": {},
   "source": [
    "## Create model definition"
   ]
  },
  {
   "cell_type": "code",
   "execution_count": 9,
   "metadata": {},
   "outputs": [],
   "source": [
    "# template for model definition\n",
    "model_definition = {'input_features':[], 'output_features': [], 'training':{}}\n",
    "\n",
    "# setup input features for categorical variables\n",
    "for p in categorical_vars:\n",
    "    a_feature = {'name': p.replace(' ','_'), 'type': 'category', 'representation': 'sparse'}\n",
    "    model_definition['input_features'].append(a_feature)\n",
    "\n",
    "\n",
    "# setup input features for numerical variables\n",
    "for p in numerical_vars:\n",
    "    a_feature = {'name': p.replace(' ','_'), 'type': 'numerical', \n",
    "                'preprocessing': {'missing_value_strategy': 'fill_with_mean', 'normalization': 'zscore'}}\n",
    "    model_definition['input_features'].append(a_feature)\n",
    "\n",
    "# set up output variable\n",
    "model_definition['output_features'].append({'name': 'quality', 'type':'category'})\n",
    "\n",
    "# set up training\n",
    "model_definition['training'] = {'epochs': 20}"
   ]
  },
  {
   "cell_type": "code",
   "execution_count": 10,
   "metadata": {},
   "outputs": [
    {
     "name": "stdout",
     "output_type": "stream",
     "text": [
      "model definition:\n"
     ]
    },
    {
     "data": {
      "text/plain": [
       "{'input_features': [{'name': 'type',\n",
       "   'type': 'category',\n",
       "   'representation': 'sparse'},\n",
       "  {'name': 'alcohol',\n",
       "   'type': 'numerical',\n",
       "   'preprocessing': {'missing_value_strategy': 'fill_with_mean',\n",
       "    'normalization': 'zscore'}},\n",
       "  {'name': 'pH',\n",
       "   'type': 'numerical',\n",
       "   'preprocessing': {'missing_value_strategy': 'fill_with_mean',\n",
       "    'normalization': 'zscore'}},\n",
       "  {'name': 'sulphates',\n",
       "   'type': 'numerical',\n",
       "   'preprocessing': {'missing_value_strategy': 'fill_with_mean',\n",
       "    'normalization': 'zscore'}},\n",
       "  {'name': 'free_sulfur_dioxide',\n",
       "   'type': 'numerical',\n",
       "   'preprocessing': {'missing_value_strategy': 'fill_with_mean',\n",
       "    'normalization': 'zscore'}},\n",
       "  {'name': 'chlorides',\n",
       "   'type': 'numerical',\n",
       "   'preprocessing': {'missing_value_strategy': 'fill_with_mean',\n",
       "    'normalization': 'zscore'}},\n",
       "  {'name': 'citric_acid',\n",
       "   'type': 'numerical',\n",
       "   'preprocessing': {'missing_value_strategy': 'fill_with_mean',\n",
       "    'normalization': 'zscore'}},\n",
       "  {'name': 'volatile_acidity',\n",
       "   'type': 'numerical',\n",
       "   'preprocessing': {'missing_value_strategy': 'fill_with_mean',\n",
       "    'normalization': 'zscore'}},\n",
       "  {'name': 'fixed_acidity',\n",
       "   'type': 'numerical',\n",
       "   'preprocessing': {'missing_value_strategy': 'fill_with_mean',\n",
       "    'normalization': 'zscore'}},\n",
       "  {'name': 'density',\n",
       "   'type': 'numerical',\n",
       "   'preprocessing': {'missing_value_strategy': 'fill_with_mean',\n",
       "    'normalization': 'zscore'}},\n",
       "  {'name': 'residual_sugar',\n",
       "   'type': 'numerical',\n",
       "   'preprocessing': {'missing_value_strategy': 'fill_with_mean',\n",
       "    'normalization': 'zscore'}},\n",
       "  {'name': 'total_sulfur_dioxide',\n",
       "   'type': 'numerical',\n",
       "   'preprocessing': {'missing_value_strategy': 'fill_with_mean',\n",
       "    'normalization': 'zscore'}}],\n",
       " 'output_features': [{'name': 'quality', 'type': 'category'}],\n",
       " 'training': {'epochs': 20}}"
      ]
     },
     "execution_count": 10,
     "metadata": {},
     "output_type": "execute_result"
    }
   ],
   "source": [
    "# View the model defintion\n",
    "print(\"model definition:\")\n",
    "model_definition"
   ]
  },
  {
   "cell_type": "markdown",
   "metadata": {},
   "source": [
    "## Define hyperparameter search space"
   ]
  },
  {
   "cell_type": "code",
   "execution_count": 11,
   "metadata": {},
   "outputs": [],
   "source": [
    "SEED=13\n",
    "\n",
    "HYPEROPT_CONFIG = {\n",
    "    \"parameters\": {\n",
    "        \"training.learning_rate\": {\n",
    "            \"type\": \"float\",\n",
    "            \"low\": 0.0001,\n",
    "            \"high\": 0.01,\n",
    "            \"space\": \"log\",\n",
    "            \"steps\": 3,\n",
    "        },\n",
    "        \"training.batch_size\": {\n",
    "            \"type\": \"int\",\n",
    "            \"low\": 32,\n",
    "            \"high\": 256,\n",
    "            \"space\": \"log\",\n",
    "            \"steps\": 5,\n",
    "            \"base\" : 2\n",
    "        },\n",
    "        \"quality.fc_size\": {\n",
    "            \"type\": \"int\",\n",
    "            \"low\": 32,\n",
    "            \"high\": 256,\n",
    "            \"steps\": 5\n",
    "        },\n",
    "        \"quality.num_fc_layers\": {\n",
    "            'type': 'int',\n",
    "            'low': 1,\n",
    "            'high': 5,\n",
    "            'space': 'linear',\n",
    "            'steps': 4\n",
    "        }\n",
    "    },\n",
    "    \"goal\": \"minimize\",\n",
    "    'output_feature': \"quality\",\n",
    "    'validation_metrics': 'loss'\n",
    "}"
   ]
  },
  {
   "cell_type": "markdown",
   "metadata": {},
   "source": [
    "## Helper Function to run Hyperopt "
   ]
  },
  {
   "cell_type": "code",
   "execution_count": 12,
   "metadata": {},
   "outputs": [],
   "source": [
    "# function to run hyperparameter optimization run\n",
    "def run_hyperopt_executor(sampler, executor, model_definition,\n",
    "                      dataset,\n",
    "                        output_directory='results'):\n",
    "\n",
    "    # update model definition with remaining defaults\n",
    "    model_definition = merge_with_defaults(model_definition)\n",
    "\n",
    "    # get copy of hyperparameter configuration parameters to optimize\n",
    "    hyperopt_config = HYPEROPT_CONFIG.copy()\n",
    "\n",
    "    # update with remaining defaults\n",
    "    update_hyperopt_params_with_defaults(hyperopt_config)\n",
    "\n",
    "    # Extract relevant parameters\n",
    "    parameters = hyperopt_config[\"parameters\"]\n",
    "    split = hyperopt_config[\"split\"]\n",
    "    output_feature = hyperopt_config[\"output_feature\"]\n",
    "    metric = hyperopt_config[\"metric\"]\n",
    "    goal = hyperopt_config[\"goal\"]\n",
    "\n",
    "    # setup sampler\n",
    "    hyperopt_sampler = get_build_hyperopt_sampler(\n",
    "        sampler[\"type\"])(goal, parameters, **sampler)\n",
    "\n",
    "    # setup executor\n",
    "    hyperopt_executor = get_build_hyperopt_executor(executor[\"type\"])(\n",
    "        hyperopt_sampler, output_feature, metric, split, **executor)\n",
    "\n",
    "    # run hyperparameter executor\n",
    "    hyperopt_results = hyperopt_executor.execute(model_definition,\n",
    "                              dataset=dataset,\n",
    "                              gpus=get_available_gpus_cuda_string(),\n",
    "                              output_directory=output_directory)\n",
    "\n",
    "    return hyperopt_results\n",
    "\n",
    "# function to convert results from hyperopt run into a dataframe\n",
    "def extract_row_data(hyperopt_result):\n",
    "    row = hyperopt_result['parameters']\n",
    "    row['metric_score'] = hyperopt_result['metric_score']\n",
    "    return row"
   ]
  },
  {
   "cell_type": "markdown",
   "metadata": {},
   "source": [
    "## Train with optimal hyperparameters on the whole data set"
   ]
  },
  {
   "cell_type": "code",
   "execution_count": 13,
   "metadata": {},
   "outputs": [],
   "source": [
    "# clean out old results\n",
    "shutil.rmtree('./results_random_parallel', ignore_errors=True)\n",
    "shutil.rmtree('./results_random_serial', ignore_errors=True)\n",
    "shutil.rmtree('./results_grid_parallel', ignore_errors=True)\n",
    "shutil.rmtree('./visualizations', ignore_errors=True)"
   ]
  },
  {
   "cell_type": "markdown",
   "metadata": {},
   "source": [
    "#### Random Search with 4 parallel executors"
   ]
  },
  {
   "cell_type": "code",
   "execution_count": 14,
   "metadata": {},
   "outputs": [
    {
     "name": "stdout",
     "output_type": "stream",
     "text": [
      "starting: 2020-09-21 04:22:02.370269\n",
      "CPU times: user 232 ms, sys: 79.4 ms, total: 311 ms\n",
      "Wall time: 1min 38s\n"
     ]
    }
   ],
   "source": [
    "%%time\n",
    "print(\"starting:\", datetime.datetime.now())\n",
    "random_parallel_results = run_hyperopt_executor(\n",
    "    {'type': 'random', 'num_samples': 10},  # sampler\n",
    "   {'type': 'parallel', 'num_workers': 4}, # executor\n",
    "    model_definition,\n",
    "    train_df.sample(4000, random_state=42),  # limit number records for demonstration purposes\n",
    "    output_directory='results_random_parallel'  # location to place results\n",
    ")"
   ]
  },
  {
   "cell_type": "markdown",
   "metadata": {},
   "source": [
    "#### Random Search with serial executor"
   ]
  },
  {
   "cell_type": "code",
   "execution_count": 15,
   "metadata": {},
   "outputs": [
    {
     "name": "stdout",
     "output_type": "stream",
     "text": [
      "starting: 2020-09-21 04:23:41.060151\n",
      "CPU times: user 1min 19s, sys: 15.4 s, total: 1min 34s\n",
      "Wall time: 1min 25s\n"
     ]
    }
   ],
   "source": [
    "%%time\n",
    "print(\"starting:\", datetime.datetime.now())\n",
    "random_serial_results = run_hyperopt_executor(\n",
    "    {'type': 'random', 'num_samples': 10},  # sampler\n",
    "    {'type': 'serial'},  #executor\n",
    "    model_definition,\n",
    "    train_df.sample(4000, random_state=42),  # limit number records for demonstration purposes\n",
    "    output_directory='results_random_serial'\n",
    ")"
   ]
  },
  {
   "cell_type": "markdown",
   "metadata": {},
   "source": [
    "#### Grid Search with 4 parallel executors (takes about 35 minutes)\n",
    "To run the next cell, change it from `Raw NB Convert` to `Code` cell"
   ]
  },
  {
   "cell_type": "raw",
   "metadata": {},
   "source": [
    "%%time\n",
    "print(\"starting:\", datetime.datetime.now())\n",
    "grid_parallel_results = run_hyperopt_executor(\n",
    "    {'type': 'grid'},  # sampler\n",
    "    {'type': 'parallel', 'num_workers': 4}, # executor\n",
    "    model_definition,\n",
    "    train_df.sample(4000, random_state=42),  # limit number records for demonstration purposes\n",
    "    output_directory='results_grid_parallel'\n",
    ")"
   ]
  },
  {
   "cell_type": "markdown",
   "metadata": {},
   "source": [
    "### Note:\n",
    "`random_parallel_results`, `random_serial_results` and `grid_parallel_results` are lists.  The first element in each list contains the best performing metric with the associated parameters."
   ]
  },
  {
   "cell_type": "markdown",
   "metadata": {},
   "source": [
    "## Convert hyperparameter optimization results to dataframe"
   ]
  },
  {
   "cell_type": "markdown",
   "metadata": {},
   "source": [
    "#### Results For Random Search with 4 parallel executors"
   ]
  },
  {
   "cell_type": "code",
   "execution_count": 16,
   "metadata": {},
   "outputs": [
    {
     "data": {
      "text/html": [
       "<div>\n",
       "<style scoped>\n",
       "    .dataframe tbody tr th:only-of-type {\n",
       "        vertical-align: middle;\n",
       "    }\n",
       "\n",
       "    .dataframe tbody tr th {\n",
       "        vertical-align: top;\n",
       "    }\n",
       "\n",
       "    .dataframe thead th {\n",
       "        text-align: right;\n",
       "    }\n",
       "</style>\n",
       "<table border=\"1\" class=\"dataframe\">\n",
       "  <thead>\n",
       "    <tr style=\"text-align: right;\">\n",
       "      <th></th>\n",
       "      <th>loss</th>\n",
       "      <th>quality.fc_size</th>\n",
       "      <th>quality.num_fc_layers</th>\n",
       "      <th>training.batch_size</th>\n",
       "      <th>training.learning_rate</th>\n",
       "    </tr>\n",
       "  </thead>\n",
       "  <tbody>\n",
       "    <tr>\n",
       "      <th>0</th>\n",
       "      <td>0.953846</td>\n",
       "      <td>119</td>\n",
       "      <td>4</td>\n",
       "      <td>127</td>\n",
       "      <td>0.001021</td>\n",
       "    </tr>\n",
       "    <tr>\n",
       "      <th>1</th>\n",
       "      <td>0.998579</td>\n",
       "      <td>90</td>\n",
       "      <td>1</td>\n",
       "      <td>191</td>\n",
       "      <td>0.000575</td>\n",
       "    </tr>\n",
       "    <tr>\n",
       "      <th>2</th>\n",
       "      <td>1.056674</td>\n",
       "      <td>211</td>\n",
       "      <td>3</td>\n",
       "      <td>198</td>\n",
       "      <td>0.001204</td>\n",
       "    </tr>\n",
       "    <tr>\n",
       "      <th>3</th>\n",
       "      <td>1.060105</td>\n",
       "      <td>176</td>\n",
       "      <td>3</td>\n",
       "      <td>33</td>\n",
       "      <td>0.000652</td>\n",
       "    </tr>\n",
       "    <tr>\n",
       "      <th>4</th>\n",
       "      <td>1.074196</td>\n",
       "      <td>136</td>\n",
       "      <td>5</td>\n",
       "      <td>54</td>\n",
       "      <td>0.000867</td>\n",
       "    </tr>\n",
       "    <tr>\n",
       "      <th>5</th>\n",
       "      <td>1.077958</td>\n",
       "      <td>49</td>\n",
       "      <td>4</td>\n",
       "      <td>37</td>\n",
       "      <td>0.000950</td>\n",
       "    </tr>\n",
       "    <tr>\n",
       "      <th>6</th>\n",
       "      <td>1.087947</td>\n",
       "      <td>155</td>\n",
       "      <td>3</td>\n",
       "      <td>189</td>\n",
       "      <td>0.002448</td>\n",
       "    </tr>\n",
       "    <tr>\n",
       "      <th>7</th>\n",
       "      <td>1.089050</td>\n",
       "      <td>195</td>\n",
       "      <td>1</td>\n",
       "      <td>253</td>\n",
       "      <td>0.003234</td>\n",
       "    </tr>\n",
       "    <tr>\n",
       "      <th>8</th>\n",
       "      <td>1.106168</td>\n",
       "      <td>241</td>\n",
       "      <td>5</td>\n",
       "      <td>93</td>\n",
       "      <td>0.000726</td>\n",
       "    </tr>\n",
       "    <tr>\n",
       "      <th>9</th>\n",
       "      <td>1.119513</td>\n",
       "      <td>33</td>\n",
       "      <td>3</td>\n",
       "      <td>35</td>\n",
       "      <td>0.000120</td>\n",
       "    </tr>\n",
       "  </tbody>\n",
       "</table>\n",
       "</div>"
      ],
      "text/plain": [
       "       loss  quality.fc_size  quality.num_fc_layers  training.batch_size  \\\n",
       "0  0.953846              119                      4                  127   \n",
       "1  0.998579               90                      1                  191   \n",
       "2  1.056674              211                      3                  198   \n",
       "3  1.060105              176                      3                   33   \n",
       "4  1.074196              136                      5                   54   \n",
       "5  1.077958               49                      4                   37   \n",
       "6  1.087947              155                      3                  189   \n",
       "7  1.089050              195                      1                  253   \n",
       "8  1.106168              241                      5                   93   \n",
       "9  1.119513               33                      3                   35   \n",
       "\n",
       "   training.learning_rate  \n",
       "0                0.001021  \n",
       "1                0.000575  \n",
       "2                0.001204  \n",
       "3                0.000652  \n",
       "4                0.000867  \n",
       "5                0.000950  \n",
       "6                0.002448  \n",
       "7                0.003234  \n",
       "8                0.000726  \n",
       "9                0.000120  "
      ]
     },
     "execution_count": 16,
     "metadata": {},
     "output_type": "execute_result"
    }
   ],
   "source": [
    "df1 = hyperopt_results_to_dataframe(\n",
    "    random_parallel_results,\n",
    "    HYPEROPT_CONFIG['parameters'],\n",
    "    HYPEROPT_CONFIG['validation_metrics']\n",
    ")\n",
    "df1"
   ]
  },
  {
   "cell_type": "markdown",
   "metadata": {},
   "source": [
    "#### Results for Random Search with serial executor"
   ]
  },
  {
   "cell_type": "code",
   "execution_count": 17,
   "metadata": {},
   "outputs": [
    {
     "data": {
      "text/html": [
       "<div>\n",
       "<style scoped>\n",
       "    .dataframe tbody tr th:only-of-type {\n",
       "        vertical-align: middle;\n",
       "    }\n",
       "\n",
       "    .dataframe tbody tr th {\n",
       "        vertical-align: top;\n",
       "    }\n",
       "\n",
       "    .dataframe thead th {\n",
       "        text-align: right;\n",
       "    }\n",
       "</style>\n",
       "<table border=\"1\" class=\"dataframe\">\n",
       "  <thead>\n",
       "    <tr style=\"text-align: right;\">\n",
       "      <th></th>\n",
       "      <th>loss</th>\n",
       "      <th>quality.fc_size</th>\n",
       "      <th>quality.num_fc_layers</th>\n",
       "      <th>training.batch_size</th>\n",
       "      <th>training.learning_rate</th>\n",
       "    </tr>\n",
       "  </thead>\n",
       "  <tbody>\n",
       "    <tr>\n",
       "      <th>0</th>\n",
       "      <td>0.846123</td>\n",
       "      <td>87</td>\n",
       "      <td>3</td>\n",
       "      <td>127</td>\n",
       "      <td>0.004581</td>\n",
       "    </tr>\n",
       "    <tr>\n",
       "      <th>1</th>\n",
       "      <td>0.974156</td>\n",
       "      <td>42</td>\n",
       "      <td>2</td>\n",
       "      <td>95</td>\n",
       "      <td>0.003879</td>\n",
       "    </tr>\n",
       "    <tr>\n",
       "      <th>2</th>\n",
       "      <td>1.043028</td>\n",
       "      <td>215</td>\n",
       "      <td>5</td>\n",
       "      <td>77</td>\n",
       "      <td>0.001727</td>\n",
       "    </tr>\n",
       "    <tr>\n",
       "      <th>3</th>\n",
       "      <td>1.048163</td>\n",
       "      <td>87</td>\n",
       "      <td>5</td>\n",
       "      <td>44</td>\n",
       "      <td>0.007121</td>\n",
       "    </tr>\n",
       "    <tr>\n",
       "      <th>4</th>\n",
       "      <td>1.051152</td>\n",
       "      <td>93</td>\n",
       "      <td>3</td>\n",
       "      <td>130</td>\n",
       "      <td>0.005450</td>\n",
       "    </tr>\n",
       "    <tr>\n",
       "      <th>5</th>\n",
       "      <td>1.052577</td>\n",
       "      <td>123</td>\n",
       "      <td>2</td>\n",
       "      <td>54</td>\n",
       "      <td>0.008912</td>\n",
       "    </tr>\n",
       "    <tr>\n",
       "      <th>6</th>\n",
       "      <td>1.095933</td>\n",
       "      <td>179</td>\n",
       "      <td>5</td>\n",
       "      <td>117</td>\n",
       "      <td>0.000217</td>\n",
       "    </tr>\n",
       "    <tr>\n",
       "      <th>7</th>\n",
       "      <td>1.109733</td>\n",
       "      <td>43</td>\n",
       "      <td>5</td>\n",
       "      <td>61</td>\n",
       "      <td>0.000232</td>\n",
       "    </tr>\n",
       "    <tr>\n",
       "      <th>8</th>\n",
       "      <td>1.110340</td>\n",
       "      <td>56</td>\n",
       "      <td>2</td>\n",
       "      <td>72</td>\n",
       "      <td>0.000224</td>\n",
       "    </tr>\n",
       "    <tr>\n",
       "      <th>9</th>\n",
       "      <td>1.204301</td>\n",
       "      <td>73</td>\n",
       "      <td>3</td>\n",
       "      <td>125</td>\n",
       "      <td>0.000111</td>\n",
       "    </tr>\n",
       "  </tbody>\n",
       "</table>\n",
       "</div>"
      ],
      "text/plain": [
       "       loss  quality.fc_size  quality.num_fc_layers  training.batch_size  \\\n",
       "0  0.846123               87                      3                  127   \n",
       "1  0.974156               42                      2                   95   \n",
       "2  1.043028              215                      5                   77   \n",
       "3  1.048163               87                      5                   44   \n",
       "4  1.051152               93                      3                  130   \n",
       "5  1.052577              123                      2                   54   \n",
       "6  1.095933              179                      5                  117   \n",
       "7  1.109733               43                      5                   61   \n",
       "8  1.110340               56                      2                   72   \n",
       "9  1.204301               73                      3                  125   \n",
       "\n",
       "   training.learning_rate  \n",
       "0                0.004581  \n",
       "1                0.003879  \n",
       "2                0.001727  \n",
       "3                0.007121  \n",
       "4                0.005450  \n",
       "5                0.008912  \n",
       "6                0.000217  \n",
       "7                0.000232  \n",
       "8                0.000224  \n",
       "9                0.000111  "
      ]
     },
     "execution_count": 17,
     "metadata": {},
     "output_type": "execute_result"
    }
   ],
   "source": [
    "df2 = hyperopt_results_to_dataframe(\n",
    "    random_serial_results,\n",
    "    HYPEROPT_CONFIG['parameters'],\n",
    "    HYPEROPT_CONFIG['validation_metrics']\n",
    ")\n",
    "df2"
   ]
  },
  {
   "cell_type": "markdown",
   "metadata": {},
   "source": [
    "#### Results for Grid Search with 4 parallel executors\n",
    "To run the next cell convert from `Raw NB Convert` to `Code` cell"
   ]
  },
  {
   "cell_type": "raw",
   "metadata": {},
   "source": [
    "df3 = hyperopt_results_to_dataframe(\n",
    "    grid_parallel_results,\n",
    "    HYPEROPT_CONFIG['parameters'],\n",
    "    HYPEROPT_CONFIG['validation_metrics']\n",
    ")\n",
    "df3"
   ]
  },
  {
   "cell_type": "markdown",
   "metadata": {},
   "source": [
    "## Example Hyperopt Visualizations"
   ]
  },
  {
   "cell_type": "code",
   "execution_count": 19,
   "metadata": {},
   "outputs": [
    {
     "ename": "KeyError",
     "evalue": "'hyperopt_config'",
     "output_type": "error",
     "traceback": [
      "\u001b[0;31m---------------------------------------------------------------------------\u001b[0m",
      "\u001b[0;31mKeyError\u001b[0m                                  Traceback (most recent call last)",
      "\u001b[0;32m<ipython-input-19-a16cfa99a84e>\u001b[0m in \u001b[0;36m<module>\u001b[0;34m\u001b[0m\n\u001b[1;32m      1\u001b[0m hyperopt_report_cli(\n\u001b[1;32m      2\u001b[0m     \u001b[0;34m'results_random_parallel/test_statistics.json'\u001b[0m\u001b[0;34m,\u001b[0m\u001b[0;34m\u001b[0m\u001b[0;34m\u001b[0m\u001b[0m\n\u001b[0;32m----> 3\u001b[0;31m     \u001b[0moutput_directory\u001b[0m\u001b[0;34m=\u001b[0m\u001b[0;34m'./visualizations'\u001b[0m\u001b[0;34m\u001b[0m\u001b[0;34m\u001b[0m\u001b[0m\n\u001b[0m\u001b[1;32m      4\u001b[0m )\n",
      "\u001b[0;32m/opt/project/ludwig/visualize.py\u001b[0m in \u001b[0;36mhyperopt_report_cli\u001b[0;34m(hyperopt_stats_path, output_directory, file_format, **kwargs)\u001b[0m\n\u001b[1;32m   3102\u001b[0m \u001b[0;34m\u001b[0m\u001b[0m\n\u001b[1;32m   3103\u001b[0m     visualization_utils.hyperopt_report(\n\u001b[0;32m-> 3104\u001b[0;31m         \u001b[0mhyperopt_stats\u001b[0m\u001b[0;34m[\u001b[0m\u001b[0;34m'hyperopt_config'\u001b[0m\u001b[0;34m]\u001b[0m\u001b[0;34m[\u001b[0m\u001b[0;34m'parameters'\u001b[0m\u001b[0;34m]\u001b[0m\u001b[0;34m,\u001b[0m\u001b[0;34m\u001b[0m\u001b[0;34m\u001b[0m\u001b[0m\n\u001b[0m\u001b[1;32m   3105\u001b[0m         hyperopt_results_to_dataframe(\n\u001b[1;32m   3106\u001b[0m             \u001b[0mhyperopt_stats\u001b[0m\u001b[0;34m[\u001b[0m\u001b[0;34m'hyperopt_results'\u001b[0m\u001b[0;34m]\u001b[0m\u001b[0;34m,\u001b[0m\u001b[0;34m\u001b[0m\u001b[0;34m\u001b[0m\u001b[0m\n",
      "\u001b[0;31mKeyError\u001b[0m: 'hyperopt_config'"
     ]
    }
   ],
   "source": [
    "hyperopt_report_cli(\n",
    "    'results_random_parallel/test_statistics.json',\n",
    "    output_directory='./visualizations'\n",
    ")"
   ]
  },
  {
   "cell_type": "code",
   "execution_count": null,
   "metadata": {},
   "outputs": [],
   "source": []
  }
 ],
 "metadata": {
  "kernelspec": {
   "display_name": "Python 3",
   "language": "python",
   "name": "python3"
  },
  "language_info": {
   "codemirror_mode": {
    "name": "ipython",
    "version": 3
   },
   "file_extension": ".py",
   "mimetype": "text/x-python",
   "name": "python",
   "nbconvert_exporter": "python",
   "pygments_lexer": "ipython3",
   "version": "3.6.9"
  }
 },
 "nbformat": 4,
 "nbformat_minor": 2
}
