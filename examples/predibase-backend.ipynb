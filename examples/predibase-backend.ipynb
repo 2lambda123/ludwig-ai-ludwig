{
 "cells": [
  {
   "cell_type": "markdown",
   "id": "330c452d",
   "metadata": {},
   "source": [
    "# Predibase backend for ludwig\n",
    "\n",
    "This notebook has an example of how to create a predibase backend for ludwig.\n",
    "\n",
    "In order to keep this simple, we will just use the [getting started](https://ludwig.ai/latest/getting_started/) example."
   ]
  },
  {
   "cell_type": "markdown",
   "id": "ecaf2ae3",
   "metadata": {},
   "source": [
    "## Data Prep\n",
    "\n",
    "Download the dataset"
   ]
  },
  {
   "cell_type": "code",
   "execution_count": 17,
   "id": "b71731ec",
   "metadata": {},
   "outputs": [],
   "source": [
    "!wget -q https://ludwig.ai/latest/data/rotten_tomatoes.csv"
   ]
  },
  {
   "cell_type": "markdown",
   "id": "4bfb8a40",
   "metadata": {},
   "source": [
    "Get the dataset"
   ]
  },
  {
   "cell_type": "code",
   "execution_count": 19,
   "id": "63a94b8c",
   "metadata": {},
   "outputs": [
    {
     "data": {
      "text/html": [
       "<div>\n",
       "<style scoped>\n",
       "    .dataframe tbody tr th:only-of-type {\n",
       "        vertical-align: middle;\n",
       "    }\n",
       "\n",
       "    .dataframe tbody tr th {\n",
       "        vertical-align: top;\n",
       "    }\n",
       "\n",
       "    .dataframe thead th {\n",
       "        text-align: right;\n",
       "    }\n",
       "</style>\n",
       "<table border=\"1\" class=\"dataframe\">\n",
       "  <thead>\n",
       "    <tr style=\"text-align: right;\">\n",
       "      <th></th>\n",
       "      <th>Unnamed: 0</th>\n",
       "      <th>movie_title</th>\n",
       "      <th>content_rating</th>\n",
       "      <th>genres</th>\n",
       "      <th>runtime</th>\n",
       "      <th>top_critic</th>\n",
       "      <th>review_content</th>\n",
       "      <th>recommended</th>\n",
       "    </tr>\n",
       "  </thead>\n",
       "  <tbody>\n",
       "    <tr>\n",
       "      <th>0</th>\n",
       "      <td>283875</td>\n",
       "      <td>Deliver Us from Evil</td>\n",
       "      <td>R</td>\n",
       "      <td>Action &amp; Adventure, Horror</td>\n",
       "      <td>117.0</td>\n",
       "      <td>True</td>\n",
       "      <td>Director Scott Derrickson and his co-writer, P...</td>\n",
       "      <td>0</td>\n",
       "    </tr>\n",
       "    <tr>\n",
       "      <th>1</th>\n",
       "      <td>161408</td>\n",
       "      <td>Barbara</td>\n",
       "      <td>PG-13</td>\n",
       "      <td>Art House &amp; International, Drama</td>\n",
       "      <td>105.0</td>\n",
       "      <td>False</td>\n",
       "      <td>Somehow, in this stirring narrative, Barbara m...</td>\n",
       "      <td>1</td>\n",
       "    </tr>\n",
       "    <tr>\n",
       "      <th>2</th>\n",
       "      <td>423417</td>\n",
       "      <td>Horrible Bosses</td>\n",
       "      <td>R</td>\n",
       "      <td>Comedy</td>\n",
       "      <td>98.0</td>\n",
       "      <td>False</td>\n",
       "      <td>These bosses cannot justify either murder or l...</td>\n",
       "      <td>0</td>\n",
       "    </tr>\n",
       "    <tr>\n",
       "      <th>3</th>\n",
       "      <td>583216</td>\n",
       "      <td>Money Monster</td>\n",
       "      <td>R</td>\n",
       "      <td>Drama</td>\n",
       "      <td>98.0</td>\n",
       "      <td>False</td>\n",
       "      <td>A satire about television that feels like it w...</td>\n",
       "      <td>0</td>\n",
       "    </tr>\n",
       "    <tr>\n",
       "      <th>4</th>\n",
       "      <td>165537</td>\n",
       "      <td>Battle Royale</td>\n",
       "      <td>NR</td>\n",
       "      <td>Action &amp; Adventure, Art House &amp; International,...</td>\n",
       "      <td>114.0</td>\n",
       "      <td>False</td>\n",
       "      <td>Battle Royale is The Hunger Games not diluted ...</td>\n",
       "      <td>1</td>\n",
       "    </tr>\n",
       "  </tbody>\n",
       "</table>\n",
       "</div>"
      ],
      "text/plain": [
       "   Unnamed: 0           movie_title content_rating  \\\n",
       "0      283875  Deliver Us from Evil              R   \n",
       "1      161408               Barbara          PG-13   \n",
       "2      423417       Horrible Bosses              R   \n",
       "3      583216         Money Monster              R   \n",
       "4      165537         Battle Royale             NR   \n",
       "\n",
       "                                              genres  runtime  top_critic  \\\n",
       "0                         Action & Adventure, Horror    117.0        True   \n",
       "1                   Art House & International, Drama    105.0       False   \n",
       "2                                             Comedy     98.0       False   \n",
       "3                                              Drama     98.0       False   \n",
       "4  Action & Adventure, Art House & International,...    114.0       False   \n",
       "\n",
       "                                      review_content  recommended  \n",
       "0  Director Scott Derrickson and his co-writer, P...            0  \n",
       "1  Somehow, in this stirring narrative, Barbara m...            1  \n",
       "2  These bosses cannot justify either murder or l...            0  \n",
       "3  A satire about television that feels like it w...            0  \n",
       "4  Battle Royale is The Hunger Games not diluted ...            1  "
      ]
     },
     "execution_count": 19,
     "metadata": {},
     "output_type": "execute_result"
    }
   ],
   "source": [
    "import pandas as pd\n",
    "\n",
    "df = pd.read_csv('rotten_tomatoes.csv')\n",
    "df.head()"
   ]
  },
  {
   "cell_type": "code",
   "execution_count": null,
   "id": "aceae546",
   "metadata": {},
   "outputs": [],
   "source": [
    "#"
   ]
  },
  {
   "cell_type": "code",
   "execution_count": null,
   "id": "02b806bc",
   "metadata": {},
   "outputs": [],
   "source": []
  },
  {
   "cell_type": "markdown",
   "id": "d610c80c",
   "metadata": {},
   "source": [
    "## Clean up\n",
    "\n",
    "Delete the artifacts"
   ]
  },
  {
   "cell_type": "code",
   "execution_count": 14,
   "id": "e3062854",
   "metadata": {},
   "outputs": [],
   "source": [
    "!rm rotten_tomatoes.csv*"
   ]
  },
  {
   "cell_type": "code",
   "execution_count": null,
   "id": "f27e19d1",
   "metadata": {},
   "outputs": [],
   "source": []
  }
 ],
 "metadata": {
  "kernelspec": {
   "display_name": "Python 3 (ipykernel)",
   "language": "python",
   "name": "python3"
  },
  "language_info": {
   "codemirror_mode": {
    "name": "ipython",
    "version": 3
   },
   "file_extension": ".py",
   "mimetype": "text/x-python",
   "name": "python",
   "nbconvert_exporter": "python",
   "pygments_lexer": "ipython3",
   "version": "3.8.13"
  }
 },
 "nbformat": 4,
 "nbformat_minor": 5
}
