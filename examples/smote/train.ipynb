{
 "cells": [
  {
   "cell_type": "code",
   "execution_count": null,
   "metadata": {},
   "outputs": [],
   "source": [
    "%%capture\n",
    "! pip install imblearn"
   ]
  },
  {
   "cell_type": "code",
   "execution_count": 1,
   "metadata": {},
   "outputs": [],
   "source": [
    "import getpass\n",
    "from predibase import PredibaseClient\n",
    "\n",
    "token = getpass.getpass(\"Enter your Predibase API token: \")\n",
    "pb = PredibaseClient(gateway=\"http://localhost:8080\", token=token)"
   ]
  },
  {
   "cell_type": "code",
   "execution_count": 2,
   "metadata": {},
   "outputs": [
    {
     "data": {
      "text/plain": [
       "User(id=33342128-de60-4612-aff3-fbb369bc5c25, username=joppe, tenant=default)"
      ]
     },
     "execution_count": 2,
     "metadata": {},
     "output_type": "execute_result"
    }
   ],
   "source": [
    "pb.get_current_user()"
   ]
  },
  {
   "cell_type": "code",
   "execution_count": 6,
   "metadata": {},
   "outputs": [],
   "source": [
    "from ludwig.datasets import creditcard_fraud\n",
    "\n",
    "df = creditcard_fraud.load()\n",
    "df.drop(columns=[\"split\"], inplace=True)"
   ]
  },
  {
   "cell_type": "code",
   "execution_count": 7,
   "metadata": {},
   "outputs": [
    {
     "data": {
      "application/vnd.jupyter.widget-view+json": {
       "model_id": "418c136d364f400a813bc37feb4fa4d7",
       "version_major": 2,
       "version_minor": 0
      },
      "text/plain": [
       "Output()"
      ]
     },
     "metadata": {},
     "output_type": "display_data"
    },
    {
     "data": {
      "text/html": [
       "<pre style=\"white-space:pre;overflow-x:auto;line-height:normal;font-family:Menlo,'DejaVu Sans Mono',consolas,'Courier New',monospace\">✅ Create Dataset from Dataframe\n",
       "</pre>\n"
      ],
      "text/plain": [
       "✅ Create Dataset from Dataframe\n"
      ]
     },
     "metadata": {},
     "output_type": "display_data"
    },
    {
     "data": {
      "text/html": [
       "<pre style=\"white-space:pre;overflow-x:auto;line-height:normal;font-family:Menlo,'DejaVu Sans Mono',consolas,'Courier New',monospace\"></pre>\n"
      ],
      "text/plain": []
     },
     "metadata": {},
     "output_type": "display_data"
    }
   ],
   "source": [
    "dataset = pb.create_dataset_from_df(df, \"creditcard_fraud\")\n",
    "# dataset = pb.get_dataset(\"creditcard_fraud\")"
   ]
  },
  {
   "cell_type": "code",
   "execution_count": 8,
   "metadata": {},
   "outputs": [
    {
     "data": {
      "text/html": [
       "<pre style=\"white-space:pre;overflow-x:auto;line-height:normal;font-family:Menlo,'DejaVu Sans Mono',consolas,'Courier New',monospace\"><span style=\"color: #000080; text-decoration-color: #000080; font-weight: bold\">Model repository creditcard_fraud already exists. </span><span style=\"color: #808000; text-decoration-color: #808000; font-weight: bold\">exists_ok</span><span style=\"color: #000080; text-decoration-color: #000080; font-weight: bold\">=</span><span style=\"color: #00ff00; text-decoration-color: #00ff00; font-weight: bold; font-style: italic\">True</span><span style=\"color: #000080; text-decoration-color: #000080; font-weight: bold\">, so ignoring.</span>\n",
       "</pre>\n"
      ],
      "text/plain": [
       "\u001b[1;34mModel repository creditcard_fraud already exists. \u001b[0m\u001b[1;33mexists_ok\u001b[0m\u001b[1;34m=\u001b[0m\u001b[1;3;92mTrue\u001b[0m\u001b[1;34m, so ignoring.\u001b[0m\n"
      ]
     },
     "metadata": {},
     "output_type": "display_data"
    },
    {
     "name": "stderr",
     "output_type": "stream",
     "text": [
      "/usr/local/lib/python3.8/site-packages/dataclasses_json/core.py:171: RuntimeWarning: `NoneType` object value of non-optional type _description detected when decoding ModelRepo.\n",
      "  warnings.warn(f\"`NoneType` object {warning}.\", RuntimeWarning)\n"
     ]
    }
   ],
   "source": [
    "repo = pb.create_model_repo(\"creditcard_fraud\", exists_ok=True)\n",
    "draft = repo.create_draft(dataset, \"Class\")\n",
    "draft.config['preprocessing'] = {\n",
    "    'split': {\n",
    "        'type': 'stratify',\n",
    "        'column': 'Class',\n",
    "    },\n",
    "}"
   ]
  },
  {
   "cell_type": "code",
   "execution_count": 14,
   "metadata": {},
   "outputs": [
    {
     "data": {
      "application/vnd.jupyter.widget-view+json": {
       "model_id": "90769dcb688147acbfa76d28b06d2fb5",
       "version_major": 2,
       "version_minor": 0
      },
      "text/plain": [
       "Output()"
      ]
     },
     "metadata": {},
     "output_type": "display_data"
    },
    {
     "data": {
      "text/html": [
       "<pre style=\"white-space:pre;overflow-x:auto;line-height:normal;font-family:Menlo,'DejaVu Sans Mono',consolas,'Courier New',monospace\">✅ Train Model\n",
       "</pre>\n"
      ],
      "text/plain": [
       "✅ Train Model\n"
      ]
     },
     "metadata": {},
     "output_type": "display_data"
    },
    {
     "data": {
      "text/html": [
       "<pre style=\"white-space:pre;overflow-x:auto;line-height:normal;font-family:Menlo,'DejaVu Sans Mono',consolas,'Courier New',monospace\"></pre>\n"
      ],
      "text/plain": []
     },
     "metadata": {},
     "output_type": "display_data"
    }
   ],
   "source": [
    "# without SMOTE\n",
    "draft.config['preprocessing']['smote'] = False\n",
    "model = draft.train()"
   ]
  },
  {
   "cell_type": "code",
   "execution_count": 20,
   "metadata": {},
   "outputs": [
    {
     "data": {
      "text/plain": [
       "0.5958479046821594"
      ]
     },
     "execution_count": 20,
     "metadata": {},
     "output_type": "execute_result"
    }
   ],
   "source": [
    "model.metrics.test.Class.roc_auc"
   ]
  },
  {
   "cell_type": "code",
   "execution_count": 36,
   "metadata": {},
   "outputs": [
    {
     "data": {
      "application/vnd.jupyter.widget-view+json": {
       "model_id": "c70aec43705347dabaebe6b6db924e18",
       "version_major": 2,
       "version_minor": 0
      },
      "text/plain": [
       "Output()"
      ]
     },
     "metadata": {},
     "output_type": "display_data"
    },
    {
     "data": {
      "text/html": [
       "<pre style=\"white-space:pre;overflow-x:auto;line-height:normal;font-family:Menlo,'DejaVu Sans Mono',consolas,'Courier New',monospace\">💥 Train Model\n",
       "</pre>\n"
      ],
      "text/plain": [
       "💥 Train Model\n"
      ]
     },
     "metadata": {},
     "output_type": "display_data"
    },
    {
     "data": {
      "text/html": [
       "<pre style=\"white-space:pre;overflow-x:auto;line-height:normal;font-family:Menlo,'DejaVu Sans Mono',consolas,'Courier New',monospace\"><span style=\"color: #800000; text-decoration-color: #800000; font-weight: bold\">RuntimeError: Failed to train model with status FAILED</span>\n",
       "\n",
       "<span style=\"color: #800000; text-decoration-color: #800000; font-weight: bold\">Remote error:</span>\n",
       "\n",
       "<span style=\"color: #800000; text-decoration-color: #800000; font-weight: bold\">activity error (type: PreprocessModel, scheduledEventID: </span><span style=\"color: #008080; text-decoration-color: #008080; font-weight: bold\">71</span><span style=\"color: #800000; text-decoration-color: #800000; font-weight: bold\">, startedEventID: </span><span style=\"color: #008080; text-decoration-color: #008080; font-weight: bold\">72</span><span style=\"color: #800000; text-decoration-color: #800000; font-weight: bold\">, identity: </span><span style=\"color: #008080; text-decoration-color: #008080; font-weight: bold\">1436</span><span style=\"color: #800000; text-decoration-color: #800000; font-weight: bold\">@02cbc78c6a7a): </span>\n",
       "<span style=\"color: #800000; text-decoration-color: #800000; font-weight: bold\">Traceback (most recent call last):</span>\n",
       "<span style=\"color: #800000; text-decoration-color: #800000; font-weight: bold\">  File </span><span style=\"color: #008000; text-decoration-color: #008000\">\"/workspaces/predibase/engine/predibase_engine/workflow/util.py\"</span><span style=\"color: #800000; text-decoration-color: #800000; font-weight: bold\">, line </span><span style=\"color: #008080; text-decoration-color: #008080; font-weight: bold\">53</span><span style=\"color: #800000; text-decoration-color: #800000; font-weight: bold\">, in wrapped_fn</span>\n",
       "<span style=\"color: #800000; text-decoration-color: #800000; font-weight: bold\">    return </span><span style=\"color: #800080; text-decoration-color: #800080; font-weight: bold\">task.result</span><span style=\"color: #800000; text-decoration-color: #800000; font-weight: bold\">()</span>\n",
       "<span style=\"color: #800000; text-decoration-color: #800000; font-weight: bold\">  File </span><span style=\"color: #008000; text-decoration-color: #008000\">\"/usr/local/lib/python3.8/asyncio/tasks.py\"</span><span style=\"color: #800000; text-decoration-color: #800000; font-weight: bold\">, line </span><span style=\"color: #008080; text-decoration-color: #008080; font-weight: bold\">695</span><span style=\"color: #800000; text-decoration-color: #800000; font-weight: bold\">, in _wrap_awaitable</span>\n",
       "<span style=\"color: #800000; text-decoration-color: #800000; font-weight: bold\">    return (yield from </span><span style=\"color: #800080; text-decoration-color: #800080; font-weight: bold\">awaitable.__await__</span><span style=\"color: #800000; text-decoration-color: #800000; font-weight: bold\">())</span>\n",
       "<span style=\"color: #800080; text-decoration-color: #800080; font-weight: bold\">ray.exceptions.RayTaskError</span><span style=\"color: #800000; text-decoration-color: #800000; font-weight: bold\">(UnboundLocalError): \u001b[36mray::</span><span style=\"color: #800080; text-decoration-color: #800080; font-weight: bold\">remote_fn</span><span style=\"color: #800000; text-decoration-color: #800000; font-weight: bold\">()\u001b[39m (</span><span style=\"color: #808000; text-decoration-color: #808000; font-weight: bold\">pid</span><span style=\"color: #800000; text-decoration-color: #800000; font-weight: bold\">=</span><span style=\"color: #008080; text-decoration-color: #008080; font-weight: bold\">2441</span><span style=\"color: #800000; text-decoration-color: #800000; font-weight: bold\">, </span><span style=\"color: #808000; text-decoration-color: #808000; font-weight: bold\">ip</span><span style=\"color: #800000; text-decoration-color: #800000; font-weight: bold\">=</span><span style=\"color: #00ff00; text-decoration-color: #00ff00; font-weight: bold\">172</span><span style=\"color: #00ff00; text-decoration-color: #00ff00; font-weight: bold\">.1.0.4</span><span style=\"color: #800000; text-decoration-color: #800000; font-weight: bold\">)</span>\n",
       "<span style=\"color: #800000; text-decoration-color: #800000; font-weight: bold\">  File </span><span style=\"color: #008000; text-decoration-color: #008000\">\"/workspaces/ludwig/ludwig/data/preprocessing.py\"</span><span style=\"color: #800000; text-decoration-color: #800000; font-weight: bold\">, line </span><span style=\"color: #008080; text-decoration-color: #008080; font-weight: bold\">1666</span><span style=\"color: #800000; text-decoration-color: #800000; font-weight: bold\">, in preprocess_for_training</span>\n",
       "<span style=\"color: #800000; text-decoration-color: #800000; font-weight: bold\">    processed = </span><span style=\"color: #800080; text-decoration-color: #800080; font-weight: bold\">data_format_processor.preprocess_for_training</span><span style=\"color: #800000; text-decoration-color: #800000; font-weight: bold\">(</span>\n",
       "<span style=\"color: #800000; text-decoration-color: #800000; font-weight: bold\">  File </span><span style=\"color: #008000; text-decoration-color: #008000\">\"/workspaces/ludwig/ludwig/data/preprocessing.py\"</span><span style=\"color: #800000; text-decoration-color: #800000; font-weight: bold\">, line </span><span style=\"color: #008080; text-decoration-color: #008080; font-weight: bold\">236</span><span style=\"color: #800000; text-decoration-color: #800000; font-weight: bold\">, in preprocess_for_training</span>\n",
       "<span style=\"color: #800000; text-decoration-color: #800000; font-weight: bold\">    return </span><span style=\"color: #800080; text-decoration-color: #800080; font-weight: bold\">_preprocess_df_for_training</span><span style=\"color: #800000; text-decoration-color: #800000; font-weight: bold\">(</span>\n",
       "<span style=\"color: #800000; text-decoration-color: #800000; font-weight: bold\">  File </span><span style=\"color: #008000; text-decoration-color: #008000\">\"/workspaces/ludwig/ludwig/data/preprocessing.py\"</span><span style=\"color: #800000; text-decoration-color: #800000; font-weight: bold\">, line </span><span style=\"color: #008080; text-decoration-color: #008080; font-weight: bold\">1909</span><span style=\"color: #800000; text-decoration-color: #800000; font-weight: bold\">, in _preprocess_df_for_training</span>\n",
       "<span style=\"color: #800000; text-decoration-color: #800000; font-weight: bold\">    if preprocessing_params[</span><span style=\"color: #008000; text-decoration-color: #008000\">\"smote\"</span><span style=\"color: #800000; text-decoration-color: #800000; font-weight: bold\">]:</span>\n",
       "<span style=\"color: #800000; text-decoration-color: #800000; font-weight: bold\">  File </span><span style=\"color: #008000; text-decoration-color: #008000\">\"/workspaces/ludwig/ludwig/data/preprocessing.py\"</span><span style=\"color: #800000; text-decoration-color: #800000; font-weight: bold\">, line </span><span style=\"color: #008080; text-decoration-color: #008080; font-weight: bold\">1439</span><span style=\"color: #800000; text-decoration-color: #800000; font-weight: bold\">, in smote</span>\n",
       "<span style=\"color: #800000; text-decoration-color: #800000; font-weight: bold\">    X_train_oversampled, y_train_oversampled = </span><span style=\"color: #800080; text-decoration-color: #800080; font-weight: bold\">sm.fit_resample</span><span style=\"color: #800000; text-decoration-color: #800000; font-weight: bold\">(</span><span style=\"color: #800080; text-decoration-color: #800080; font-weight: bold\">dataset_df.drop</span><span style=\"color: #800000; text-decoration-color: #800000; font-weight: bold\">(</span><span style=\"color: #808000; text-decoration-color: #808000; font-weight: bold\">columns</span><span style=\"color: #800000; text-decoration-color: #800000; font-weight: bold\">=), dataset_df)</span>\n",
       "<span style=\"color: #800000; text-decoration-color: #800000; font-weight: bold\">  File </span><span style=\"color: #008000; text-decoration-color: #008000\">\"/home/vscode/.local/lib/python3.8/site-packages/imblearn/base.py\"</span><span style=\"color: #800000; text-decoration-color: #800000; font-weight: bold\">, line </span><span style=\"color: #008080; text-decoration-color: #008080; font-weight: bold\">83</span><span style=\"color: #800000; text-decoration-color: #800000; font-weight: bold\">, in fit_resample</span>\n",
       "<span style=\"color: #800000; text-decoration-color: #800000; font-weight: bold\">    output = </span><span style=\"color: #800080; text-decoration-color: #800080; font-weight: bold\">self._fit_resample</span><span style=\"color: #800000; text-decoration-color: #800000; font-weight: bold\">(X, y)</span>\n",
       "<span style=\"color: #800000; text-decoration-color: #800000; font-weight: bold\">  File </span><span style=\"color: #008000; text-decoration-color: #008000\">\"/home/vscode/.local/lib/python3.8/site-packages/imblearn/over_sampling/_smote/base.py\"</span><span style=\"color: #800000; text-decoration-color: #800000; font-weight: bold\">, line </span><span style=\"color: #008080; text-decoration-color: #008080; font-weight: bold\">505</span><span style=\"color: #800000; text-decoration-color: #800000; font-weight: bold\">, in </span>\n",
       "<span style=\"color: #800000; text-decoration-color: #800000; font-weight: bold\">_fit_resample</span>\n",
       "<span style=\"color: #800000; text-decoration-color: #800000; font-weight: bold\">    X_categorical = X[:, self.categorical_features_]</span>\n",
       "<span style=\"color: #800000; text-decoration-color: #800000; font-weight: bold\">IndexError: arrays used as indices must be of integer (or boolean) type</span>\n",
       "\n",
       "<span style=\"color: #800000; text-decoration-color: #800000; font-weight: bold\">During handling of the above exception, another exception occurred:</span>\n",
       "\n",
       "<span style=\"color: #800000; text-decoration-color: #800000; font-weight: bold\">\u001b[36mray::</span><span style=\"color: #800080; text-decoration-color: #800080; font-weight: bold\">remote_fn</span><span style=\"color: #800000; text-decoration-color: #800000; font-weight: bold\">()\u001b[39m (</span><span style=\"color: #808000; text-decoration-color: #808000; font-weight: bold\">pid</span><span style=\"color: #800000; text-decoration-color: #800000; font-weight: bold\">=</span><span style=\"color: #008080; text-decoration-color: #008080; font-weight: bold\">2441</span><span style=\"color: #800000; text-decoration-color: #800000; font-weight: bold\">, </span><span style=\"color: #808000; text-decoration-color: #808000; font-weight: bold\">ip</span><span style=\"color: #800000; text-decoration-color: #800000; font-weight: bold\">=</span><span style=\"color: #00ff00; text-decoration-color: #00ff00; font-weight: bold\">172</span><span style=\"color: #00ff00; text-decoration-color: #00ff00; font-weight: bold\">.1.0.4</span><span style=\"color: #800000; text-decoration-color: #800000; font-weight: bold\">)</span>\n",
       "<span style=\"color: #800000; text-decoration-color: #800000; font-weight: bold\">  File </span><span style=\"color: #008000; text-decoration-color: #008000\">\"/workspaces/predibase/engine/predibase_engine/workflow/util.py\"</span><span style=\"color: #800000; text-decoration-color: #800000; font-weight: bold\">, line </span><span style=\"color: #008080; text-decoration-color: #008080; font-weight: bold\">38</span><span style=\"color: #800000; text-decoration-color: #800000; font-weight: bold\">, in remote_fn</span>\n",
       "<span style=\"color: #800000; text-decoration-color: #800000; font-weight: bold\">    return </span><span style=\"color: #800080; text-decoration-color: #800080; font-weight: bold\">fn</span><span style=\"color: #800000; text-decoration-color: #800000; font-weight: bold\">(ctx, *args, **kwargs)</span>\n",
       "<span style=\"color: #800000; text-decoration-color: #800000; font-weight: bold\">  File </span><span style=\"color: #008000; text-decoration-color: #008000\">\"/workspaces/predibase/engine/predibase_engine/workflow/activities.py\"</span><span style=\"color: #800000; text-decoration-color: #800000; font-weight: bold\">, line </span><span style=\"color: #008080; text-decoration-color: #008080; font-weight: bold\">59</span><span style=\"color: #800000; text-decoration-color: #800000; font-weight: bold\">, in preprocess_model</span>\n",
       "<span style=\"color: #800000; text-decoration-color: #800000; font-weight: bold\">    success = </span><span style=\"color: #800080; text-decoration-color: #800080; font-weight: bold\">preprocess_step</span><span style=\"color: #800000; text-decoration-color: #800000; font-weight: bold\">(</span>\n",
       "<span style=\"color: #800000; text-decoration-color: #800000; font-weight: bold\">  File </span><span style=\"color: #008000; text-decoration-color: #008000\">\"/workspaces/predibase/engine/predibase_engine/train/__init__.py\"</span><span style=\"color: #800000; text-decoration-color: #800000; font-weight: bold\">, line </span><span style=\"color: #008080; text-decoration-color: #008080; font-weight: bold\">129</span><span style=\"color: #800000; text-decoration-color: #800000; font-weight: bold\">, in preprocess_step</span>\n",
       "<span style=\"color: #800000; text-decoration-color: #800000; font-weight: bold\">    </span><span style=\"color: #800080; text-decoration-color: #800080; font-weight: bold\">model.preprocess</span><span style=\"color: #800000; text-decoration-color: #800000; font-weight: bold\">(</span>\n",
       "<span style=\"color: #800000; text-decoration-color: #800000; font-weight: bold\">  File </span><span style=\"color: #008000; text-decoration-color: #008000\">\"/workspaces/ludwig/ludwig/api.py\"</span><span style=\"color: #800000; text-decoration-color: #800000; font-weight: bold\">, line </span><span style=\"color: #008080; text-decoration-color: #008080; font-weight: bold\">1408</span><span style=\"color: #800000; text-decoration-color: #800000; font-weight: bold\">, in preprocess</span>\n",
       "<span style=\"color: #800000; text-decoration-color: #800000; font-weight: bold\">    </span><span style=\"color: #800080; text-decoration-color: #800080; font-weight: bold\">callback.on_preprocess_end</span><span style=\"color: #800000; text-decoration-color: #800000; font-weight: bold\">(proc_training_set, proc_validation_set, proc_test_set, training_set_metadata)</span>\n",
       "<span style=\"color: #800000; text-decoration-color: #800000; font-weight: bold\">UnboundLocalError: local variable </span><span style=\"color: #008000; text-decoration-color: #008000\">'proc_training_set'</span><span style=\"color: #800000; text-decoration-color: #800000; font-weight: bold\"> referenced before assignment</span>\n",
       "<span style=\"color: #800000; text-decoration-color: #800000; font-weight: bold\">: \u001b[36mray::</span><span style=\"color: #800080; text-decoration-color: #800080; font-weight: bold\">remote_fn</span><span style=\"color: #800000; text-decoration-color: #800000; font-weight: bold\">()\u001b[39m (</span><span style=\"color: #808000; text-decoration-color: #808000; font-weight: bold\">pid</span><span style=\"color: #800000; text-decoration-color: #800000; font-weight: bold\">=</span><span style=\"color: #008080; text-decoration-color: #008080; font-weight: bold\">2441</span><span style=\"color: #800000; text-decoration-color: #800000; font-weight: bold\">, </span><span style=\"color: #808000; text-decoration-color: #808000; font-weight: bold\">ip</span><span style=\"color: #800000; text-decoration-color: #800000; font-weight: bold\">=</span><span style=\"color: #00ff00; text-decoration-color: #00ff00; font-weight: bold\">172</span><span style=\"color: #00ff00; text-decoration-color: #00ff00; font-weight: bold\">.1.0.4</span><span style=\"color: #800000; text-decoration-color: #800000; font-weight: bold\">)</span>\n",
       "<span style=\"color: #800000; text-decoration-color: #800000; font-weight: bold\">  File </span><span style=\"color: #008000; text-decoration-color: #008000\">\"/workspaces/ludwig/ludwig/data/preprocessing.py\"</span><span style=\"color: #800000; text-decoration-color: #800000; font-weight: bold\">, line </span><span style=\"color: #008080; text-decoration-color: #008080; font-weight: bold\">1666</span><span style=\"color: #800000; text-decoration-color: #800000; font-weight: bold\">, in preprocess_for_training</span>\n",
       "<span style=\"color: #800000; text-decoration-color: #800000; font-weight: bold\">    processed = </span><span style=\"color: #800080; text-decoration-color: #800080; font-weight: bold\">data_format_processor.preprocess_for_training</span><span style=\"color: #800000; text-decoration-color: #800000; font-weight: bold\">(</span>\n",
       "<span style=\"color: #800000; text-decoration-color: #800000; font-weight: bold\">  File </span><span style=\"color: #008000; text-decoration-color: #008000\">\"/workspaces/ludwig/ludwig/data/preprocessing.py\"</span><span style=\"color: #800000; text-decoration-color: #800000; font-weight: bold\">, line </span><span style=\"color: #008080; text-decoration-color: #008080; font-weight: bold\">236</span><span style=\"color: #800000; text-decoration-color: #800000; font-weight: bold\">, in preprocess_for_training</span>\n",
       "<span style=\"color: #800000; text-decoration-color: #800000; font-weight: bold\">    return </span><span style=\"color: #800080; text-decoration-color: #800080; font-weight: bold\">_preprocess_df_for_training</span><span style=\"color: #800000; text-decoration-color: #800000; font-weight: bold\">(</span>\n",
       "<span style=\"color: #800000; text-decoration-color: #800000; font-weight: bold\">  File </span><span style=\"color: #008000; text-decoration-color: #008000\">\"/workspaces/ludwig/ludwig/data/preprocessing.py\"</span><span style=\"color: #800000; text-decoration-color: #800000; font-weight: bold\">, line </span><span style=\"color: #008080; text-decoration-color: #008080; font-weight: bold\">1909</span><span style=\"color: #800000; text-decoration-color: #800000; font-weight: bold\">, in _preprocess_df_for_training</span>\n",
       "<span style=\"color: #800000; text-decoration-color: #800000; font-weight: bold\">    if preprocessing_params[</span><span style=\"color: #008000; text-decoration-color: #008000\">\"smote\"</span><span style=\"color: #800000; text-decoration-color: #800000; font-weight: bold\">]:</span>\n",
       "<span style=\"color: #800000; text-decoration-color: #800000; font-weight: bold\">  File </span><span style=\"color: #008000; text-decoration-color: #008000\">\"/workspaces/ludwig/ludwig/data/preprocessing.py\"</span><span style=\"color: #800000; text-decoration-color: #800000; font-weight: bold\">, line </span><span style=\"color: #008080; text-decoration-color: #008080; font-weight: bold\">1439</span><span style=\"color: #800000; text-decoration-color: #800000; font-weight: bold\">, in smote</span>\n",
       "<span style=\"color: #800000; text-decoration-color: #800000; font-weight: bold\">    X_train_oversampled, y_train_oversampled = </span><span style=\"color: #800080; text-decoration-color: #800080; font-weight: bold\">sm.fit_resample</span><span style=\"color: #800000; text-decoration-color: #800000; font-weight: bold\">(</span><span style=\"color: #800080; text-decoration-color: #800080; font-weight: bold\">dataset_df.drop</span><span style=\"color: #800000; text-decoration-color: #800000; font-weight: bold\">(</span><span style=\"color: #808000; text-decoration-color: #808000; font-weight: bold\">columns</span><span style=\"color: #800000; text-decoration-color: #800000; font-weight: bold\">=), dataset_df)</span>\n",
       "<span style=\"color: #800000; text-decoration-color: #800000; font-weight: bold\">  File </span><span style=\"color: #008000; text-decoration-color: #008000\">\"/home/vscode/.local/lib/python3.8/site-packages/imblearn/base.py\"</span><span style=\"color: #800000; text-decoration-color: #800000; font-weight: bold\">, line </span><span style=\"color: #008080; text-decoration-color: #008080; font-weight: bold\">83</span><span style=\"color: #800000; text-decoration-color: #800000; font-weight: bold\">, in fit_resample</span>\n",
       "<span style=\"color: #800000; text-decoration-color: #800000; font-weight: bold\">    output = </span><span style=\"color: #800080; text-decoration-color: #800080; font-weight: bold\">self._fit_resample</span><span style=\"color: #800000; text-decoration-color: #800000; font-weight: bold\">(X, y)</span>\n",
       "<span style=\"color: #800000; text-decoration-color: #800000; font-weight: bold\">  File </span><span style=\"color: #008000; text-decoration-color: #008000\">\"/home/vscode/.local/lib/python3.8/site-packages/imblearn/over_sampling/_smote/base.py\"</span><span style=\"color: #800000; text-decoration-color: #800000; font-weight: bold\">, line </span><span style=\"color: #008080; text-decoration-color: #008080; font-weight: bold\">505</span><span style=\"color: #800000; text-decoration-color: #800000; font-weight: bold\">, in </span>\n",
       "<span style=\"color: #800000; text-decoration-color: #800000; font-weight: bold\">_fit_resample</span>\n",
       "<span style=\"color: #800000; text-decoration-color: #800000; font-weight: bold\">    X_categorical = X[:, self.categorical_features_]</span>\n",
       "<span style=\"color: #800000; text-decoration-color: #800000; font-weight: bold\">IndexError: arrays used as indices must be of integer (or boolean) type</span>\n",
       "\n",
       "<span style=\"color: #800000; text-decoration-color: #800000; font-weight: bold\">During handling of the above exception, another exception occurred:</span>\n",
       "\n",
       "<span style=\"color: #800000; text-decoration-color: #800000; font-weight: bold\">\u001b[36mray::</span><span style=\"color: #800080; text-decoration-color: #800080; font-weight: bold\">remote_fn</span><span style=\"color: #800000; text-decoration-color: #800000; font-weight: bold\">()\u001b[39m (</span><span style=\"color: #808000; text-decoration-color: #808000; font-weight: bold\">pid</span><span style=\"color: #800000; text-decoration-color: #800000; font-weight: bold\">=</span><span style=\"color: #008080; text-decoration-color: #008080; font-weight: bold\">2441</span><span style=\"color: #800000; text-decoration-color: #800000; font-weight: bold\">, </span><span style=\"color: #808000; text-decoration-color: #808000; font-weight: bold\">ip</span><span style=\"color: #800000; text-decoration-color: #800000; font-weight: bold\">=</span><span style=\"color: #00ff00; text-decoration-color: #00ff00; font-weight: bold\">172</span><span style=\"color: #00ff00; text-decoration-color: #00ff00; font-weight: bold\">.1.0.4</span><span style=\"color: #800000; text-decoration-color: #800000; font-weight: bold\">)</span>\n",
       "<span style=\"color: #800000; text-decoration-color: #800000; font-weight: bold\">  File </span><span style=\"color: #008000; text-decoration-color: #008000\">\"/workspaces/predibase/engine/predibase_engine/workflow/util.py\"</span><span style=\"color: #800000; text-decoration-color: #800000; font-weight: bold\">, line </span><span style=\"color: #008080; text-decoration-color: #008080; font-weight: bold\">38</span><span style=\"color: #800000; text-decoration-color: #800000; font-weight: bold\">, in remote_fn</span>\n",
       "<span style=\"color: #800000; text-decoration-color: #800000; font-weight: bold\">    return </span><span style=\"color: #800080; text-decoration-color: #800080; font-weight: bold\">fn</span><span style=\"color: #800000; text-decoration-color: #800000; font-weight: bold\">(ctx, *args, **kwargs)</span>\n",
       "<span style=\"color: #800000; text-decoration-color: #800000; font-weight: bold\">  File </span><span style=\"color: #008000; text-decoration-color: #008000\">\"/workspaces/predibase/engine/predibase_engine/workflow/activities.py\"</span><span style=\"color: #800000; text-decoration-color: #800000; font-weight: bold\">, line </span><span style=\"color: #008080; text-decoration-color: #008080; font-weight: bold\">59</span><span style=\"color: #800000; text-decoration-color: #800000; font-weight: bold\">, in preprocess_model</span>\n",
       "<span style=\"color: #800000; text-decoration-color: #800000; font-weight: bold\">    success = </span><span style=\"color: #800080; text-decoration-color: #800080; font-weight: bold\">preprocess_step</span><span style=\"color: #800000; text-decoration-color: #800000; font-weight: bold\">(</span>\n",
       "<span style=\"color: #800000; text-decoration-color: #800000; font-weight: bold\">  File </span><span style=\"color: #008000; text-decoration-color: #008000\">\"/workspaces/predibase/engine/predibase_engine/train/__init__.py\"</span><span style=\"color: #800000; text-decoration-color: #800000; font-weight: bold\">, line </span><span style=\"color: #008080; text-decoration-color: #008080; font-weight: bold\">129</span><span style=\"color: #800000; text-decoration-color: #800000; font-weight: bold\">, in preprocess_step</span>\n",
       "<span style=\"color: #800000; text-decoration-color: #800000; font-weight: bold\">    </span><span style=\"color: #800080; text-decoration-color: #800080; font-weight: bold\">model.preprocess</span><span style=\"color: #800000; text-decoration-color: #800000; font-weight: bold\">(</span>\n",
       "<span style=\"color: #800000; text-decoration-color: #800000; font-weight: bold\">  File </span><span style=\"color: #008000; text-decoration-color: #008000\">\"/workspaces/ludwig/ludwig/api.py\"</span><span style=\"color: #800000; text-decoration-color: #800000; font-weight: bold\">, line </span><span style=\"color: #008080; text-decoration-color: #008080; font-weight: bold\">1408</span><span style=\"color: #800000; text-decoration-color: #800000; font-weight: bold\">, in preprocess</span>\n",
       "<span style=\"color: #800000; text-decoration-color: #800000; font-weight: bold\">    </span><span style=\"color: #800080; text-decoration-color: #800080; font-weight: bold\">callback.on_preprocess_end</span><span style=\"color: #800000; text-decoration-color: #800000; font-weight: bold\">(proc_training_set, proc_validation_set, proc_test_set, training_set_metadata)</span>\n",
       "<span style=\"color: #800000; text-decoration-color: #800000; font-weight: bold\">UnboundLocalError: local variable </span><span style=\"color: #008000; text-decoration-color: #008000\">'proc_training_set'</span><span style=\"color: #800000; text-decoration-color: #800000; font-weight: bold\"> referenced before assignment (type: </span>\n",
       "<span style=\"color: #800080; text-decoration-color: #800080; font-weight: bold\">RayTaskError</span><span style=\"color: #800000; text-decoration-color: #800000; font-weight: bold\">(UnboundLocalError), retryable: true)</span>\n",
       "\n",
       "</pre>\n"
      ],
      "text/plain": [
       "\u001b[1;31mRuntimeError: Failed to train model with status FAILED\u001b[0m\n",
       "\n",
       "\u001b[1;31mRemote error:\u001b[0m\n",
       "\n",
       "\u001b[1;31mactivity error \u001b[0m\u001b[1;31m(\u001b[0m\u001b[1;31mtype: PreprocessModel, scheduledEventID: \u001b[0m\u001b[1;36m71\u001b[0m\u001b[1;31m, startedEventID: \u001b[0m\u001b[1;36m72\u001b[0m\u001b[1;31m, identity: \u001b[0m\u001b[1;36m1436\u001b[0m\u001b[1;31m@02cbc78c6a7a\u001b[0m\u001b[1;31m)\u001b[0m\u001b[1;31m: \u001b[0m\n",
       "\u001b[1;31mTraceback \u001b[0m\u001b[1;31m(\u001b[0m\u001b[1;31mmost recent call last\u001b[0m\u001b[1;31m)\u001b[0m\u001b[1;31m:\u001b[0m\n",
       "\u001b[1;31m  File \u001b[0m\u001b[32m\"/workspaces/predibase/engine/predibase_engine/workflow/util.py\"\u001b[0m\u001b[1;31m, line \u001b[0m\u001b[1;36m53\u001b[0m\u001b[1;31m, in wrapped_fn\u001b[0m\n",
       "\u001b[1;31m    return \u001b[0m\u001b[1;35mtask.result\u001b[0m\u001b[1;31m(\u001b[0m\u001b[1;31m)\u001b[0m\n",
       "\u001b[1;31m  File \u001b[0m\u001b[32m\"/usr/local/lib/python3.8/asyncio/tasks.py\"\u001b[0m\u001b[1;31m, line \u001b[0m\u001b[1;36m695\u001b[0m\u001b[1;31m, in _wrap_awaitable\u001b[0m\n",
       "\u001b[1;31m    return \u001b[0m\u001b[1;31m(\u001b[0m\u001b[1;31myield from \u001b[0m\u001b[1;35mawaitable.__await__\u001b[0m\u001b[1;31m(\u001b[0m\u001b[1;31m)\u001b[0m\u001b[1;31m)\u001b[0m\n",
       "\u001b[1;35mray.exceptions.RayTaskError\u001b[0m\u001b[1;31m(\u001b[0m\u001b[1;31mUnboundLocalError\u001b[0m\u001b[1;31m)\u001b[0m\u001b[1;31m: \u001b\u001b[0m\u001b[1;31m[\u001b[0m\u001b[1;31m36mray::\u001b[0m\u001b[1;35mremote_fn\u001b[0m\u001b[1;31m(\u001b[0m\u001b[1;31m)\u001b[0m\u001b[1;31m\u001b\u001b[0m\u001b[1;31m[\u001b[0m\u001b[1;31m39m \u001b[0m\u001b[1;31m(\u001b[0m\u001b[1;33mpid\u001b[0m\u001b[1;31m=\u001b[0m\u001b[1;36m2441\u001b[0m\u001b[1;31m, \u001b[0m\u001b[1;33mip\u001b[0m\u001b[1;31m=\u001b[0m\u001b[1;92m172\u001b[0m\u001b[1;92m.1.0.4\u001b[0m\u001b[1;31m)\u001b[0m\n",
       "\u001b[1;31m  File \u001b[0m\u001b[32m\"/workspaces/ludwig/ludwig/data/preprocessing.py\"\u001b[0m\u001b[1;31m, line \u001b[0m\u001b[1;36m1666\u001b[0m\u001b[1;31m, in preprocess_for_training\u001b[0m\n",
       "\u001b[1;31m    processed = \u001b[0m\u001b[1;35mdata_format_processor.preprocess_for_training\u001b[0m\u001b[1;31m(\u001b[0m\n",
       "\u001b[1;31m  File \u001b[0m\u001b[32m\"/workspaces/ludwig/ludwig/data/preprocessing.py\"\u001b[0m\u001b[1;31m, line \u001b[0m\u001b[1;36m236\u001b[0m\u001b[1;31m, in preprocess_for_training\u001b[0m\n",
       "\u001b[1;31m    return \u001b[0m\u001b[1;35m_preprocess_df_for_training\u001b[0m\u001b[1;31m(\u001b[0m\n",
       "\u001b[1;31m  File \u001b[0m\u001b[32m\"/workspaces/ludwig/ludwig/data/preprocessing.py\"\u001b[0m\u001b[1;31m, line \u001b[0m\u001b[1;36m1909\u001b[0m\u001b[1;31m, in _preprocess_df_for_training\u001b[0m\n",
       "\u001b[1;31m    if preprocessing_params\u001b[0m\u001b[1;31m[\u001b[0m\u001b[32m\"smote\"\u001b[0m\u001b[1;31m]\u001b[0m\u001b[1;31m:\u001b[0m\n",
       "\u001b[1;31m  File \u001b[0m\u001b[32m\"/workspaces/ludwig/ludwig/data/preprocessing.py\"\u001b[0m\u001b[1;31m, line \u001b[0m\u001b[1;36m1439\u001b[0m\u001b[1;31m, in smote\u001b[0m\n",
       "\u001b[1;31m    X_train_oversampled, y_train_oversampled = \u001b[0m\u001b[1;35msm.fit_resample\u001b[0m\u001b[1;31m(\u001b[0m\u001b[1;35mdataset_df.drop\u001b[0m\u001b[1;31m(\u001b[0m\u001b[1;33mcolumns\u001b[0m\u001b[1;31m=\u001b[0m\u001b[1;31m)\u001b[0m\u001b[1;31m, dataset_df\u001b[0m\u001b[1;31m)\u001b[0m\n",
       "\u001b[1;31m  File \u001b[0m\u001b[32m\"/home/vscode/.local/lib/python3.8/site-packages/imblearn/base.py\"\u001b[0m\u001b[1;31m, line \u001b[0m\u001b[1;36m83\u001b[0m\u001b[1;31m, in fit_resample\u001b[0m\n",
       "\u001b[1;31m    output = \u001b[0m\u001b[1;35mself._fit_resample\u001b[0m\u001b[1;31m(\u001b[0m\u001b[1;31mX, y\u001b[0m\u001b[1;31m)\u001b[0m\n",
       "\u001b[1;31m  File \u001b[0m\u001b[32m\"/home/vscode/.local/lib/python3.8/site-packages/imblearn/over_sampling/_smote/base.py\"\u001b[0m\u001b[1;31m, line \u001b[0m\u001b[1;36m505\u001b[0m\u001b[1;31m, in \u001b[0m\n",
       "\u001b[1;31m_fit_resample\u001b[0m\n",
       "\u001b[1;31m    X_categorical = X\u001b[0m\u001b[1;31m[\u001b[0m\u001b[1;31m:, self.categorical_features_\u001b[0m\u001b[1;31m]\u001b[0m\n",
       "\u001b[1;31mIndexError: arrays used as indices must be of integer \u001b[0m\u001b[1;31m(\u001b[0m\u001b[1;31mor boolean\u001b[0m\u001b[1;31m)\u001b[0m\u001b[1;31m type\u001b[0m\n",
       "\n",
       "\u001b[1;31mDuring handling of the above exception, another exception occurred:\u001b[0m\n",
       "\n",
       "\u001b[1;31m\u001b\u001b[0m\u001b[1;31m[\u001b[0m\u001b[1;31m36mray::\u001b[0m\u001b[1;35mremote_fn\u001b[0m\u001b[1;31m(\u001b[0m\u001b[1;31m)\u001b[0m\u001b[1;31m\u001b\u001b[0m\u001b[1;31m[\u001b[0m\u001b[1;31m39m \u001b[0m\u001b[1;31m(\u001b[0m\u001b[1;33mpid\u001b[0m\u001b[1;31m=\u001b[0m\u001b[1;36m2441\u001b[0m\u001b[1;31m, \u001b[0m\u001b[1;33mip\u001b[0m\u001b[1;31m=\u001b[0m\u001b[1;92m172\u001b[0m\u001b[1;92m.1.0.4\u001b[0m\u001b[1;31m)\u001b[0m\n",
       "\u001b[1;31m  File \u001b[0m\u001b[32m\"/workspaces/predibase/engine/predibase_engine/workflow/util.py\"\u001b[0m\u001b[1;31m, line \u001b[0m\u001b[1;36m38\u001b[0m\u001b[1;31m, in remote_fn\u001b[0m\n",
       "\u001b[1;31m    return \u001b[0m\u001b[1;35mfn\u001b[0m\u001b[1;31m(\u001b[0m\u001b[1;31mctx, *args, **kwargs\u001b[0m\u001b[1;31m)\u001b[0m\n",
       "\u001b[1;31m  File \u001b[0m\u001b[32m\"/workspaces/predibase/engine/predibase_engine/workflow/activities.py\"\u001b[0m\u001b[1;31m, line \u001b[0m\u001b[1;36m59\u001b[0m\u001b[1;31m, in preprocess_model\u001b[0m\n",
       "\u001b[1;31m    success = \u001b[0m\u001b[1;35mpreprocess_step\u001b[0m\u001b[1;31m(\u001b[0m\n",
       "\u001b[1;31m  File \u001b[0m\u001b[32m\"/workspaces/predibase/engine/predibase_engine/train/__init__.py\"\u001b[0m\u001b[1;31m, line \u001b[0m\u001b[1;36m129\u001b[0m\u001b[1;31m, in preprocess_step\u001b[0m\n",
       "\u001b[1;31m    \u001b[0m\u001b[1;35mmodel.preprocess\u001b[0m\u001b[1;31m(\u001b[0m\n",
       "\u001b[1;31m  File \u001b[0m\u001b[32m\"/workspaces/ludwig/ludwig/api.py\"\u001b[0m\u001b[1;31m, line \u001b[0m\u001b[1;36m1408\u001b[0m\u001b[1;31m, in preprocess\u001b[0m\n",
       "\u001b[1;31m    \u001b[0m\u001b[1;35mcallback.on_preprocess_end\u001b[0m\u001b[1;31m(\u001b[0m\u001b[1;31mproc_training_set, proc_validation_set, proc_test_set, training_set_metadata\u001b[0m\u001b[1;31m)\u001b[0m\n",
       "\u001b[1;31mUnboundLocalError: local variable \u001b[0m\u001b[32m'proc_training_set'\u001b[0m\u001b[1;31m referenced before assignment\u001b[0m\n",
       "\u001b[1;31m: \u001b\u001b[0m\u001b[1;31m[\u001b[0m\u001b[1;31m36mray::\u001b[0m\u001b[1;35mremote_fn\u001b[0m\u001b[1;31m(\u001b[0m\u001b[1;31m)\u001b[0m\u001b[1;31m\u001b\u001b[0m\u001b[1;31m[\u001b[0m\u001b[1;31m39m \u001b[0m\u001b[1;31m(\u001b[0m\u001b[1;33mpid\u001b[0m\u001b[1;31m=\u001b[0m\u001b[1;36m2441\u001b[0m\u001b[1;31m, \u001b[0m\u001b[1;33mip\u001b[0m\u001b[1;31m=\u001b[0m\u001b[1;92m172\u001b[0m\u001b[1;92m.1.0.4\u001b[0m\u001b[1;31m)\u001b[0m\n",
       "\u001b[1;31m  File \u001b[0m\u001b[32m\"/workspaces/ludwig/ludwig/data/preprocessing.py\"\u001b[0m\u001b[1;31m, line \u001b[0m\u001b[1;36m1666\u001b[0m\u001b[1;31m, in preprocess_for_training\u001b[0m\n",
       "\u001b[1;31m    processed = \u001b[0m\u001b[1;35mdata_format_processor.preprocess_for_training\u001b[0m\u001b[1;31m(\u001b[0m\n",
       "\u001b[1;31m  File \u001b[0m\u001b[32m\"/workspaces/ludwig/ludwig/data/preprocessing.py\"\u001b[0m\u001b[1;31m, line \u001b[0m\u001b[1;36m236\u001b[0m\u001b[1;31m, in preprocess_for_training\u001b[0m\n",
       "\u001b[1;31m    return \u001b[0m\u001b[1;35m_preprocess_df_for_training\u001b[0m\u001b[1;31m(\u001b[0m\n",
       "\u001b[1;31m  File \u001b[0m\u001b[32m\"/workspaces/ludwig/ludwig/data/preprocessing.py\"\u001b[0m\u001b[1;31m, line \u001b[0m\u001b[1;36m1909\u001b[0m\u001b[1;31m, in _preprocess_df_for_training\u001b[0m\n",
       "\u001b[1;31m    if preprocessing_params\u001b[0m\u001b[1;31m[\u001b[0m\u001b[32m\"smote\"\u001b[0m\u001b[1;31m]\u001b[0m\u001b[1;31m:\u001b[0m\n",
       "\u001b[1;31m  File \u001b[0m\u001b[32m\"/workspaces/ludwig/ludwig/data/preprocessing.py\"\u001b[0m\u001b[1;31m, line \u001b[0m\u001b[1;36m1439\u001b[0m\u001b[1;31m, in smote\u001b[0m\n",
       "\u001b[1;31m    X_train_oversampled, y_train_oversampled = \u001b[0m\u001b[1;35msm.fit_resample\u001b[0m\u001b[1;31m(\u001b[0m\u001b[1;35mdataset_df.drop\u001b[0m\u001b[1;31m(\u001b[0m\u001b[1;33mcolumns\u001b[0m\u001b[1;31m=\u001b[0m\u001b[1;31m)\u001b[0m\u001b[1;31m, dataset_df\u001b[0m\u001b[1;31m)\u001b[0m\n",
       "\u001b[1;31m  File \u001b[0m\u001b[32m\"/home/vscode/.local/lib/python3.8/site-packages/imblearn/base.py\"\u001b[0m\u001b[1;31m, line \u001b[0m\u001b[1;36m83\u001b[0m\u001b[1;31m, in fit_resample\u001b[0m\n",
       "\u001b[1;31m    output = \u001b[0m\u001b[1;35mself._fit_resample\u001b[0m\u001b[1;31m(\u001b[0m\u001b[1;31mX, y\u001b[0m\u001b[1;31m)\u001b[0m\n",
       "\u001b[1;31m  File \u001b[0m\u001b[32m\"/home/vscode/.local/lib/python3.8/site-packages/imblearn/over_sampling/_smote/base.py\"\u001b[0m\u001b[1;31m, line \u001b[0m\u001b[1;36m505\u001b[0m\u001b[1;31m, in \u001b[0m\n",
       "\u001b[1;31m_fit_resample\u001b[0m\n",
       "\u001b[1;31m    X_categorical = X\u001b[0m\u001b[1;31m[\u001b[0m\u001b[1;31m:, self.categorical_features_\u001b[0m\u001b[1;31m]\u001b[0m\n",
       "\u001b[1;31mIndexError: arrays used as indices must be of integer \u001b[0m\u001b[1;31m(\u001b[0m\u001b[1;31mor boolean\u001b[0m\u001b[1;31m)\u001b[0m\u001b[1;31m type\u001b[0m\n",
       "\n",
       "\u001b[1;31mDuring handling of the above exception, another exception occurred:\u001b[0m\n",
       "\n",
       "\u001b[1;31m\u001b\u001b[0m\u001b[1;31m[\u001b[0m\u001b[1;31m36mray::\u001b[0m\u001b[1;35mremote_fn\u001b[0m\u001b[1;31m(\u001b[0m\u001b[1;31m)\u001b[0m\u001b[1;31m\u001b\u001b[0m\u001b[1;31m[\u001b[0m\u001b[1;31m39m \u001b[0m\u001b[1;31m(\u001b[0m\u001b[1;33mpid\u001b[0m\u001b[1;31m=\u001b[0m\u001b[1;36m2441\u001b[0m\u001b[1;31m, \u001b[0m\u001b[1;33mip\u001b[0m\u001b[1;31m=\u001b[0m\u001b[1;92m172\u001b[0m\u001b[1;92m.1.0.4\u001b[0m\u001b[1;31m)\u001b[0m\n",
       "\u001b[1;31m  File \u001b[0m\u001b[32m\"/workspaces/predibase/engine/predibase_engine/workflow/util.py\"\u001b[0m\u001b[1;31m, line \u001b[0m\u001b[1;36m38\u001b[0m\u001b[1;31m, in remote_fn\u001b[0m\n",
       "\u001b[1;31m    return \u001b[0m\u001b[1;35mfn\u001b[0m\u001b[1;31m(\u001b[0m\u001b[1;31mctx, *args, **kwargs\u001b[0m\u001b[1;31m)\u001b[0m\n",
       "\u001b[1;31m  File \u001b[0m\u001b[32m\"/workspaces/predibase/engine/predibase_engine/workflow/activities.py\"\u001b[0m\u001b[1;31m, line \u001b[0m\u001b[1;36m59\u001b[0m\u001b[1;31m, in preprocess_model\u001b[0m\n",
       "\u001b[1;31m    success = \u001b[0m\u001b[1;35mpreprocess_step\u001b[0m\u001b[1;31m(\u001b[0m\n",
       "\u001b[1;31m  File \u001b[0m\u001b[32m\"/workspaces/predibase/engine/predibase_engine/train/__init__.py\"\u001b[0m\u001b[1;31m, line \u001b[0m\u001b[1;36m129\u001b[0m\u001b[1;31m, in preprocess_step\u001b[0m\n",
       "\u001b[1;31m    \u001b[0m\u001b[1;35mmodel.preprocess\u001b[0m\u001b[1;31m(\u001b[0m\n",
       "\u001b[1;31m  File \u001b[0m\u001b[32m\"/workspaces/ludwig/ludwig/api.py\"\u001b[0m\u001b[1;31m, line \u001b[0m\u001b[1;36m1408\u001b[0m\u001b[1;31m, in preprocess\u001b[0m\n",
       "\u001b[1;31m    \u001b[0m\u001b[1;35mcallback.on_preprocess_end\u001b[0m\u001b[1;31m(\u001b[0m\u001b[1;31mproc_training_set, proc_validation_set, proc_test_set, training_set_metadata\u001b[0m\u001b[1;31m)\u001b[0m\n",
       "\u001b[1;31mUnboundLocalError: local variable \u001b[0m\u001b[32m'proc_training_set'\u001b[0m\u001b[1;31m referenced before assignment \u001b[0m\u001b[1;31m(\u001b[0m\u001b[1;31mtype: \u001b[0m\n",
       "\u001b[1;35mRayTaskError\u001b[0m\u001b[1;31m(\u001b[0m\u001b[1;31mUnboundLocalError\u001b[0m\u001b[1;31m)\u001b[0m\u001b[1;31m, retryable: true\u001b[0m\u001b[1;31m)\u001b[0m\n",
       "\n"
      ]
     },
     "metadata": {},
     "output_type": "display_data"
    },
    {
     "data": {
      "text/html": [
       "<pre style=\"white-space:pre;overflow-x:auto;line-height:normal;font-family:Menlo,'DejaVu Sans Mono',consolas,'Courier New',monospace\"></pre>\n"
      ],
      "text/plain": []
     },
     "metadata": {},
     "output_type": "display_data"
    },
    {
     "ename": "RuntimeError",
     "evalue": "Failed to train model with status FAILED\n\nRemote error:\n\nactivity error (type: PreprocessModel, scheduledEventID: 71, startedEventID: 72, identity: 1436@02cbc78c6a7a): Traceback (most recent call last):\n  File \"/workspaces/predibase/engine/predibase_engine/workflow/util.py\", line 53, in wrapped_fn\n    return task.result()\n  File \"/usr/local/lib/python3.8/asyncio/tasks.py\", line 695, in _wrap_awaitable\n    return (yield from awaitable.__await__())\nray.exceptions.RayTaskError(UnboundLocalError): \u001b[36mray::remote_fn()\u001b[39m (pid=2441, ip=172.1.0.4)\n  File \"/workspaces/ludwig/ludwig/data/preprocessing.py\", line 1666, in preprocess_for_training\n    processed = data_format_processor.preprocess_for_training(\n  File \"/workspaces/ludwig/ludwig/data/preprocessing.py\", line 236, in preprocess_for_training\n    return _preprocess_df_for_training(\n  File \"/workspaces/ludwig/ludwig/data/preprocessing.py\", line 1909, in _preprocess_df_for_training\n    if preprocessing_params[\"smote\"]:\n  File \"/workspaces/ludwig/ludwig/data/preprocessing.py\", line 1439, in smote\n    X_train_oversampled, y_train_oversampled = sm.fit_resample(dataset_df.drop(columns=[target]), dataset_df[target])\n  File \"/home/vscode/.local/lib/python3.8/site-packages/imblearn/base.py\", line 83, in fit_resample\n    output = self._fit_resample(X, y)\n  File \"/home/vscode/.local/lib/python3.8/site-packages/imblearn/over_sampling/_smote/base.py\", line 505, in _fit_resample\n    X_categorical = X[:, self.categorical_features_]\nIndexError: arrays used as indices must be of integer (or boolean) type\n\nDuring handling of the above exception, another exception occurred:\n\n\u001b[36mray::remote_fn()\u001b[39m (pid=2441, ip=172.1.0.4)\n  File \"/workspaces/predibase/engine/predibase_engine/workflow/util.py\", line 38, in remote_fn\n    return fn(ctx, *args, **kwargs)\n  File \"/workspaces/predibase/engine/predibase_engine/workflow/activities.py\", line 59, in preprocess_model\n    success = preprocess_step(\n  File \"/workspaces/predibase/engine/predibase_engine/train/__init__.py\", line 129, in preprocess_step\n    model.preprocess(\n  File \"/workspaces/ludwig/ludwig/api.py\", line 1408, in preprocess\n    callback.on_preprocess_end(proc_training_set, proc_validation_set, proc_test_set, training_set_metadata)\nUnboundLocalError: local variable 'proc_training_set' referenced before assignment\n: \u001b[36mray::remote_fn()\u001b[39m (pid=2441, ip=172.1.0.4)\n  File \"/workspaces/ludwig/ludwig/data/preprocessing.py\", line 1666, in preprocess_for_training\n    processed = data_format_processor.preprocess_for_training(\n  File \"/workspaces/ludwig/ludwig/data/preprocessing.py\", line 236, in preprocess_for_training\n    return _preprocess_df_for_training(\n  File \"/workspaces/ludwig/ludwig/data/preprocessing.py\", line 1909, in _preprocess_df_for_training\n    if preprocessing_params[\"smote\"]:\n  File \"/workspaces/ludwig/ludwig/data/preprocessing.py\", line 1439, in smote\n    X_train_oversampled, y_train_oversampled = sm.fit_resample(dataset_df.drop(columns=[target]), dataset_df[target])\n  File \"/home/vscode/.local/lib/python3.8/site-packages/imblearn/base.py\", line 83, in fit_resample\n    output = self._fit_resample(X, y)\n  File \"/home/vscode/.local/lib/python3.8/site-packages/imblearn/over_sampling/_smote/base.py\", line 505, in _fit_resample\n    X_categorical = X[:, self.categorical_features_]\nIndexError: arrays used as indices must be of integer (or boolean) type\n\nDuring handling of the above exception, another exception occurred:\n\n\u001b[36mray::remote_fn()\u001b[39m (pid=2441, ip=172.1.0.4)\n  File \"/workspaces/predibase/engine/predibase_engine/workflow/util.py\", line 38, in remote_fn\n    return fn(ctx, *args, **kwargs)\n  File \"/workspaces/predibase/engine/predibase_engine/workflow/activities.py\", line 59, in preprocess_model\n    success = preprocess_step(\n  File \"/workspaces/predibase/engine/predibase_engine/train/__init__.py\", line 129, in preprocess_step\n    model.preprocess(\n  File \"/workspaces/ludwig/ludwig/api.py\", line 1408, in preprocess\n    callback.on_preprocess_end(proc_training_set, proc_validation_set, proc_test_set, training_set_metadata)\nUnboundLocalError: local variable 'proc_training_set' referenced before assignment (type: RayTaskError(UnboundLocalError), retryable: true)\n",
     "output_type": "error",
     "traceback": [
      "\u001b[0;31m---------------------------------------------------------------------------\u001b[0m",
      "\u001b[0;31mRuntimeError\u001b[0m                              Traceback (most recent call last)",
      "Cell \u001b[0;32mIn [36], line 5\u001b[0m\n\u001b[1;32m      3\u001b[0m draft \u001b[39m=\u001b[39m model\u001b[39m.\u001b[39mto_draft()\n\u001b[1;32m      4\u001b[0m draft\u001b[39m.\u001b[39mconfig[\u001b[39m'\u001b[39m\u001b[39mpreprocessing\u001b[39m\u001b[39m'\u001b[39m][\u001b[39m'\u001b[39m\u001b[39msmote\u001b[39m\u001b[39m'\u001b[39m] \u001b[39m=\u001b[39m \u001b[39mTrue\u001b[39;00m\n\u001b[0;32m----> 5\u001b[0m model_smote \u001b[39m=\u001b[39m draft\u001b[39m.\u001b[39;49mtrain()\n",
      "File \u001b[0;32m/workspaces/predibase/sdk/python/predibase/resource/model.py:712\u001b[0m, in \u001b[0;36mModelDraft.train\u001b[0;34m(self, engine)\u001b[0m\n\u001b[1;32m    710\u001b[0m \u001b[39mdef\u001b[39;00m \u001b[39mtrain\u001b[39m(\u001b[39mself\u001b[39m, engine: Optional[Engine] \u001b[39m=\u001b[39m \u001b[39mNone\u001b[39;00m) \u001b[39m-\u001b[39m\u001b[39m>\u001b[39m Model:\n\u001b[1;32m    711\u001b[0m     future \u001b[39m=\u001b[39m \u001b[39mself\u001b[39m\u001b[39m.\u001b[39mtrain_async(engine)\n\u001b[0;32m--> 712\u001b[0m     \u001b[39mreturn\u001b[39;00m future\u001b[39m.\u001b[39;49mget()\n",
      "File \u001b[0;32m/workspaces/predibase/sdk/python/predibase/util.py:29\u001b[0m, in \u001b[0;36mspinner.<locals>.decorator.<locals>.wrap_fn\u001b[0;34m(*args, **kwargs)\u001b[0m\n\u001b[1;32m     27\u001b[0m \u001b[39mwith\u001b[39;00m _console\u001b[39m.\u001b[39mstatus(\u001b[39mf\u001b[39m\u001b[39m\"\u001b[39m\u001b[39m{\u001b[39;00mname\u001b[39m}\u001b[39;00m\u001b[39m...\u001b[39m\u001b[39m\"\u001b[39m, spinner\u001b[39m=\u001b[39m\u001b[39m\"\u001b[39m\u001b[39mmaterial\u001b[39m\u001b[39m\"\u001b[39m):\n\u001b[1;32m     28\u001b[0m     \u001b[39mtry\u001b[39;00m:\n\u001b[0;32m---> 29\u001b[0m         res \u001b[39m=\u001b[39m fn(\u001b[39m*\u001b[39;49margs, \u001b[39m*\u001b[39;49m\u001b[39m*\u001b[39;49mkwargs)\n\u001b[1;32m     30\u001b[0m         _console\u001b[39m.\u001b[39mprint(\u001b[39mf\u001b[39m\u001b[39m\"\u001b[39m\u001b[39m✅ \u001b[39m\u001b[39m{\u001b[39;00mname\u001b[39m}\u001b[39;00m\u001b[39m\"\u001b[39m)\n\u001b[1;32m     31\u001b[0m         \u001b[39mreturn\u001b[39;00m res\n",
      "File \u001b[0;32m/workspaces/predibase/sdk/python/predibase/resource/model.py:668\u001b[0m, in \u001b[0;36mModelFuture.get\u001b[0;34m(self)\u001b[0m\n\u001b[1;32m    664\u001b[0m \u001b[39m@spinner\u001b[39m(name\u001b[39m=\u001b[39m\u001b[39m\"\u001b[39m\u001b[39mTrain Model\u001b[39m\u001b[39m\"\u001b[39m)\n\u001b[1;32m    665\u001b[0m \u001b[39mdef\u001b[39;00m \u001b[39mget\u001b[39m(\u001b[39mself\u001b[39m) \u001b[39m-\u001b[39m\u001b[39m>\u001b[39m Model:\n\u001b[1;32m    666\u001b[0m     \u001b[39mfrom\u001b[39;00m \u001b[39mpredibase\u001b[39;00m\u001b[39m.\u001b[39;00m\u001b[39mresource_util\u001b[39;00m \u001b[39mimport\u001b[39;00m build_model\n\u001b[0;32m--> 668\u001b[0m     resp \u001b[39m=\u001b[39m \u001b[39mself\u001b[39;49m\u001b[39m.\u001b[39;49m_wait_for_ready()\n\u001b[1;32m    669\u001b[0m     \u001b[39mreturn\u001b[39;00m build_model(resp[\u001b[39m\"\u001b[39m\u001b[39mmodelVersion\u001b[39m\u001b[39m\"\u001b[39m], \u001b[39mself\u001b[39m\u001b[39m.\u001b[39msession)\n",
      "File \u001b[0;32m/workspaces/predibase/sdk/python/predibase/resource/model.py:679\u001b[0m, in \u001b[0;36mModelFuture._wait_for_ready\u001b[0;34m(self)\u001b[0m\n\u001b[1;32m    678\u001b[0m \u001b[39mdef\u001b[39;00m \u001b[39m_wait_for_ready\u001b[39m(\u001b[39mself\u001b[39m) \u001b[39m-\u001b[39m\u001b[39m>\u001b[39m Dict[\u001b[39mstr\u001b[39m, Any]:\n\u001b[0;32m--> 679\u001b[0m     \u001b[39mreturn\u001b[39;00m \u001b[39mself\u001b[39;49m\u001b[39m.\u001b[39;49msession\u001b[39m.\u001b[39;49mget_json_until(\n\u001b[1;32m    680\u001b[0m         \u001b[39mf\u001b[39;49m\u001b[39m\"\u001b[39;49m\u001b[39m/models/version/\u001b[39;49m\u001b[39m{\u001b[39;49;00m\u001b[39mself\u001b[39;49m\u001b[39m.\u001b[39;49mversion_id\u001b[39m}\u001b[39;49;00m\u001b[39m\"\u001b[39;49m,\n\u001b[1;32m    681\u001b[0m         \u001b[39mlambda\u001b[39;49;00m resp: resp[\u001b[39m\"\u001b[39;49m\u001b[39mmodelVersion\u001b[39;49m\u001b[39m\"\u001b[39;49m][\u001b[39m\"\u001b[39;49m\u001b[39mstatus\u001b[39;49m\u001b[39m\"\u001b[39;49m] \u001b[39m==\u001b[39;49m \u001b[39m\"\u001b[39;49m\u001b[39mready\u001b[39;49m\u001b[39m\"\u001b[39;49m,\n\u001b[1;32m    682\u001b[0m         \u001b[39mlambda\u001b[39;49;00m resp: \u001b[39mf\u001b[39;49m\u001b[39m\"\u001b[39;49m\u001b[39mFailed to train model with status \u001b[39;49m\u001b[39m{\u001b[39;49;00mresp[\u001b[39m'\u001b[39;49m\u001b[39mmodelVersion\u001b[39;49m\u001b[39m'\u001b[39;49m][\u001b[39m'\u001b[39;49m\u001b[39mstatus\u001b[39;49m\u001b[39m'\u001b[39;49m]\u001b[39m.\u001b[39;49mupper()\u001b[39m}\u001b[39;49;00m\u001b[39m\"\u001b[39;49m\n\u001b[1;32m    683\u001b[0m         \u001b[39mif\u001b[39;49;00m resp[\u001b[39m\"\u001b[39;49m\u001b[39mmodelVersion\u001b[39;49m\u001b[39m\"\u001b[39;49m][\u001b[39m\"\u001b[39;49m\u001b[39mstatus\u001b[39;49m\u001b[39m\"\u001b[39;49m] \u001b[39min\u001b[39;49;00m {\u001b[39m\"\u001b[39;49m\u001b[39mfailed\u001b[39;49m\u001b[39m\"\u001b[39;49m, \u001b[39m\"\u001b[39;49m\u001b[39mcanceled\u001b[39;49m\u001b[39m\"\u001b[39;49m}\n\u001b[1;32m    684\u001b[0m         \u001b[39melse\u001b[39;49;00m \u001b[39mNone\u001b[39;49;00m,\n\u001b[1;32m    685\u001b[0m     )\n",
      "File \u001b[0;32m/workspaces/predibase/sdk/python/predibase/pql/api.py:198\u001b[0m, in \u001b[0;36mSession.get_json_until\u001b[0;34m(self, endpoint, success_cond, error_cond)\u001b[0m\n\u001b[1;32m    196\u001b[0m         err_text \u001b[39m=\u001b[39m resp\u001b[39m.\u001b[39mget(\u001b[39m\"\u001b[39m\u001b[39mmodelVersion\u001b[39m\u001b[39m\"\u001b[39m, {})\u001b[39m.\u001b[39mget(\u001b[39m\"\u001b[39m\u001b[39merrorText\u001b[39m\u001b[39m\"\u001b[39m, \u001b[39m\"\u001b[39m\u001b[39mUnknown\u001b[39m\u001b[39m\"\u001b[39m)\n\u001b[1;32m    197\u001b[0m         error_msg \u001b[39m=\u001b[39m \u001b[39mf\u001b[39m\u001b[39m\"\u001b[39m\u001b[39m{\u001b[39;00mbase_err\u001b[39m}\u001b[39;00m\u001b[39m\\n\u001b[39;00m\u001b[39m\\n\u001b[39;00m\u001b[39m\"\u001b[39m \u001b[39mf\u001b[39m\u001b[39m\"\u001b[39m\u001b[39mRemote error:\u001b[39m\u001b[39m\\n\u001b[39;00m\u001b[39m\\n\u001b[39;00m\u001b[39m{\u001b[39;00merr_text\u001b[39m}\u001b[39;00m\u001b[39m\\n\u001b[39;00m\u001b[39m\"\u001b[39m\n\u001b[0;32m--> 198\u001b[0m         \u001b[39mraise\u001b[39;00m \u001b[39mRuntimeError\u001b[39;00m(error_msg)\n\u001b[1;32m    200\u001b[0m time\u001b[39m.\u001b[39msleep(\u001b[39m1.0\u001b[39m)\n",
      "\u001b[0;31mRuntimeError\u001b[0m: Failed to train model with status FAILED\n\nRemote error:\n\nactivity error (type: PreprocessModel, scheduledEventID: 71, startedEventID: 72, identity: 1436@02cbc78c6a7a): Traceback (most recent call last):\n  File \"/workspaces/predibase/engine/predibase_engine/workflow/util.py\", line 53, in wrapped_fn\n    return task.result()\n  File \"/usr/local/lib/python3.8/asyncio/tasks.py\", line 695, in _wrap_awaitable\n    return (yield from awaitable.__await__())\nray.exceptions.RayTaskError(UnboundLocalError): \u001b[36mray::remote_fn()\u001b[39m (pid=2441, ip=172.1.0.4)\n  File \"/workspaces/ludwig/ludwig/data/preprocessing.py\", line 1666, in preprocess_for_training\n    processed = data_format_processor.preprocess_for_training(\n  File \"/workspaces/ludwig/ludwig/data/preprocessing.py\", line 236, in preprocess_for_training\n    return _preprocess_df_for_training(\n  File \"/workspaces/ludwig/ludwig/data/preprocessing.py\", line 1909, in _preprocess_df_for_training\n    if preprocessing_params[\"smote\"]:\n  File \"/workspaces/ludwig/ludwig/data/preprocessing.py\", line 1439, in smote\n    X_train_oversampled, y_train_oversampled = sm.fit_resample(dataset_df.drop(columns=[target]), dataset_df[target])\n  File \"/home/vscode/.local/lib/python3.8/site-packages/imblearn/base.py\", line 83, in fit_resample\n    output = self._fit_resample(X, y)\n  File \"/home/vscode/.local/lib/python3.8/site-packages/imblearn/over_sampling/_smote/base.py\", line 505, in _fit_resample\n    X_categorical = X[:, self.categorical_features_]\nIndexError: arrays used as indices must be of integer (or boolean) type\n\nDuring handling of the above exception, another exception occurred:\n\n\u001b[36mray::remote_fn()\u001b[39m (pid=2441, ip=172.1.0.4)\n  File \"/workspaces/predibase/engine/predibase_engine/workflow/util.py\", line 38, in remote_fn\n    return fn(ctx, *args, **kwargs)\n  File \"/workspaces/predibase/engine/predibase_engine/workflow/activities.py\", line 59, in preprocess_model\n    success = preprocess_step(\n  File \"/workspaces/predibase/engine/predibase_engine/train/__init__.py\", line 129, in preprocess_step\n    model.preprocess(\n  File \"/workspaces/ludwig/ludwig/api.py\", line 1408, in preprocess\n    callback.on_preprocess_end(proc_training_set, proc_validation_set, proc_test_set, training_set_metadata)\nUnboundLocalError: local variable 'proc_training_set' referenced before assignment\n: \u001b[36mray::remote_fn()\u001b[39m (pid=2441, ip=172.1.0.4)\n  File \"/workspaces/ludwig/ludwig/data/preprocessing.py\", line 1666, in preprocess_for_training\n    processed = data_format_processor.preprocess_for_training(\n  File \"/workspaces/ludwig/ludwig/data/preprocessing.py\", line 236, in preprocess_for_training\n    return _preprocess_df_for_training(\n  File \"/workspaces/ludwig/ludwig/data/preprocessing.py\", line 1909, in _preprocess_df_for_training\n    if preprocessing_params[\"smote\"]:\n  File \"/workspaces/ludwig/ludwig/data/preprocessing.py\", line 1439, in smote\n    X_train_oversampled, y_train_oversampled = sm.fit_resample(dataset_df.drop(columns=[target]), dataset_df[target])\n  File \"/home/vscode/.local/lib/python3.8/site-packages/imblearn/base.py\", line 83, in fit_resample\n    output = self._fit_resample(X, y)\n  File \"/home/vscode/.local/lib/python3.8/site-packages/imblearn/over_sampling/_smote/base.py\", line 505, in _fit_resample\n    X_categorical = X[:, self.categorical_features_]\nIndexError: arrays used as indices must be of integer (or boolean) type\n\nDuring handling of the above exception, another exception occurred:\n\n\u001b[36mray::remote_fn()\u001b[39m (pid=2441, ip=172.1.0.4)\n  File \"/workspaces/predibase/engine/predibase_engine/workflow/util.py\", line 38, in remote_fn\n    return fn(ctx, *args, **kwargs)\n  File \"/workspaces/predibase/engine/predibase_engine/workflow/activities.py\", line 59, in preprocess_model\n    success = preprocess_step(\n  File \"/workspaces/predibase/engine/predibase_engine/train/__init__.py\", line 129, in preprocess_step\n    model.preprocess(\n  File \"/workspaces/ludwig/ludwig/api.py\", line 1408, in preprocess\n    callback.on_preprocess_end(proc_training_set, proc_validation_set, proc_test_set, training_set_metadata)\nUnboundLocalError: local variable 'proc_training_set' referenced before assignment (type: RayTaskError(UnboundLocalError), retryable: true)\n"
     ]
    }
   ],
   "source": [
    "# with SMOTE\n",
    "model = repo.latest()\n",
    "draft = model.to_draft()\n",
    "draft.config['preprocessing']['smote'] = True\n",
    "model_smote = draft.train()"
   ]
  },
  {
   "cell_type": "code",
   "execution_count": null,
   "metadata": {},
   "outputs": [],
   "source": []
  }
 ],
 "metadata": {
  "kernelspec": {
   "display_name": "Python 3.8.14 64-bit",
   "language": "python",
   "name": "python3"
  },
  "language_info": {
   "codemirror_mode": {
    "name": "ipython",
    "version": 3
   },
   "file_extension": ".py",
   "mimetype": "text/x-python",
   "name": "python",
   "nbconvert_exporter": "python",
   "pygments_lexer": "ipython3",
   "version": "3.8.14"
  },
  "orig_nbformat": 4,
  "vscode": {
   "interpreter": {
    "hash": "949777d72b0d2535278d3dc13498b2535136f6dfe0678499012e853ee9abcab1"
   }
  }
 },
 "nbformat": 4,
 "nbformat_minor": 2
}
