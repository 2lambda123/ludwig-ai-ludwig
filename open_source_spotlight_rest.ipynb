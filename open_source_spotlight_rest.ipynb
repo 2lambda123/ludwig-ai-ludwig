{
 "cells": [
  {
   "cell_type": "markdown",
   "id": "c7800803-f37d-4e01-bf83-2d8b34ef6ea1",
   "metadata": {},
   "source": [
    "# Query a serving model"
   ]
  },
  {
   "cell_type": "code",
   "execution_count": 3,
   "id": "a6e42b19-11be-4a98-b289-df7eab1de392",
   "metadata": {},
   "outputs": [
    {
     "name": "stdout",
     "output_type": "stream",
     "text": [
      "{\"recommended_probabilities\":[0.4712520241737366,0.5287479758262634],\"recommended_predictions\":true,\"recommended_probabilities_False\":0.4712520241737366,\"recommended_probabilities_True\":0.5287479758262634,\"recommended_probability\":0.5287479758262634}"
     ]
    }
   ],
   "source": [
    "!curl http://0.0.0.0:8000/predict -X POST -F \"content_rating=R\" -F \"runtime=88.0\" -F \"top_critic=TRUE\""
   ]
  },
  {
   "cell_type": "markdown",
   "id": "a1ee282a-f146-4e6b-b577-16625b4912bd",
   "metadata": {},
   "source": [
    "# Serving on specialized hardware?"
   ]
  }
 ],
 "metadata": {
  "kernelspec": {
   "display_name": "Python 3 (ipykernel)",
   "language": "python",
   "name": "python3"
  },
  "language_info": {
   "codemirror_mode": {
    "name": "ipython",
    "version": 3
   },
   "file_extension": ".py",
   "mimetype": "text/x-python",
   "name": "python",
   "nbconvert_exporter": "python",
   "pygments_lexer": "ipython3",
   "version": "3.8.14"
  }
 },
 "nbformat": 4,
 "nbformat_minor": 5
}
